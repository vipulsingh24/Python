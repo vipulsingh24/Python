{
 "cells": [
  {
   "cell_type": "code",
   "execution_count": 2,
   "metadata": {
    "collapsed": true
   },
   "outputs": [],
   "source": [
    "import pandas as pd\n",
    "import numpy as np"
   ]
  },
  {
   "cell_type": "markdown",
   "metadata": {},
   "source": [
    "# Series\n",
    "one-dimensional"
   ]
  },
  {
   "cell_type": "code",
   "execution_count": 3,
   "metadata": {},
   "outputs": [
    {
     "data": {
      "text/plain": [
       "0    1.0\n",
       "1    2.0\n",
       "2    3.0\n",
       "3    4.0\n",
       "4    NaN\n",
       "dtype: float64"
      ]
     },
     "execution_count": 3,
     "metadata": {},
     "output_type": "execute_result"
    }
   ],
   "source": [
    "s = pd.Series([1,2,3,4,np.nan])\n",
    "s"
   ]
  },
  {
   "cell_type": "code",
   "execution_count": 4,
   "metadata": {},
   "outputs": [
    {
     "data": {
      "text/plain": [
       "DatetimeIndex(['2018-02-13', '2018-02-14', '2018-02-15', '2018-02-16',\n",
       "               '2018-02-17', '2018-02-18', '2018-02-19'],\n",
       "              dtype='datetime64[ns]', freq='D')"
      ]
     },
     "execution_count": 4,
     "metadata": {},
     "output_type": "execute_result"
    }
   ],
   "source": [
    "dates = pd.date_range('20180213', periods=7)\n",
    "dates"
   ]
  },
  {
   "cell_type": "markdown",
   "metadata": {},
   "source": [
    " # DataFrame\n",
    " two-dimensional"
   ]
  },
  {
   "cell_type": "code",
   "execution_count": 7,
   "metadata": {},
   "outputs": [
    {
     "data": {
      "text/html": [
       "<div>\n",
       "<style>\n",
       "    .dataframe thead tr:only-child th {\n",
       "        text-align: right;\n",
       "    }\n",
       "\n",
       "    .dataframe thead th {\n",
       "        text-align: left;\n",
       "    }\n",
       "\n",
       "    .dataframe tbody tr th {\n",
       "        vertical-align: top;\n",
       "    }\n",
       "</style>\n",
       "<table border=\"1\" class=\"dataframe\">\n",
       "  <thead>\n",
       "    <tr style=\"text-align: right;\">\n",
       "      <th></th>\n",
       "      <th>A</th>\n",
       "      <th>B</th>\n",
       "      <th>C</th>\n",
       "      <th>D</th>\n",
       "    </tr>\n",
       "  </thead>\n",
       "  <tbody>\n",
       "    <tr>\n",
       "      <th>2018-02-13</th>\n",
       "      <td>1.314583</td>\n",
       "      <td>-0.796022</td>\n",
       "      <td>-1.045282</td>\n",
       "      <td>-0.582569</td>\n",
       "    </tr>\n",
       "    <tr>\n",
       "      <th>2018-02-14</th>\n",
       "      <td>-0.494383</td>\n",
       "      <td>-1.812418</td>\n",
       "      <td>0.392011</td>\n",
       "      <td>2.177406</td>\n",
       "    </tr>\n",
       "    <tr>\n",
       "      <th>2018-02-15</th>\n",
       "      <td>2.160203</td>\n",
       "      <td>0.349930</td>\n",
       "      <td>-1.613977</td>\n",
       "      <td>-0.993914</td>\n",
       "    </tr>\n",
       "    <tr>\n",
       "      <th>2018-02-16</th>\n",
       "      <td>-1.018225</td>\n",
       "      <td>0.629277</td>\n",
       "      <td>-1.888395</td>\n",
       "      <td>-0.757447</td>\n",
       "    </tr>\n",
       "    <tr>\n",
       "      <th>2018-02-17</th>\n",
       "      <td>-1.096299</td>\n",
       "      <td>2.092237</td>\n",
       "      <td>0.280251</td>\n",
       "      <td>0.292239</td>\n",
       "    </tr>\n",
       "    <tr>\n",
       "      <th>2018-02-18</th>\n",
       "      <td>0.513296</td>\n",
       "      <td>-0.625118</td>\n",
       "      <td>0.000796</td>\n",
       "      <td>-0.366454</td>\n",
       "    </tr>\n",
       "    <tr>\n",
       "      <th>2018-02-19</th>\n",
       "      <td>-1.349954</td>\n",
       "      <td>0.638369</td>\n",
       "      <td>-0.632032</td>\n",
       "      <td>-0.979503</td>\n",
       "    </tr>\n",
       "  </tbody>\n",
       "</table>\n",
       "</div>"
      ],
      "text/plain": [
       "                   A         B         C         D\n",
       "2018-02-13  1.314583 -0.796022 -1.045282 -0.582569\n",
       "2018-02-14 -0.494383 -1.812418  0.392011  2.177406\n",
       "2018-02-15  2.160203  0.349930 -1.613977 -0.993914\n",
       "2018-02-16 -1.018225  0.629277 -1.888395 -0.757447\n",
       "2018-02-17 -1.096299  2.092237  0.280251  0.292239\n",
       "2018-02-18  0.513296 -0.625118  0.000796 -0.366454\n",
       "2018-02-19 -1.349954  0.638369 -0.632032 -0.979503"
      ]
     },
     "execution_count": 7,
     "metadata": {},
     "output_type": "execute_result"
    }
   ],
   "source": [
    "df = pd.DataFrame(np.random.randn(7,4), index=dates, columns=['A', 'B', 'C', 'D'])\n",
    "df"
   ]
  },
  {
   "cell_type": "code",
   "execution_count": 11,
   "metadata": {},
   "outputs": [
    {
     "name": "stdout",
     "output_type": "stream",
     "text": [
      "   A          B    C  D      E    F\n",
      "0  1 2018-02-13  1.0  3   test  foo\n",
      "1  1 2018-02-13  1.0  3  train  foo\n",
      "2  1 2018-02-13  1.0  3   test  foo\n",
      "3  1 2018-02-13  1.0  3  train  foo\n",
      "\n",
      "\n",
      "A             int64\n",
      "B    datetime64[ns]\n",
      "C           float32\n",
      "D             int32\n",
      "E          category\n",
      "F            object\n",
      "dtype: object\n"
     ]
    }
   ],
   "source": [
    "df2 = pd.DataFrame({'A':1,\n",
    "                    'B': pd.Timestamp('20180213'),\n",
    "                    'C': pd.Series(1, index=list(range(4)), dtype='float32'),\n",
    "                    'D': np.array([3]*4, dtype='int32'),\n",
    "                    'E': pd.Categorical(['test', 'train', 'test', 'train']),\n",
    "                    'F': 'foo'\n",
    "                   })\n",
    "print(df2)\n",
    "print('\\n')\n",
    "print(df2.dtypes)"
   ]
  },
  {
   "cell_type": "markdown",
   "metadata": {},
   "source": [
    "# Data Selection"
   ]
  },
  {
   "cell_type": "markdown",
   "metadata": {},
   "source": [
    "dataframe.head(n)  -> First 'n' rows by default 5"
   ]
  },
  {
   "cell_type": "code",
   "execution_count": 13,
   "metadata": {},
   "outputs": [
    {
     "data": {
      "text/html": [
       "<div>\n",
       "<style>\n",
       "    .dataframe thead tr:only-child th {\n",
       "        text-align: right;\n",
       "    }\n",
       "\n",
       "    .dataframe thead th {\n",
       "        text-align: left;\n",
       "    }\n",
       "\n",
       "    .dataframe tbody tr th {\n",
       "        vertical-align: top;\n",
       "    }\n",
       "</style>\n",
       "<table border=\"1\" class=\"dataframe\">\n",
       "  <thead>\n",
       "    <tr style=\"text-align: right;\">\n",
       "      <th></th>\n",
       "      <th>A</th>\n",
       "      <th>B</th>\n",
       "      <th>C</th>\n",
       "      <th>D</th>\n",
       "    </tr>\n",
       "  </thead>\n",
       "  <tbody>\n",
       "    <tr>\n",
       "      <th>2018-02-13</th>\n",
       "      <td>1.314583</td>\n",
       "      <td>-0.796022</td>\n",
       "      <td>-1.045282</td>\n",
       "      <td>-0.582569</td>\n",
       "    </tr>\n",
       "    <tr>\n",
       "      <th>2018-02-14</th>\n",
       "      <td>-0.494383</td>\n",
       "      <td>-1.812418</td>\n",
       "      <td>0.392011</td>\n",
       "      <td>2.177406</td>\n",
       "    </tr>\n",
       "    <tr>\n",
       "      <th>2018-02-15</th>\n",
       "      <td>2.160203</td>\n",
       "      <td>0.349930</td>\n",
       "      <td>-1.613977</td>\n",
       "      <td>-0.993914</td>\n",
       "    </tr>\n",
       "    <tr>\n",
       "      <th>2018-02-16</th>\n",
       "      <td>-1.018225</td>\n",
       "      <td>0.629277</td>\n",
       "      <td>-1.888395</td>\n",
       "      <td>-0.757447</td>\n",
       "    </tr>\n",
       "    <tr>\n",
       "      <th>2018-02-17</th>\n",
       "      <td>-1.096299</td>\n",
       "      <td>2.092237</td>\n",
       "      <td>0.280251</td>\n",
       "      <td>0.292239</td>\n",
       "    </tr>\n",
       "  </tbody>\n",
       "</table>\n",
       "</div>"
      ],
      "text/plain": [
       "                   A         B         C         D\n",
       "2018-02-13  1.314583 -0.796022 -1.045282 -0.582569\n",
       "2018-02-14 -0.494383 -1.812418  0.392011  2.177406\n",
       "2018-02-15  2.160203  0.349930 -1.613977 -0.993914\n",
       "2018-02-16 -1.018225  0.629277 -1.888395 -0.757447\n",
       "2018-02-17 -1.096299  2.092237  0.280251  0.292239"
      ]
     },
     "execution_count": 13,
     "metadata": {},
     "output_type": "execute_result"
    }
   ],
   "source": [
    "df.head()"
   ]
  },
  {
   "cell_type": "markdown",
   "metadata": {},
   "source": [
    "dataframe.tail(n)  ->  Last 'n' rows by default 5"
   ]
  },
  {
   "cell_type": "code",
   "execution_count": 14,
   "metadata": {},
   "outputs": [
    {
     "data": {
      "text/html": [
       "<div>\n",
       "<style>\n",
       "    .dataframe thead tr:only-child th {\n",
       "        text-align: right;\n",
       "    }\n",
       "\n",
       "    .dataframe thead th {\n",
       "        text-align: left;\n",
       "    }\n",
       "\n",
       "    .dataframe tbody tr th {\n",
       "        vertical-align: top;\n",
       "    }\n",
       "</style>\n",
       "<table border=\"1\" class=\"dataframe\">\n",
       "  <thead>\n",
       "    <tr style=\"text-align: right;\">\n",
       "      <th></th>\n",
       "      <th>A</th>\n",
       "      <th>B</th>\n",
       "      <th>C</th>\n",
       "      <th>D</th>\n",
       "    </tr>\n",
       "  </thead>\n",
       "  <tbody>\n",
       "    <tr>\n",
       "      <th>2018-02-15</th>\n",
       "      <td>2.160203</td>\n",
       "      <td>0.349930</td>\n",
       "      <td>-1.613977</td>\n",
       "      <td>-0.993914</td>\n",
       "    </tr>\n",
       "    <tr>\n",
       "      <th>2018-02-16</th>\n",
       "      <td>-1.018225</td>\n",
       "      <td>0.629277</td>\n",
       "      <td>-1.888395</td>\n",
       "      <td>-0.757447</td>\n",
       "    </tr>\n",
       "    <tr>\n",
       "      <th>2018-02-17</th>\n",
       "      <td>-1.096299</td>\n",
       "      <td>2.092237</td>\n",
       "      <td>0.280251</td>\n",
       "      <td>0.292239</td>\n",
       "    </tr>\n",
       "    <tr>\n",
       "      <th>2018-02-18</th>\n",
       "      <td>0.513296</td>\n",
       "      <td>-0.625118</td>\n",
       "      <td>0.000796</td>\n",
       "      <td>-0.366454</td>\n",
       "    </tr>\n",
       "    <tr>\n",
       "      <th>2018-02-19</th>\n",
       "      <td>-1.349954</td>\n",
       "      <td>0.638369</td>\n",
       "      <td>-0.632032</td>\n",
       "      <td>-0.979503</td>\n",
       "    </tr>\n",
       "  </tbody>\n",
       "</table>\n",
       "</div>"
      ],
      "text/plain": [
       "                   A         B         C         D\n",
       "2018-02-15  2.160203  0.349930 -1.613977 -0.993914\n",
       "2018-02-16 -1.018225  0.629277 -1.888395 -0.757447\n",
       "2018-02-17 -1.096299  2.092237  0.280251  0.292239\n",
       "2018-02-18  0.513296 -0.625118  0.000796 -0.366454\n",
       "2018-02-19 -1.349954  0.638369 -0.632032 -0.979503"
      ]
     },
     "execution_count": 14,
     "metadata": {},
     "output_type": "execute_result"
    }
   ],
   "source": [
    "df.tail()"
   ]
  },
  {
   "cell_type": "code",
   "execution_count": 15,
   "metadata": {},
   "outputs": [
    {
     "data": {
      "text/plain": [
       "DatetimeIndex(['2018-02-13', '2018-02-14', '2018-02-15', '2018-02-16',\n",
       "               '2018-02-17', '2018-02-18', '2018-02-19'],\n",
       "              dtype='datetime64[ns]', freq='D')"
      ]
     },
     "execution_count": 15,
     "metadata": {},
     "output_type": "execute_result"
    }
   ],
   "source": [
    "df.index"
   ]
  },
  {
   "cell_type": "code",
   "execution_count": 16,
   "metadata": {},
   "outputs": [
    {
     "data": {
      "text/plain": [
       "Index(['A', 'B', 'C', 'D'], dtype='object')"
      ]
     },
     "execution_count": 16,
     "metadata": {},
     "output_type": "execute_result"
    }
   ],
   "source": [
    "df.columns"
   ]
  },
  {
   "cell_type": "code",
   "execution_count": 17,
   "metadata": {},
   "outputs": [
    {
     "data": {
      "text/plain": [
       "array([[  1.31458335e+00,  -7.96022022e-01,  -1.04528191e+00,\n",
       "         -5.82569428e-01],\n",
       "       [ -4.94383261e-01,  -1.81241825e+00,   3.92010837e-01,\n",
       "          2.17740633e+00],\n",
       "       [  2.16020318e+00,   3.49930076e-01,  -1.61397728e+00,\n",
       "         -9.93914060e-01],\n",
       "       [ -1.01822497e+00,   6.29276678e-01,  -1.88839466e+00,\n",
       "         -7.57446796e-01],\n",
       "       [ -1.09629906e+00,   2.09223691e+00,   2.80251421e-01,\n",
       "          2.92238816e-01],\n",
       "       [  5.13296243e-01,  -6.25117975e-01,   7.96381790e-04,\n",
       "         -3.66454080e-01],\n",
       "       [ -1.34995437e+00,   6.38368665e-01,  -6.32031914e-01,\n",
       "         -9.79503349e-01]])"
      ]
     },
     "execution_count": 17,
     "metadata": {},
     "output_type": "execute_result"
    }
   ],
   "source": [
    "df.values"
   ]
  },
  {
   "cell_type": "markdown",
   "metadata": {},
   "source": [
    "dataframe.describe() gives the summary of whole dataframe"
   ]
  },
  {
   "cell_type": "code",
   "execution_count": 18,
   "metadata": {},
   "outputs": [
    {
     "data": {
      "text/html": [
       "<div>\n",
       "<style>\n",
       "    .dataframe thead tr:only-child th {\n",
       "        text-align: right;\n",
       "    }\n",
       "\n",
       "    .dataframe thead th {\n",
       "        text-align: left;\n",
       "    }\n",
       "\n",
       "    .dataframe tbody tr th {\n",
       "        vertical-align: top;\n",
       "    }\n",
       "</style>\n",
       "<table border=\"1\" class=\"dataframe\">\n",
       "  <thead>\n",
       "    <tr style=\"text-align: right;\">\n",
       "      <th></th>\n",
       "      <th>A</th>\n",
       "      <th>B</th>\n",
       "      <th>C</th>\n",
       "      <th>D</th>\n",
       "    </tr>\n",
       "  </thead>\n",
       "  <tbody>\n",
       "    <tr>\n",
       "      <th>count</th>\n",
       "      <td>7.000000</td>\n",
       "      <td>7.000000</td>\n",
       "      <td>7.000000</td>\n",
       "      <td>7.000000</td>\n",
       "    </tr>\n",
       "    <tr>\n",
       "      <th>mean</th>\n",
       "      <td>0.004174</td>\n",
       "      <td>0.068036</td>\n",
       "      <td>-0.643804</td>\n",
       "      <td>-0.172892</td>\n",
       "    </tr>\n",
       "    <tr>\n",
       "      <th>std</th>\n",
       "      <td>1.351752</td>\n",
       "      <td>1.263612</td>\n",
       "      <td>0.912311</td>\n",
       "      <td>1.126348</td>\n",
       "    </tr>\n",
       "    <tr>\n",
       "      <th>min</th>\n",
       "      <td>-1.349954</td>\n",
       "      <td>-1.812418</td>\n",
       "      <td>-1.888395</td>\n",
       "      <td>-0.993914</td>\n",
       "    </tr>\n",
       "    <tr>\n",
       "      <th>25%</th>\n",
       "      <td>-1.057262</td>\n",
       "      <td>-0.710570</td>\n",
       "      <td>-1.329630</td>\n",
       "      <td>-0.868475</td>\n",
       "    </tr>\n",
       "    <tr>\n",
       "      <th>50%</th>\n",
       "      <td>-0.494383</td>\n",
       "      <td>0.349930</td>\n",
       "      <td>-0.632032</td>\n",
       "      <td>-0.582569</td>\n",
       "    </tr>\n",
       "    <tr>\n",
       "      <th>75%</th>\n",
       "      <td>0.913940</td>\n",
       "      <td>0.633823</td>\n",
       "      <td>0.140524</td>\n",
       "      <td>-0.037108</td>\n",
       "    </tr>\n",
       "    <tr>\n",
       "      <th>max</th>\n",
       "      <td>2.160203</td>\n",
       "      <td>2.092237</td>\n",
       "      <td>0.392011</td>\n",
       "      <td>2.177406</td>\n",
       "    </tr>\n",
       "  </tbody>\n",
       "</table>\n",
       "</div>"
      ],
      "text/plain": [
       "              A         B         C         D\n",
       "count  7.000000  7.000000  7.000000  7.000000\n",
       "mean   0.004174  0.068036 -0.643804 -0.172892\n",
       "std    1.351752  1.263612  0.912311  1.126348\n",
       "min   -1.349954 -1.812418 -1.888395 -0.993914\n",
       "25%   -1.057262 -0.710570 -1.329630 -0.868475\n",
       "50%   -0.494383  0.349930 -0.632032 -0.582569\n",
       "75%    0.913940  0.633823  0.140524 -0.037108\n",
       "max    2.160203  2.092237  0.392011  2.177406"
      ]
     },
     "execution_count": 18,
     "metadata": {},
     "output_type": "execute_result"
    }
   ],
   "source": [
    "df.describe()"
   ]
  },
  {
   "cell_type": "markdown",
   "metadata": {},
   "source": [
    "Transpose the dataframe where index will become column names and column names as index"
   ]
  },
  {
   "cell_type": "code",
   "execution_count": 20,
   "metadata": {},
   "outputs": [
    {
     "name": "stdout",
     "output_type": "stream",
     "text": [
      "Dataframe before transpose:\n",
      "                    A         B         C         D\n",
      "2018-02-13  1.314583 -0.796022 -1.045282 -0.582569\n",
      "2018-02-14 -0.494383 -1.812418  0.392011  2.177406\n",
      "2018-02-15  2.160203  0.349930 -1.613977 -0.993914\n",
      "2018-02-16 -1.018225  0.629277 -1.888395 -0.757447\n",
      "2018-02-17 -1.096299  2.092237  0.280251  0.292239\n",
      "2018-02-18  0.513296 -0.625118  0.000796 -0.366454\n",
      "2018-02-19 -1.349954  0.638369 -0.632032 -0.979503\n",
      "\n",
      "Dataframe after transpose\n",
      "    2018-02-13  2018-02-14  2018-02-15  2018-02-16  2018-02-17  2018-02-18  \\\n",
      "A    1.314583   -0.494383    2.160203   -1.018225   -1.096299    0.513296   \n",
      "B   -0.796022   -1.812418    0.349930    0.629277    2.092237   -0.625118   \n",
      "C   -1.045282    0.392011   -1.613977   -1.888395    0.280251    0.000796   \n",
      "D   -0.582569    2.177406   -0.993914   -0.757447    0.292239   -0.366454   \n",
      "\n",
      "   2018-02-19  \n",
      "A   -1.349954  \n",
      "B    0.638369  \n",
      "C   -0.632032  \n",
      "D   -0.979503  \n"
     ]
    }
   ],
   "source": [
    "print('Dataframe before transpose:\\n', df)\n",
    "print('\\nDataframe after transpose\\n', df.T)"
   ]
  },
  {
   "cell_type": "markdown",
   "metadata": {},
   "source": [
    "Sort the values"
   ]
  },
  {
   "cell_type": "code",
   "execution_count": 21,
   "metadata": {},
   "outputs": [
    {
     "data": {
      "text/html": [
       "<div>\n",
       "<style>\n",
       "    .dataframe thead tr:only-child th {\n",
       "        text-align: right;\n",
       "    }\n",
       "\n",
       "    .dataframe thead th {\n",
       "        text-align: left;\n",
       "    }\n",
       "\n",
       "    .dataframe tbody tr th {\n",
       "        vertical-align: top;\n",
       "    }\n",
       "</style>\n",
       "<table border=\"1\" class=\"dataframe\">\n",
       "  <thead>\n",
       "    <tr style=\"text-align: right;\">\n",
       "      <th></th>\n",
       "      <th>A</th>\n",
       "      <th>B</th>\n",
       "      <th>C</th>\n",
       "      <th>D</th>\n",
       "    </tr>\n",
       "  </thead>\n",
       "  <tbody>\n",
       "    <tr>\n",
       "      <th>2018-02-14</th>\n",
       "      <td>-0.494383</td>\n",
       "      <td>-1.812418</td>\n",
       "      <td>0.392011</td>\n",
       "      <td>2.177406</td>\n",
       "    </tr>\n",
       "    <tr>\n",
       "      <th>2018-02-13</th>\n",
       "      <td>1.314583</td>\n",
       "      <td>-0.796022</td>\n",
       "      <td>-1.045282</td>\n",
       "      <td>-0.582569</td>\n",
       "    </tr>\n",
       "    <tr>\n",
       "      <th>2018-02-18</th>\n",
       "      <td>0.513296</td>\n",
       "      <td>-0.625118</td>\n",
       "      <td>0.000796</td>\n",
       "      <td>-0.366454</td>\n",
       "    </tr>\n",
       "    <tr>\n",
       "      <th>2018-02-15</th>\n",
       "      <td>2.160203</td>\n",
       "      <td>0.349930</td>\n",
       "      <td>-1.613977</td>\n",
       "      <td>-0.993914</td>\n",
       "    </tr>\n",
       "    <tr>\n",
       "      <th>2018-02-16</th>\n",
       "      <td>-1.018225</td>\n",
       "      <td>0.629277</td>\n",
       "      <td>-1.888395</td>\n",
       "      <td>-0.757447</td>\n",
       "    </tr>\n",
       "    <tr>\n",
       "      <th>2018-02-19</th>\n",
       "      <td>-1.349954</td>\n",
       "      <td>0.638369</td>\n",
       "      <td>-0.632032</td>\n",
       "      <td>-0.979503</td>\n",
       "    </tr>\n",
       "    <tr>\n",
       "      <th>2018-02-17</th>\n",
       "      <td>-1.096299</td>\n",
       "      <td>2.092237</td>\n",
       "      <td>0.280251</td>\n",
       "      <td>0.292239</td>\n",
       "    </tr>\n",
       "  </tbody>\n",
       "</table>\n",
       "</div>"
      ],
      "text/plain": [
       "                   A         B         C         D\n",
       "2018-02-14 -0.494383 -1.812418  0.392011  2.177406\n",
       "2018-02-13  1.314583 -0.796022 -1.045282 -0.582569\n",
       "2018-02-18  0.513296 -0.625118  0.000796 -0.366454\n",
       "2018-02-15  2.160203  0.349930 -1.613977 -0.993914\n",
       "2018-02-16 -1.018225  0.629277 -1.888395 -0.757447\n",
       "2018-02-19 -1.349954  0.638369 -0.632032 -0.979503\n",
       "2018-02-17 -1.096299  2.092237  0.280251  0.292239"
      ]
     },
     "execution_count": 21,
     "metadata": {},
     "output_type": "execute_result"
    }
   ],
   "source": [
    "df.sort_values(by='B')"
   ]
  },
  {
   "cell_type": "markdown",
   "metadata": {},
   "source": [
    "Selecting a particular column"
   ]
  },
  {
   "cell_type": "code",
   "execution_count": 22,
   "metadata": {},
   "outputs": [
    {
     "data": {
      "text/plain": [
       "2018-02-13   -1.045282\n",
       "2018-02-14    0.392011\n",
       "2018-02-15   -1.613977\n",
       "2018-02-16   -1.888395\n",
       "2018-02-17    0.280251\n",
       "2018-02-18    0.000796\n",
       "2018-02-19   -0.632032\n",
       "Freq: D, Name: C, dtype: float64"
      ]
     },
     "execution_count": 22,
     "metadata": {},
     "output_type": "execute_result"
    }
   ],
   "source": [
    "df['C']"
   ]
  },
  {
   "cell_type": "markdown",
   "metadata": {},
   "source": [
    "Slice"
   ]
  },
  {
   "cell_type": "code",
   "execution_count": 23,
   "metadata": {},
   "outputs": [
    {
     "data": {
      "text/html": [
       "<div>\n",
       "<style>\n",
       "    .dataframe thead tr:only-child th {\n",
       "        text-align: right;\n",
       "    }\n",
       "\n",
       "    .dataframe thead th {\n",
       "        text-align: left;\n",
       "    }\n",
       "\n",
       "    .dataframe tbody tr th {\n",
       "        vertical-align: top;\n",
       "    }\n",
       "</style>\n",
       "<table border=\"1\" class=\"dataframe\">\n",
       "  <thead>\n",
       "    <tr style=\"text-align: right;\">\n",
       "      <th></th>\n",
       "      <th>A</th>\n",
       "      <th>B</th>\n",
       "      <th>C</th>\n",
       "      <th>D</th>\n",
       "    </tr>\n",
       "  </thead>\n",
       "  <tbody>\n",
       "    <tr>\n",
       "      <th>2018-02-13</th>\n",
       "      <td>1.314583</td>\n",
       "      <td>-0.796022</td>\n",
       "      <td>-1.045282</td>\n",
       "      <td>-0.582569</td>\n",
       "    </tr>\n",
       "    <tr>\n",
       "      <th>2018-02-14</th>\n",
       "      <td>-0.494383</td>\n",
       "      <td>-1.812418</td>\n",
       "      <td>0.392011</td>\n",
       "      <td>2.177406</td>\n",
       "    </tr>\n",
       "    <tr>\n",
       "      <th>2018-02-15</th>\n",
       "      <td>2.160203</td>\n",
       "      <td>0.349930</td>\n",
       "      <td>-1.613977</td>\n",
       "      <td>-0.993914</td>\n",
       "    </tr>\n",
       "  </tbody>\n",
       "</table>\n",
       "</div>"
      ],
      "text/plain": [
       "                   A         B         C         D\n",
       "2018-02-13  1.314583 -0.796022 -1.045282 -0.582569\n",
       "2018-02-14 -0.494383 -1.812418  0.392011  2.177406\n",
       "2018-02-15  2.160203  0.349930 -1.613977 -0.993914"
      ]
     },
     "execution_count": 23,
     "metadata": {},
     "output_type": "execute_result"
    }
   ],
   "source": [
    "df[0:3]"
   ]
  },
  {
   "cell_type": "code",
   "execution_count": 24,
   "metadata": {},
   "outputs": [
    {
     "data": {
      "text/html": [
       "<div>\n",
       "<style>\n",
       "    .dataframe thead tr:only-child th {\n",
       "        text-align: right;\n",
       "    }\n",
       "\n",
       "    .dataframe thead th {\n",
       "        text-align: left;\n",
       "    }\n",
       "\n",
       "    .dataframe tbody tr th {\n",
       "        vertical-align: top;\n",
       "    }\n",
       "</style>\n",
       "<table border=\"1\" class=\"dataframe\">\n",
       "  <thead>\n",
       "    <tr style=\"text-align: right;\">\n",
       "      <th></th>\n",
       "      <th>A</th>\n",
       "      <th>B</th>\n",
       "      <th>C</th>\n",
       "      <th>D</th>\n",
       "    </tr>\n",
       "  </thead>\n",
       "  <tbody>\n",
       "    <tr>\n",
       "      <th>2018-02-15</th>\n",
       "      <td>2.160203</td>\n",
       "      <td>0.349930</td>\n",
       "      <td>-1.613977</td>\n",
       "      <td>-0.993914</td>\n",
       "    </tr>\n",
       "    <tr>\n",
       "      <th>2018-02-16</th>\n",
       "      <td>-1.018225</td>\n",
       "      <td>0.629277</td>\n",
       "      <td>-1.888395</td>\n",
       "      <td>-0.757447</td>\n",
       "    </tr>\n",
       "    <tr>\n",
       "      <th>2018-02-17</th>\n",
       "      <td>-1.096299</td>\n",
       "      <td>2.092237</td>\n",
       "      <td>0.280251</td>\n",
       "      <td>0.292239</td>\n",
       "    </tr>\n",
       "    <tr>\n",
       "      <th>2018-02-18</th>\n",
       "      <td>0.513296</td>\n",
       "      <td>-0.625118</td>\n",
       "      <td>0.000796</td>\n",
       "      <td>-0.366454</td>\n",
       "    </tr>\n",
       "    <tr>\n",
       "      <th>2018-02-19</th>\n",
       "      <td>-1.349954</td>\n",
       "      <td>0.638369</td>\n",
       "      <td>-0.632032</td>\n",
       "      <td>-0.979503</td>\n",
       "    </tr>\n",
       "  </tbody>\n",
       "</table>\n",
       "</div>"
      ],
      "text/plain": [
       "                   A         B         C         D\n",
       "2018-02-15  2.160203  0.349930 -1.613977 -0.993914\n",
       "2018-02-16 -1.018225  0.629277 -1.888395 -0.757447\n",
       "2018-02-17 -1.096299  2.092237  0.280251  0.292239\n",
       "2018-02-18  0.513296 -0.625118  0.000796 -0.366454\n",
       "2018-02-19 -1.349954  0.638369 -0.632032 -0.979503"
      ]
     },
     "execution_count": 24,
     "metadata": {},
     "output_type": "execute_result"
    }
   ],
   "source": [
    "df['2018-02-15':'2018-02-19']"
   ]
  },
  {
   "cell_type": "markdown",
   "metadata": {},
   "source": [
    "Selecting using label"
   ]
  },
  {
   "cell_type": "code",
   "execution_count": 25,
   "metadata": {},
   "outputs": [
    {
     "data": {
      "text/plain": [
       "A    1.314583\n",
       "B   -0.796022\n",
       "C   -1.045282\n",
       "D   -0.582569\n",
       "Name: 2018-02-13 00:00:00, dtype: float64"
      ]
     },
     "execution_count": 25,
     "metadata": {},
     "output_type": "execute_result"
    }
   ],
   "source": [
    "df.loc[dates[0]]"
   ]
  },
  {
   "cell_type": "code",
   "execution_count": 27,
   "metadata": {},
   "outputs": [
    {
     "data": {
      "text/html": [
       "<div>\n",
       "<style>\n",
       "    .dataframe thead tr:only-child th {\n",
       "        text-align: right;\n",
       "    }\n",
       "\n",
       "    .dataframe thead th {\n",
       "        text-align: left;\n",
       "    }\n",
       "\n",
       "    .dataframe tbody tr th {\n",
       "        vertical-align: top;\n",
       "    }\n",
       "</style>\n",
       "<table border=\"1\" class=\"dataframe\">\n",
       "  <thead>\n",
       "    <tr style=\"text-align: right;\">\n",
       "      <th></th>\n",
       "      <th>A</th>\n",
       "      <th>B</th>\n",
       "    </tr>\n",
       "  </thead>\n",
       "  <tbody>\n",
       "    <tr>\n",
       "      <th>2018-02-13</th>\n",
       "      <td>1.314583</td>\n",
       "      <td>-0.796022</td>\n",
       "    </tr>\n",
       "    <tr>\n",
       "      <th>2018-02-14</th>\n",
       "      <td>-0.494383</td>\n",
       "      <td>-1.812418</td>\n",
       "    </tr>\n",
       "    <tr>\n",
       "      <th>2018-02-15</th>\n",
       "      <td>2.160203</td>\n",
       "      <td>0.349930</td>\n",
       "    </tr>\n",
       "    <tr>\n",
       "      <th>2018-02-16</th>\n",
       "      <td>-1.018225</td>\n",
       "      <td>0.629277</td>\n",
       "    </tr>\n",
       "    <tr>\n",
       "      <th>2018-02-17</th>\n",
       "      <td>-1.096299</td>\n",
       "      <td>2.092237</td>\n",
       "    </tr>\n",
       "    <tr>\n",
       "      <th>2018-02-18</th>\n",
       "      <td>0.513296</td>\n",
       "      <td>-0.625118</td>\n",
       "    </tr>\n",
       "    <tr>\n",
       "      <th>2018-02-19</th>\n",
       "      <td>-1.349954</td>\n",
       "      <td>0.638369</td>\n",
       "    </tr>\n",
       "  </tbody>\n",
       "</table>\n",
       "</div>"
      ],
      "text/plain": [
       "                   A         B\n",
       "2018-02-13  1.314583 -0.796022\n",
       "2018-02-14 -0.494383 -1.812418\n",
       "2018-02-15  2.160203  0.349930\n",
       "2018-02-16 -1.018225  0.629277\n",
       "2018-02-17 -1.096299  2.092237\n",
       "2018-02-18  0.513296 -0.625118\n",
       "2018-02-19 -1.349954  0.638369"
      ]
     },
     "execution_count": 27,
     "metadata": {},
     "output_type": "execute_result"
    }
   ],
   "source": [
    "df.loc[:, ['A', 'B']]"
   ]
  },
  {
   "cell_type": "code",
   "execution_count": 29,
   "metadata": {},
   "outputs": [
    {
     "data": {
      "text/html": [
       "<div>\n",
       "<style>\n",
       "    .dataframe thead tr:only-child th {\n",
       "        text-align: right;\n",
       "    }\n",
       "\n",
       "    .dataframe thead th {\n",
       "        text-align: left;\n",
       "    }\n",
       "\n",
       "    .dataframe tbody tr th {\n",
       "        vertical-align: top;\n",
       "    }\n",
       "</style>\n",
       "<table border=\"1\" class=\"dataframe\">\n",
       "  <thead>\n",
       "    <tr style=\"text-align: right;\">\n",
       "      <th></th>\n",
       "      <th>A</th>\n",
       "      <th>B</th>\n",
       "      <th>D</th>\n",
       "    </tr>\n",
       "  </thead>\n",
       "  <tbody>\n",
       "    <tr>\n",
       "      <th>2018-02-15</th>\n",
       "      <td>2.160203</td>\n",
       "      <td>0.349930</td>\n",
       "      <td>-0.993914</td>\n",
       "    </tr>\n",
       "    <tr>\n",
       "      <th>2018-02-16</th>\n",
       "      <td>-1.018225</td>\n",
       "      <td>0.629277</td>\n",
       "      <td>-0.757447</td>\n",
       "    </tr>\n",
       "    <tr>\n",
       "      <th>2018-02-17</th>\n",
       "      <td>-1.096299</td>\n",
       "      <td>2.092237</td>\n",
       "      <td>0.292239</td>\n",
       "    </tr>\n",
       "    <tr>\n",
       "      <th>2018-02-18</th>\n",
       "      <td>0.513296</td>\n",
       "      <td>-0.625118</td>\n",
       "      <td>-0.366454</td>\n",
       "    </tr>\n",
       "  </tbody>\n",
       "</table>\n",
       "</div>"
      ],
      "text/plain": [
       "                   A         B         D\n",
       "2018-02-15  2.160203  0.349930 -0.993914\n",
       "2018-02-16 -1.018225  0.629277 -0.757447\n",
       "2018-02-17 -1.096299  2.092237  0.292239\n",
       "2018-02-18  0.513296 -0.625118 -0.366454"
      ]
     },
     "execution_count": 29,
     "metadata": {},
     "output_type": "execute_result"
    }
   ],
   "source": [
    "df.loc['2018-02-15':'2018-02-18', ['A', 'B','D']]"
   ]
  },
  {
   "cell_type": "code",
   "execution_count": 30,
   "metadata": {},
   "outputs": [
    {
     "data": {
      "text/html": [
       "<div>\n",
       "<style>\n",
       "    .dataframe thead tr:only-child th {\n",
       "        text-align: right;\n",
       "    }\n",
       "\n",
       "    .dataframe thead th {\n",
       "        text-align: left;\n",
       "    }\n",
       "\n",
       "    .dataframe tbody tr th {\n",
       "        vertical-align: top;\n",
       "    }\n",
       "</style>\n",
       "<table border=\"1\" class=\"dataframe\">\n",
       "  <thead>\n",
       "    <tr style=\"text-align: right;\">\n",
       "      <th></th>\n",
       "      <th>A</th>\n",
       "      <th>B</th>\n",
       "      <th>C</th>\n",
       "      <th>D</th>\n",
       "    </tr>\n",
       "  </thead>\n",
       "  <tbody>\n",
       "    <tr>\n",
       "      <th>2018-02-13</th>\n",
       "      <td>1.314583</td>\n",
       "      <td>-0.796022</td>\n",
       "      <td>-1.045282</td>\n",
       "      <td>-0.582569</td>\n",
       "    </tr>\n",
       "    <tr>\n",
       "      <th>2018-02-14</th>\n",
       "      <td>-0.494383</td>\n",
       "      <td>-1.812418</td>\n",
       "      <td>0.392011</td>\n",
       "      <td>2.177406</td>\n",
       "    </tr>\n",
       "    <tr>\n",
       "      <th>2018-02-15</th>\n",
       "      <td>2.160203</td>\n",
       "      <td>0.349930</td>\n",
       "      <td>-1.613977</td>\n",
       "      <td>-0.993914</td>\n",
       "    </tr>\n",
       "    <tr>\n",
       "      <th>2018-02-16</th>\n",
       "      <td>-1.018225</td>\n",
       "      <td>0.629277</td>\n",
       "      <td>-1.888395</td>\n",
       "      <td>-0.757447</td>\n",
       "    </tr>\n",
       "    <tr>\n",
       "      <th>2018-02-17</th>\n",
       "      <td>-1.096299</td>\n",
       "      <td>2.092237</td>\n",
       "      <td>0.280251</td>\n",
       "      <td>0.292239</td>\n",
       "    </tr>\n",
       "    <tr>\n",
       "      <th>2018-02-18</th>\n",
       "      <td>0.513296</td>\n",
       "      <td>-0.625118</td>\n",
       "      <td>0.000796</td>\n",
       "      <td>-0.366454</td>\n",
       "    </tr>\n",
       "    <tr>\n",
       "      <th>2018-02-19</th>\n",
       "      <td>-1.349954</td>\n",
       "      <td>0.638369</td>\n",
       "      <td>-0.632032</td>\n",
       "      <td>-0.979503</td>\n",
       "    </tr>\n",
       "  </tbody>\n",
       "</table>\n",
       "</div>"
      ],
      "text/plain": [
       "                   A         B         C         D\n",
       "2018-02-13  1.314583 -0.796022 -1.045282 -0.582569\n",
       "2018-02-14 -0.494383 -1.812418  0.392011  2.177406\n",
       "2018-02-15  2.160203  0.349930 -1.613977 -0.993914\n",
       "2018-02-16 -1.018225  0.629277 -1.888395 -0.757447\n",
       "2018-02-17 -1.096299  2.092237  0.280251  0.292239\n",
       "2018-02-18  0.513296 -0.625118  0.000796 -0.366454\n",
       "2018-02-19 -1.349954  0.638369 -0.632032 -0.979503"
      ]
     },
     "execution_count": 30,
     "metadata": {},
     "output_type": "execute_result"
    }
   ],
   "source": [
    "df"
   ]
  },
  {
   "cell_type": "code",
   "execution_count": 31,
   "metadata": {},
   "outputs": [
    {
     "data": {
      "text/plain": [
       "1.3145833458901006"
      ]
     },
     "execution_count": 31,
     "metadata": {},
     "output_type": "execute_result"
    }
   ],
   "source": [
    "df.loc[dates[0], 'A']"
   ]
  },
  {
   "cell_type": "markdown",
   "metadata": {},
   "source": [
    "Selection by position -> df.iloc[]"
   ]
  },
  {
   "cell_type": "code",
   "execution_count": 33,
   "metadata": {},
   "outputs": [
    {
     "data": {
      "text/plain": [
       "A   -1.018225\n",
       "B    0.629277\n",
       "C   -1.888395\n",
       "D   -0.757447\n",
       "Name: 2018-02-16 00:00:00, dtype: float64"
      ]
     },
     "execution_count": 33,
     "metadata": {},
     "output_type": "execute_result"
    }
   ],
   "source": [
    "df.iloc[3]    # Fourth row od dataframe"
   ]
  },
  {
   "cell_type": "code",
   "execution_count": 34,
   "metadata": {},
   "outputs": [
    {
     "data": {
      "text/html": [
       "<div>\n",
       "<style>\n",
       "    .dataframe thead tr:only-child th {\n",
       "        text-align: right;\n",
       "    }\n",
       "\n",
       "    .dataframe thead th {\n",
       "        text-align: left;\n",
       "    }\n",
       "\n",
       "    .dataframe tbody tr th {\n",
       "        vertical-align: top;\n",
       "    }\n",
       "</style>\n",
       "<table border=\"1\" class=\"dataframe\">\n",
       "  <thead>\n",
       "    <tr style=\"text-align: right;\">\n",
       "      <th></th>\n",
       "      <th>B</th>\n",
       "      <th>C</th>\n",
       "      <th>D</th>\n",
       "    </tr>\n",
       "  </thead>\n",
       "  <tbody>\n",
       "    <tr>\n",
       "      <th>2018-02-16</th>\n",
       "      <td>0.629277</td>\n",
       "      <td>-1.888395</td>\n",
       "      <td>-0.757447</td>\n",
       "    </tr>\n",
       "    <tr>\n",
       "      <th>2018-02-17</th>\n",
       "      <td>2.092237</td>\n",
       "      <td>0.280251</td>\n",
       "      <td>0.292239</td>\n",
       "    </tr>\n",
       "  </tbody>\n",
       "</table>\n",
       "</div>"
      ],
      "text/plain": [
       "                   B         C         D\n",
       "2018-02-16  0.629277 -1.888395 -0.757447\n",
       "2018-02-17  2.092237  0.280251  0.292239"
      ]
     },
     "execution_count": 34,
     "metadata": {},
     "output_type": "execute_result"
    }
   ],
   "source": [
    "df.iloc[3:5, 1:4]"
   ]
  },
  {
   "cell_type": "code",
   "execution_count": 36,
   "metadata": {},
   "outputs": [
    {
     "data": {
      "text/html": [
       "<div>\n",
       "<style>\n",
       "    .dataframe thead tr:only-child th {\n",
       "        text-align: right;\n",
       "    }\n",
       "\n",
       "    .dataframe thead th {\n",
       "        text-align: left;\n",
       "    }\n",
       "\n",
       "    .dataframe tbody tr th {\n",
       "        vertical-align: top;\n",
       "    }\n",
       "</style>\n",
       "<table border=\"1\" class=\"dataframe\">\n",
       "  <thead>\n",
       "    <tr style=\"text-align: right;\">\n",
       "      <th></th>\n",
       "      <th>C</th>\n",
       "      <th>D</th>\n",
       "    </tr>\n",
       "  </thead>\n",
       "  <tbody>\n",
       "    <tr>\n",
       "      <th>2018-02-14</th>\n",
       "      <td>0.392011</td>\n",
       "      <td>2.177406</td>\n",
       "    </tr>\n",
       "    <tr>\n",
       "      <th>2018-02-15</th>\n",
       "      <td>-1.613977</td>\n",
       "      <td>-0.993914</td>\n",
       "    </tr>\n",
       "    <tr>\n",
       "      <th>2018-02-18</th>\n",
       "      <td>0.000796</td>\n",
       "      <td>-0.366454</td>\n",
       "    </tr>\n",
       "  </tbody>\n",
       "</table>\n",
       "</div>"
      ],
      "text/plain": [
       "                   C         D\n",
       "2018-02-14  0.392011  2.177406\n",
       "2018-02-15 -1.613977 -0.993914\n",
       "2018-02-18  0.000796 -0.366454"
      ]
     },
     "execution_count": 36,
     "metadata": {},
     "output_type": "execute_result"
    }
   ],
   "source": [
    "df.iloc[[1,2,5],[2,3]]"
   ]
  },
  {
   "cell_type": "code",
   "execution_count": 38,
   "metadata": {},
   "outputs": [
    {
     "data": {
      "text/html": [
       "<div>\n",
       "<style>\n",
       "    .dataframe thead tr:only-child th {\n",
       "        text-align: right;\n",
       "    }\n",
       "\n",
       "    .dataframe thead th {\n",
       "        text-align: left;\n",
       "    }\n",
       "\n",
       "    .dataframe tbody tr th {\n",
       "        vertical-align: top;\n",
       "    }\n",
       "</style>\n",
       "<table border=\"1\" class=\"dataframe\">\n",
       "  <thead>\n",
       "    <tr style=\"text-align: right;\">\n",
       "      <th></th>\n",
       "      <th>A</th>\n",
       "      <th>B</th>\n",
       "      <th>C</th>\n",
       "      <th>D</th>\n",
       "    </tr>\n",
       "  </thead>\n",
       "  <tbody>\n",
       "    <tr>\n",
       "      <th>2018-02-14</th>\n",
       "      <td>-0.494383</td>\n",
       "      <td>-1.812418</td>\n",
       "      <td>0.392011</td>\n",
       "      <td>2.177406</td>\n",
       "    </tr>\n",
       "    <tr>\n",
       "      <th>2018-02-15</th>\n",
       "      <td>2.160203</td>\n",
       "      <td>0.349930</td>\n",
       "      <td>-1.613977</td>\n",
       "      <td>-0.993914</td>\n",
       "    </tr>\n",
       "  </tbody>\n",
       "</table>\n",
       "</div>"
      ],
      "text/plain": [
       "                   A         B         C         D\n",
       "2018-02-14 -0.494383 -1.812418  0.392011  2.177406\n",
       "2018-02-15  2.160203  0.349930 -1.613977 -0.993914"
      ]
     },
     "execution_count": 38,
     "metadata": {},
     "output_type": "execute_result"
    }
   ],
   "source": [
    "df.iloc[1:3, :]"
   ]
  },
  {
   "cell_type": "code",
   "execution_count": 39,
   "metadata": {},
   "outputs": [
    {
     "data": {
      "text/html": [
       "<div>\n",
       "<style>\n",
       "    .dataframe thead tr:only-child th {\n",
       "        text-align: right;\n",
       "    }\n",
       "\n",
       "    .dataframe thead th {\n",
       "        text-align: left;\n",
       "    }\n",
       "\n",
       "    .dataframe tbody tr th {\n",
       "        vertical-align: top;\n",
       "    }\n",
       "</style>\n",
       "<table border=\"1\" class=\"dataframe\">\n",
       "  <thead>\n",
       "    <tr style=\"text-align: right;\">\n",
       "      <th></th>\n",
       "      <th>B</th>\n",
       "      <th>C</th>\n",
       "    </tr>\n",
       "  </thead>\n",
       "  <tbody>\n",
       "    <tr>\n",
       "      <th>2018-02-13</th>\n",
       "      <td>-0.796022</td>\n",
       "      <td>-1.045282</td>\n",
       "    </tr>\n",
       "    <tr>\n",
       "      <th>2018-02-14</th>\n",
       "      <td>-1.812418</td>\n",
       "      <td>0.392011</td>\n",
       "    </tr>\n",
       "    <tr>\n",
       "      <th>2018-02-15</th>\n",
       "      <td>0.349930</td>\n",
       "      <td>-1.613977</td>\n",
       "    </tr>\n",
       "    <tr>\n",
       "      <th>2018-02-16</th>\n",
       "      <td>0.629277</td>\n",
       "      <td>-1.888395</td>\n",
       "    </tr>\n",
       "    <tr>\n",
       "      <th>2018-02-17</th>\n",
       "      <td>2.092237</td>\n",
       "      <td>0.280251</td>\n",
       "    </tr>\n",
       "    <tr>\n",
       "      <th>2018-02-18</th>\n",
       "      <td>-0.625118</td>\n",
       "      <td>0.000796</td>\n",
       "    </tr>\n",
       "    <tr>\n",
       "      <th>2018-02-19</th>\n",
       "      <td>0.638369</td>\n",
       "      <td>-0.632032</td>\n",
       "    </tr>\n",
       "  </tbody>\n",
       "</table>\n",
       "</div>"
      ],
      "text/plain": [
       "                   B         C\n",
       "2018-02-13 -0.796022 -1.045282\n",
       "2018-02-14 -1.812418  0.392011\n",
       "2018-02-15  0.349930 -1.613977\n",
       "2018-02-16  0.629277 -1.888395\n",
       "2018-02-17  2.092237  0.280251\n",
       "2018-02-18 -0.625118  0.000796\n",
       "2018-02-19  0.638369 -0.632032"
      ]
     },
     "execution_count": 39,
     "metadata": {},
     "output_type": "execute_result"
    }
   ],
   "source": [
    "df.iloc[:, 1:3]"
   ]
  },
  {
   "cell_type": "code",
   "execution_count": 40,
   "metadata": {},
   "outputs": [
    {
     "data": {
      "text/plain": [
       "-1.6139772794553513"
      ]
     },
     "execution_count": 40,
     "metadata": {},
     "output_type": "execute_result"
    }
   ],
   "source": [
    "df.iloc[2,2]"
   ]
  },
  {
   "cell_type": "markdown",
   "metadata": {},
   "source": [
    "Boolean Indexing"
   ]
  },
  {
   "cell_type": "code",
   "execution_count": 42,
   "metadata": {},
   "outputs": [
    {
     "data": {
      "text/html": [
       "<div>\n",
       "<style>\n",
       "    .dataframe thead tr:only-child th {\n",
       "        text-align: right;\n",
       "    }\n",
       "\n",
       "    .dataframe thead th {\n",
       "        text-align: left;\n",
       "    }\n",
       "\n",
       "    .dataframe tbody tr th {\n",
       "        vertical-align: top;\n",
       "    }\n",
       "</style>\n",
       "<table border=\"1\" class=\"dataframe\">\n",
       "  <thead>\n",
       "    <tr style=\"text-align: right;\">\n",
       "      <th></th>\n",
       "      <th>A</th>\n",
       "      <th>B</th>\n",
       "      <th>C</th>\n",
       "      <th>D</th>\n",
       "    </tr>\n",
       "  </thead>\n",
       "  <tbody>\n",
       "    <tr>\n",
       "      <th>2018-02-13</th>\n",
       "      <td>1.314583</td>\n",
       "      <td>-0.796022</td>\n",
       "      <td>NaN</td>\n",
       "      <td>-0.582569</td>\n",
       "    </tr>\n",
       "    <tr>\n",
       "      <th>2018-02-14</th>\n",
       "      <td>-0.494383</td>\n",
       "      <td>NaN</td>\n",
       "      <td>0.392011</td>\n",
       "      <td>2.177406</td>\n",
       "    </tr>\n",
       "    <tr>\n",
       "      <th>2018-02-15</th>\n",
       "      <td>2.160203</td>\n",
       "      <td>0.349930</td>\n",
       "      <td>NaN</td>\n",
       "      <td>-0.993914</td>\n",
       "    </tr>\n",
       "    <tr>\n",
       "      <th>2018-02-16</th>\n",
       "      <td>NaN</td>\n",
       "      <td>0.629277</td>\n",
       "      <td>NaN</td>\n",
       "      <td>-0.757447</td>\n",
       "    </tr>\n",
       "    <tr>\n",
       "      <th>2018-02-17</th>\n",
       "      <td>NaN</td>\n",
       "      <td>2.092237</td>\n",
       "      <td>0.280251</td>\n",
       "      <td>0.292239</td>\n",
       "    </tr>\n",
       "    <tr>\n",
       "      <th>2018-02-18</th>\n",
       "      <td>0.513296</td>\n",
       "      <td>-0.625118</td>\n",
       "      <td>0.000796</td>\n",
       "      <td>-0.366454</td>\n",
       "    </tr>\n",
       "    <tr>\n",
       "      <th>2018-02-19</th>\n",
       "      <td>NaN</td>\n",
       "      <td>0.638369</td>\n",
       "      <td>-0.632032</td>\n",
       "      <td>-0.979503</td>\n",
       "    </tr>\n",
       "  </tbody>\n",
       "</table>\n",
       "</div>"
      ],
      "text/plain": [
       "                   A         B         C         D\n",
       "2018-02-13  1.314583 -0.796022       NaN -0.582569\n",
       "2018-02-14 -0.494383       NaN  0.392011  2.177406\n",
       "2018-02-15  2.160203  0.349930       NaN -0.993914\n",
       "2018-02-16       NaN  0.629277       NaN -0.757447\n",
       "2018-02-17       NaN  2.092237  0.280251  0.292239\n",
       "2018-02-18  0.513296 -0.625118  0.000796 -0.366454\n",
       "2018-02-19       NaN  0.638369 -0.632032 -0.979503"
      ]
     },
     "execution_count": 42,
     "metadata": {},
     "output_type": "execute_result"
    }
   ],
   "source": [
    "df[df>-1]"
   ]
  },
  {
   "cell_type": "markdown",
   "metadata": {},
   "source": [
    "For filtering the values we can use 'isin()'."
   ]
  },
  {
   "cell_type": "code",
   "execution_count": 46,
   "metadata": {},
   "outputs": [
    {
     "data": {
      "text/html": [
       "<div>\n",
       "<style>\n",
       "    .dataframe thead tr:only-child th {\n",
       "        text-align: right;\n",
       "    }\n",
       "\n",
       "    .dataframe thead th {\n",
       "        text-align: left;\n",
       "    }\n",
       "\n",
       "    .dataframe tbody tr th {\n",
       "        vertical-align: top;\n",
       "    }\n",
       "</style>\n",
       "<table border=\"1\" class=\"dataframe\">\n",
       "  <thead>\n",
       "    <tr style=\"text-align: right;\">\n",
       "      <th></th>\n",
       "      <th>A</th>\n",
       "      <th>B</th>\n",
       "      <th>C</th>\n",
       "      <th>D</th>\n",
       "      <th>E</th>\n",
       "    </tr>\n",
       "  </thead>\n",
       "  <tbody>\n",
       "    <tr>\n",
       "      <th>2018-02-13</th>\n",
       "      <td>1.314583</td>\n",
       "      <td>-0.796022</td>\n",
       "      <td>-1.045282</td>\n",
       "      <td>-0.582569</td>\n",
       "      <td>one</td>\n",
       "    </tr>\n",
       "    <tr>\n",
       "      <th>2018-02-14</th>\n",
       "      <td>-0.494383</td>\n",
       "      <td>-1.812418</td>\n",
       "      <td>0.392011</td>\n",
       "      <td>2.177406</td>\n",
       "      <td>two</td>\n",
       "    </tr>\n",
       "    <tr>\n",
       "      <th>2018-02-15</th>\n",
       "      <td>2.160203</td>\n",
       "      <td>0.349930</td>\n",
       "      <td>-1.613977</td>\n",
       "      <td>-0.993914</td>\n",
       "      <td>three</td>\n",
       "    </tr>\n",
       "    <tr>\n",
       "      <th>2018-02-16</th>\n",
       "      <td>-1.018225</td>\n",
       "      <td>0.629277</td>\n",
       "      <td>-1.888395</td>\n",
       "      <td>-0.757447</td>\n",
       "      <td>one</td>\n",
       "    </tr>\n",
       "    <tr>\n",
       "      <th>2018-02-17</th>\n",
       "      <td>-1.096299</td>\n",
       "      <td>2.092237</td>\n",
       "      <td>0.280251</td>\n",
       "      <td>0.292239</td>\n",
       "      <td>two</td>\n",
       "    </tr>\n",
       "    <tr>\n",
       "      <th>2018-02-18</th>\n",
       "      <td>0.513296</td>\n",
       "      <td>-0.625118</td>\n",
       "      <td>0.000796</td>\n",
       "      <td>-0.366454</td>\n",
       "      <td>four</td>\n",
       "    </tr>\n",
       "    <tr>\n",
       "      <th>2018-02-19</th>\n",
       "      <td>-1.349954</td>\n",
       "      <td>0.638369</td>\n",
       "      <td>-0.632032</td>\n",
       "      <td>-0.979503</td>\n",
       "      <td>two</td>\n",
       "    </tr>\n",
       "  </tbody>\n",
       "</table>\n",
       "</div>"
      ],
      "text/plain": [
       "                   A         B         C         D      E\n",
       "2018-02-13  1.314583 -0.796022 -1.045282 -0.582569    one\n",
       "2018-02-14 -0.494383 -1.812418  0.392011  2.177406    two\n",
       "2018-02-15  2.160203  0.349930 -1.613977 -0.993914  three\n",
       "2018-02-16 -1.018225  0.629277 -1.888395 -0.757447    one\n",
       "2018-02-17 -1.096299  2.092237  0.280251  0.292239    two\n",
       "2018-02-18  0.513296 -0.625118  0.000796 -0.366454   four\n",
       "2018-02-19 -1.349954  0.638369 -0.632032 -0.979503    two"
      ]
     },
     "execution_count": 46,
     "metadata": {},
     "output_type": "execute_result"
    }
   ],
   "source": [
    "df2 = df.copy()\n",
    "df2['E'] = ['one', 'two', 'three', 'one', 'two', 'four', 'two']\n",
    "df2"
   ]
  },
  {
   "cell_type": "code",
   "execution_count": 48,
   "metadata": {},
   "outputs": [
    {
     "data": {
      "text/html": [
       "<div>\n",
       "<style>\n",
       "    .dataframe thead tr:only-child th {\n",
       "        text-align: right;\n",
       "    }\n",
       "\n",
       "    .dataframe thead th {\n",
       "        text-align: left;\n",
       "    }\n",
       "\n",
       "    .dataframe tbody tr th {\n",
       "        vertical-align: top;\n",
       "    }\n",
       "</style>\n",
       "<table border=\"1\" class=\"dataframe\">\n",
       "  <thead>\n",
       "    <tr style=\"text-align: right;\">\n",
       "      <th></th>\n",
       "      <th>A</th>\n",
       "      <th>B</th>\n",
       "      <th>C</th>\n",
       "      <th>D</th>\n",
       "      <th>E</th>\n",
       "    </tr>\n",
       "  </thead>\n",
       "  <tbody>\n",
       "    <tr>\n",
       "      <th>2018-02-13</th>\n",
       "      <td>1.314583</td>\n",
       "      <td>-0.796022</td>\n",
       "      <td>-1.045282</td>\n",
       "      <td>-0.582569</td>\n",
       "      <td>one</td>\n",
       "    </tr>\n",
       "    <tr>\n",
       "      <th>2018-02-14</th>\n",
       "      <td>-0.494383</td>\n",
       "      <td>-1.812418</td>\n",
       "      <td>0.392011</td>\n",
       "      <td>2.177406</td>\n",
       "      <td>two</td>\n",
       "    </tr>\n",
       "    <tr>\n",
       "      <th>2018-02-16</th>\n",
       "      <td>-1.018225</td>\n",
       "      <td>0.629277</td>\n",
       "      <td>-1.888395</td>\n",
       "      <td>-0.757447</td>\n",
       "      <td>one</td>\n",
       "    </tr>\n",
       "    <tr>\n",
       "      <th>2018-02-17</th>\n",
       "      <td>-1.096299</td>\n",
       "      <td>2.092237</td>\n",
       "      <td>0.280251</td>\n",
       "      <td>0.292239</td>\n",
       "      <td>two</td>\n",
       "    </tr>\n",
       "    <tr>\n",
       "      <th>2018-02-19</th>\n",
       "      <td>-1.349954</td>\n",
       "      <td>0.638369</td>\n",
       "      <td>-0.632032</td>\n",
       "      <td>-0.979503</td>\n",
       "      <td>two</td>\n",
       "    </tr>\n",
       "  </tbody>\n",
       "</table>\n",
       "</div>"
      ],
      "text/plain": [
       "                   A         B         C         D    E\n",
       "2018-02-13  1.314583 -0.796022 -1.045282 -0.582569  one\n",
       "2018-02-14 -0.494383 -1.812418  0.392011  2.177406  two\n",
       "2018-02-16 -1.018225  0.629277 -1.888395 -0.757447  one\n",
       "2018-02-17 -1.096299  2.092237  0.280251  0.292239  two\n",
       "2018-02-19 -1.349954  0.638369 -0.632032 -0.979503  two"
      ]
     },
     "execution_count": 48,
     "metadata": {},
     "output_type": "execute_result"
    }
   ],
   "source": [
    "df2[df2['E'].isin(['one',  'two'])]"
   ]
  },
  {
   "cell_type": "code",
   "execution_count": 51,
   "metadata": {},
   "outputs": [
    {
     "data": {
      "text/plain": [
       "2018-02-13    1\n",
       "2018-02-14    2\n",
       "2018-02-15    3\n",
       "2018-02-16    4\n",
       "2018-02-17    5\n",
       "2018-02-18    6\n",
       "2018-02-19    7\n",
       "Freq: D, dtype: int64"
      ]
     },
     "execution_count": 51,
     "metadata": {},
     "output_type": "execute_result"
    }
   ],
   "source": [
    "s1 = pd.Series([1,2,3,4,5,6,7], index=pd.date_range('2018-02-13', periods=7))\n",
    "s1"
   ]
  },
  {
   "cell_type": "code",
   "execution_count": 54,
   "metadata": {},
   "outputs": [
    {
     "data": {
      "text/html": [
       "<div>\n",
       "<style>\n",
       "    .dataframe thead tr:only-child th {\n",
       "        text-align: right;\n",
       "    }\n",
       "\n",
       "    .dataframe thead th {\n",
       "        text-align: left;\n",
       "    }\n",
       "\n",
       "    .dataframe tbody tr th {\n",
       "        vertical-align: top;\n",
       "    }\n",
       "</style>\n",
       "<table border=\"1\" class=\"dataframe\">\n",
       "  <thead>\n",
       "    <tr style=\"text-align: right;\">\n",
       "      <th></th>\n",
       "      <th>A</th>\n",
       "      <th>B</th>\n",
       "      <th>C</th>\n",
       "      <th>D</th>\n",
       "      <th>E</th>\n",
       "    </tr>\n",
       "  </thead>\n",
       "  <tbody>\n",
       "    <tr>\n",
       "      <th>2018-02-13</th>\n",
       "      <td>1.314583</td>\n",
       "      <td>-0.796022</td>\n",
       "      <td>-1.045282</td>\n",
       "      <td>-0.582569</td>\n",
       "      <td>1</td>\n",
       "    </tr>\n",
       "    <tr>\n",
       "      <th>2018-02-14</th>\n",
       "      <td>-0.494383</td>\n",
       "      <td>-1.812418</td>\n",
       "      <td>0.392011</td>\n",
       "      <td>2.177406</td>\n",
       "      <td>2</td>\n",
       "    </tr>\n",
       "    <tr>\n",
       "      <th>2018-02-15</th>\n",
       "      <td>2.160203</td>\n",
       "      <td>0.349930</td>\n",
       "      <td>-1.613977</td>\n",
       "      <td>-0.993914</td>\n",
       "      <td>3</td>\n",
       "    </tr>\n",
       "    <tr>\n",
       "      <th>2018-02-16</th>\n",
       "      <td>-1.018225</td>\n",
       "      <td>0.629277</td>\n",
       "      <td>-1.888395</td>\n",
       "      <td>-0.757447</td>\n",
       "      <td>4</td>\n",
       "    </tr>\n",
       "    <tr>\n",
       "      <th>2018-02-17</th>\n",
       "      <td>-1.096299</td>\n",
       "      <td>2.092237</td>\n",
       "      <td>0.280251</td>\n",
       "      <td>0.292239</td>\n",
       "      <td>5</td>\n",
       "    </tr>\n",
       "    <tr>\n",
       "      <th>2018-02-18</th>\n",
       "      <td>0.513296</td>\n",
       "      <td>-0.625118</td>\n",
       "      <td>0.000796</td>\n",
       "      <td>-0.366454</td>\n",
       "      <td>6</td>\n",
       "    </tr>\n",
       "    <tr>\n",
       "      <th>2018-02-19</th>\n",
       "      <td>-1.349954</td>\n",
       "      <td>0.638369</td>\n",
       "      <td>-0.632032</td>\n",
       "      <td>-0.979503</td>\n",
       "      <td>7</td>\n",
       "    </tr>\n",
       "  </tbody>\n",
       "</table>\n",
       "</div>"
      ],
      "text/plain": [
       "                   A         B         C         D  E\n",
       "2018-02-13  1.314583 -0.796022 -1.045282 -0.582569  1\n",
       "2018-02-14 -0.494383 -1.812418  0.392011  2.177406  2\n",
       "2018-02-15  2.160203  0.349930 -1.613977 -0.993914  3\n",
       "2018-02-16 -1.018225  0.629277 -1.888395 -0.757447  4\n",
       "2018-02-17 -1.096299  2.092237  0.280251  0.292239  5\n",
       "2018-02-18  0.513296 -0.625118  0.000796 -0.366454  6\n",
       "2018-02-19 -1.349954  0.638369 -0.632032 -0.979503  7"
      ]
     },
     "execution_count": 54,
     "metadata": {},
     "output_type": "execute_result"
    }
   ],
   "source": [
    "df['E'] = s1\n",
    "df"
   ]
  },
  {
   "cell_type": "code",
   "execution_count": 57,
   "metadata": {},
   "outputs": [
    {
     "data": {
      "text/html": [
       "<div>\n",
       "<style>\n",
       "    .dataframe thead tr:only-child th {\n",
       "        text-align: right;\n",
       "    }\n",
       "\n",
       "    .dataframe thead th {\n",
       "        text-align: left;\n",
       "    }\n",
       "\n",
       "    .dataframe tbody tr th {\n",
       "        vertical-align: top;\n",
       "    }\n",
       "</style>\n",
       "<table border=\"1\" class=\"dataframe\">\n",
       "  <thead>\n",
       "    <tr style=\"text-align: right;\">\n",
       "      <th></th>\n",
       "      <th>A</th>\n",
       "      <th>B</th>\n",
       "      <th>C</th>\n",
       "      <th>D</th>\n",
       "      <th>E</th>\n",
       "    </tr>\n",
       "  </thead>\n",
       "  <tbody>\n",
       "    <tr>\n",
       "      <th>2018-02-13</th>\n",
       "      <td>0.000000</td>\n",
       "      <td>-0.796022</td>\n",
       "      <td>-1.045282</td>\n",
       "      <td>-0.582569</td>\n",
       "      <td>1</td>\n",
       "    </tr>\n",
       "    <tr>\n",
       "      <th>2018-02-14</th>\n",
       "      <td>-0.494383</td>\n",
       "      <td>-1.812418</td>\n",
       "      <td>0.392011</td>\n",
       "      <td>2.177406</td>\n",
       "      <td>2</td>\n",
       "    </tr>\n",
       "    <tr>\n",
       "      <th>2018-02-15</th>\n",
       "      <td>2.160203</td>\n",
       "      <td>0.349930</td>\n",
       "      <td>-1.613977</td>\n",
       "      <td>-0.993914</td>\n",
       "      <td>3</td>\n",
       "    </tr>\n",
       "    <tr>\n",
       "      <th>2018-02-16</th>\n",
       "      <td>-1.018225</td>\n",
       "      <td>0.629277</td>\n",
       "      <td>-1.888395</td>\n",
       "      <td>-0.757447</td>\n",
       "      <td>4</td>\n",
       "    </tr>\n",
       "    <tr>\n",
       "      <th>2018-02-17</th>\n",
       "      <td>-1.096299</td>\n",
       "      <td>2.092237</td>\n",
       "      <td>0.280251</td>\n",
       "      <td>0.292239</td>\n",
       "      <td>5</td>\n",
       "    </tr>\n",
       "    <tr>\n",
       "      <th>2018-02-18</th>\n",
       "      <td>0.513296</td>\n",
       "      <td>-0.625118</td>\n",
       "      <td>0.000796</td>\n",
       "      <td>-0.366454</td>\n",
       "      <td>6</td>\n",
       "    </tr>\n",
       "    <tr>\n",
       "      <th>2018-02-19</th>\n",
       "      <td>-1.349954</td>\n",
       "      <td>0.638369</td>\n",
       "      <td>-0.632032</td>\n",
       "      <td>-0.979503</td>\n",
       "      <td>7</td>\n",
       "    </tr>\n",
       "  </tbody>\n",
       "</table>\n",
       "</div>"
      ],
      "text/plain": [
       "                   A         B         C         D  E\n",
       "2018-02-13  0.000000 -0.796022 -1.045282 -0.582569  1\n",
       "2018-02-14 -0.494383 -1.812418  0.392011  2.177406  2\n",
       "2018-02-15  2.160203  0.349930 -1.613977 -0.993914  3\n",
       "2018-02-16 -1.018225  0.629277 -1.888395 -0.757447  4\n",
       "2018-02-17 -1.096299  2.092237  0.280251  0.292239  5\n",
       "2018-02-18  0.513296 -0.625118  0.000796 -0.366454  6\n",
       "2018-02-19 -1.349954  0.638369 -0.632032 -0.979503  7"
      ]
     },
     "execution_count": 57,
     "metadata": {},
     "output_type": "execute_result"
    }
   ],
   "source": [
    "df.at[dates[0], 'A'] = 0\n",
    "df"
   ]
  },
  {
   "cell_type": "code",
   "execution_count": 59,
   "metadata": {},
   "outputs": [
    {
     "data": {
      "text/html": [
       "<div>\n",
       "<style>\n",
       "    .dataframe thead tr:only-child th {\n",
       "        text-align: right;\n",
       "    }\n",
       "\n",
       "    .dataframe thead th {\n",
       "        text-align: left;\n",
       "    }\n",
       "\n",
       "    .dataframe tbody tr th {\n",
       "        vertical-align: top;\n",
       "    }\n",
       "</style>\n",
       "<table border=\"1\" class=\"dataframe\">\n",
       "  <thead>\n",
       "    <tr style=\"text-align: right;\">\n",
       "      <th></th>\n",
       "      <th>A</th>\n",
       "      <th>B</th>\n",
       "      <th>C</th>\n",
       "      <th>D</th>\n",
       "      <th>E</th>\n",
       "    </tr>\n",
       "  </thead>\n",
       "  <tbody>\n",
       "    <tr>\n",
       "      <th>2018-02-13</th>\n",
       "      <td>0.000000</td>\n",
       "      <td>1.000000</td>\n",
       "      <td>-1.045282</td>\n",
       "      <td>-0.582569</td>\n",
       "      <td>1</td>\n",
       "    </tr>\n",
       "    <tr>\n",
       "      <th>2018-02-14</th>\n",
       "      <td>-0.494383</td>\n",
       "      <td>-1.812418</td>\n",
       "      <td>0.392011</td>\n",
       "      <td>2.177406</td>\n",
       "      <td>2</td>\n",
       "    </tr>\n",
       "    <tr>\n",
       "      <th>2018-02-15</th>\n",
       "      <td>2.160203</td>\n",
       "      <td>0.349930</td>\n",
       "      <td>-1.613977</td>\n",
       "      <td>-0.993914</td>\n",
       "      <td>3</td>\n",
       "    </tr>\n",
       "    <tr>\n",
       "      <th>2018-02-16</th>\n",
       "      <td>-1.018225</td>\n",
       "      <td>0.629277</td>\n",
       "      <td>-1.888395</td>\n",
       "      <td>-0.757447</td>\n",
       "      <td>4</td>\n",
       "    </tr>\n",
       "    <tr>\n",
       "      <th>2018-02-17</th>\n",
       "      <td>-1.096299</td>\n",
       "      <td>2.092237</td>\n",
       "      <td>0.280251</td>\n",
       "      <td>0.292239</td>\n",
       "      <td>5</td>\n",
       "    </tr>\n",
       "    <tr>\n",
       "      <th>2018-02-18</th>\n",
       "      <td>0.513296</td>\n",
       "      <td>-0.625118</td>\n",
       "      <td>0.000796</td>\n",
       "      <td>-0.366454</td>\n",
       "      <td>6</td>\n",
       "    </tr>\n",
       "    <tr>\n",
       "      <th>2018-02-19</th>\n",
       "      <td>-1.349954</td>\n",
       "      <td>0.638369</td>\n",
       "      <td>-0.632032</td>\n",
       "      <td>-0.979503</td>\n",
       "      <td>7</td>\n",
       "    </tr>\n",
       "  </tbody>\n",
       "</table>\n",
       "</div>"
      ],
      "text/plain": [
       "                   A         B         C         D  E\n",
       "2018-02-13  0.000000  1.000000 -1.045282 -0.582569  1\n",
       "2018-02-14 -0.494383 -1.812418  0.392011  2.177406  2\n",
       "2018-02-15  2.160203  0.349930 -1.613977 -0.993914  3\n",
       "2018-02-16 -1.018225  0.629277 -1.888395 -0.757447  4\n",
       "2018-02-17 -1.096299  2.092237  0.280251  0.292239  5\n",
       "2018-02-18  0.513296 -0.625118  0.000796 -0.366454  6\n",
       "2018-02-19 -1.349954  0.638369 -0.632032 -0.979503  7"
      ]
     },
     "execution_count": 59,
     "metadata": {},
     "output_type": "execute_result"
    }
   ],
   "source": [
    "df.iat[0,1] = 1\n",
    "df"
   ]
  },
  {
   "cell_type": "code",
   "execution_count": 61,
   "metadata": {},
   "outputs": [
    {
     "data": {
      "text/html": [
       "<div>\n",
       "<style>\n",
       "    .dataframe thead tr:only-child th {\n",
       "        text-align: right;\n",
       "    }\n",
       "\n",
       "    .dataframe thead th {\n",
       "        text-align: left;\n",
       "    }\n",
       "\n",
       "    .dataframe tbody tr th {\n",
       "        vertical-align: top;\n",
       "    }\n",
       "</style>\n",
       "<table border=\"1\" class=\"dataframe\">\n",
       "  <thead>\n",
       "    <tr style=\"text-align: right;\">\n",
       "      <th></th>\n",
       "      <th>A</th>\n",
       "      <th>B</th>\n",
       "      <th>C</th>\n",
       "      <th>D</th>\n",
       "      <th>E</th>\n",
       "    </tr>\n",
       "  </thead>\n",
       "  <tbody>\n",
       "    <tr>\n",
       "      <th>2018-02-13</th>\n",
       "      <td>0.000000</td>\n",
       "      <td>1.000000</td>\n",
       "      <td>-1.045282</td>\n",
       "      <td>5</td>\n",
       "      <td>1</td>\n",
       "    </tr>\n",
       "    <tr>\n",
       "      <th>2018-02-14</th>\n",
       "      <td>-0.494383</td>\n",
       "      <td>-1.812418</td>\n",
       "      <td>0.392011</td>\n",
       "      <td>5</td>\n",
       "      <td>2</td>\n",
       "    </tr>\n",
       "    <tr>\n",
       "      <th>2018-02-15</th>\n",
       "      <td>2.160203</td>\n",
       "      <td>0.349930</td>\n",
       "      <td>-1.613977</td>\n",
       "      <td>5</td>\n",
       "      <td>3</td>\n",
       "    </tr>\n",
       "    <tr>\n",
       "      <th>2018-02-16</th>\n",
       "      <td>-1.018225</td>\n",
       "      <td>0.629277</td>\n",
       "      <td>-1.888395</td>\n",
       "      <td>5</td>\n",
       "      <td>4</td>\n",
       "    </tr>\n",
       "    <tr>\n",
       "      <th>2018-02-17</th>\n",
       "      <td>-1.096299</td>\n",
       "      <td>2.092237</td>\n",
       "      <td>0.280251</td>\n",
       "      <td>5</td>\n",
       "      <td>5</td>\n",
       "    </tr>\n",
       "    <tr>\n",
       "      <th>2018-02-18</th>\n",
       "      <td>0.513296</td>\n",
       "      <td>-0.625118</td>\n",
       "      <td>0.000796</td>\n",
       "      <td>5</td>\n",
       "      <td>6</td>\n",
       "    </tr>\n",
       "    <tr>\n",
       "      <th>2018-02-19</th>\n",
       "      <td>-1.349954</td>\n",
       "      <td>0.638369</td>\n",
       "      <td>-0.632032</td>\n",
       "      <td>5</td>\n",
       "      <td>7</td>\n",
       "    </tr>\n",
       "  </tbody>\n",
       "</table>\n",
       "</div>"
      ],
      "text/plain": [
       "                   A         B         C  D  E\n",
       "2018-02-13  0.000000  1.000000 -1.045282  5  1\n",
       "2018-02-14 -0.494383 -1.812418  0.392011  5  2\n",
       "2018-02-15  2.160203  0.349930 -1.613977  5  3\n",
       "2018-02-16 -1.018225  0.629277 -1.888395  5  4\n",
       "2018-02-17 -1.096299  2.092237  0.280251  5  5\n",
       "2018-02-18  0.513296 -0.625118  0.000796  5  6\n",
       "2018-02-19 -1.349954  0.638369 -0.632032  5  7"
      ]
     },
     "execution_count": 61,
     "metadata": {},
     "output_type": "execute_result"
    }
   ],
   "source": [
    "df.loc[:, 'D'] = np.array([5]*len(df))\n",
    "df"
   ]
  },
  {
   "cell_type": "markdown",
   "metadata": {},
   "source": [
    "# Missing Data"
   ]
  },
  {
   "cell_type": "code",
   "execution_count": 68,
   "metadata": {},
   "outputs": [
    {
     "data": {
      "text/html": [
       "<div>\n",
       "<style>\n",
       "    .dataframe thead tr:only-child th {\n",
       "        text-align: right;\n",
       "    }\n",
       "\n",
       "    .dataframe thead th {\n",
       "        text-align: left;\n",
       "    }\n",
       "\n",
       "    .dataframe tbody tr th {\n",
       "        vertical-align: top;\n",
       "    }\n",
       "</style>\n",
       "<table border=\"1\" class=\"dataframe\">\n",
       "  <thead>\n",
       "    <tr style=\"text-align: right;\">\n",
       "      <th></th>\n",
       "      <th>A</th>\n",
       "      <th>B</th>\n",
       "      <th>C</th>\n",
       "      <th>D</th>\n",
       "      <th>E</th>\n",
       "      <th>F</th>\n",
       "    </tr>\n",
       "  </thead>\n",
       "  <tbody>\n",
       "    <tr>\n",
       "      <th>2018-02-13</th>\n",
       "      <td>0.000000</td>\n",
       "      <td>1.000000</td>\n",
       "      <td>-1.045282</td>\n",
       "      <td>5</td>\n",
       "      <td>1</td>\n",
       "      <td>NaN</td>\n",
       "    </tr>\n",
       "    <tr>\n",
       "      <th>2018-02-14</th>\n",
       "      <td>-0.494383</td>\n",
       "      <td>-1.812418</td>\n",
       "      <td>0.392011</td>\n",
       "      <td>5</td>\n",
       "      <td>2</td>\n",
       "      <td>NaN</td>\n",
       "    </tr>\n",
       "    <tr>\n",
       "      <th>2018-02-15</th>\n",
       "      <td>2.160203</td>\n",
       "      <td>0.349930</td>\n",
       "      <td>-1.613977</td>\n",
       "      <td>5</td>\n",
       "      <td>3</td>\n",
       "      <td>NaN</td>\n",
       "    </tr>\n",
       "    <tr>\n",
       "      <th>2018-02-16</th>\n",
       "      <td>-1.018225</td>\n",
       "      <td>0.629277</td>\n",
       "      <td>-1.888395</td>\n",
       "      <td>5</td>\n",
       "      <td>4</td>\n",
       "      <td>NaN</td>\n",
       "    </tr>\n",
       "  </tbody>\n",
       "</table>\n",
       "</div>"
      ],
      "text/plain": [
       "                   A         B         C  D  E   F\n",
       "2018-02-13  0.000000  1.000000 -1.045282  5  1 NaN\n",
       "2018-02-14 -0.494383 -1.812418  0.392011  5  2 NaN\n",
       "2018-02-15  2.160203  0.349930 -1.613977  5  3 NaN\n",
       "2018-02-16 -1.018225  0.629277 -1.888395  5  4 NaN"
      ]
     },
     "execution_count": 68,
     "metadata": {},
     "output_type": "execute_result"
    }
   ],
   "source": [
    "df1 = df.reindex(index=dates[0:4], columns=list(df.columns)+['F'])\n",
    "df1"
   ]
  },
  {
   "cell_type": "code",
   "execution_count": 77,
   "metadata": {},
   "outputs": [
    {
     "data": {
      "text/html": [
       "<div>\n",
       "<style>\n",
       "    .dataframe thead tr:only-child th {\n",
       "        text-align: right;\n",
       "    }\n",
       "\n",
       "    .dataframe thead th {\n",
       "        text-align: left;\n",
       "    }\n",
       "\n",
       "    .dataframe tbody tr th {\n",
       "        vertical-align: top;\n",
       "    }\n",
       "</style>\n",
       "<table border=\"1\" class=\"dataframe\">\n",
       "  <thead>\n",
       "    <tr style=\"text-align: right;\">\n",
       "      <th></th>\n",
       "      <th>A</th>\n",
       "      <th>B</th>\n",
       "      <th>C</th>\n",
       "      <th>D</th>\n",
       "      <th>E</th>\n",
       "      <th>F</th>\n",
       "    </tr>\n",
       "  </thead>\n",
       "  <tbody>\n",
       "    <tr>\n",
       "      <th>2018-02-13</th>\n",
       "      <td>0.000000</td>\n",
       "      <td>1.000000</td>\n",
       "      <td>-1.045282</td>\n",
       "      <td>5</td>\n",
       "      <td>1</td>\n",
       "      <td>10.0</td>\n",
       "    </tr>\n",
       "    <tr>\n",
       "      <th>2018-02-14</th>\n",
       "      <td>-0.494383</td>\n",
       "      <td>-1.812418</td>\n",
       "      <td>0.392011</td>\n",
       "      <td>5</td>\n",
       "      <td>2</td>\n",
       "      <td>10.0</td>\n",
       "    </tr>\n",
       "    <tr>\n",
       "      <th>2018-02-15</th>\n",
       "      <td>2.160203</td>\n",
       "      <td>0.349930</td>\n",
       "      <td>-1.613977</td>\n",
       "      <td>5</td>\n",
       "      <td>3</td>\n",
       "      <td>NaN</td>\n",
       "    </tr>\n",
       "    <tr>\n",
       "      <th>2018-02-16</th>\n",
       "      <td>-1.018225</td>\n",
       "      <td>0.629277</td>\n",
       "      <td>-1.888395</td>\n",
       "      <td>5</td>\n",
       "      <td>4</td>\n",
       "      <td>NaN</td>\n",
       "    </tr>\n",
       "  </tbody>\n",
       "</table>\n",
       "</div>"
      ],
      "text/plain": [
       "                   A         B         C  D  E     F\n",
       "2018-02-13  0.000000  1.000000 -1.045282  5  1  10.0\n",
       "2018-02-14 -0.494383 -1.812418  0.392011  5  2  10.0\n",
       "2018-02-15  2.160203  0.349930 -1.613977  5  3   NaN\n",
       "2018-02-16 -1.018225  0.629277 -1.888395  5  4   NaN"
      ]
     },
     "execution_count": 77,
     "metadata": {},
     "output_type": "execute_result"
    }
   ],
   "source": [
    "df1.loc[dates[0]:dates[1], 'F'] = 10\n",
    "df1"
   ]
  },
  {
   "cell_type": "markdown",
   "metadata": {},
   "source": [
    "Using 'dropna()' drop the rows having nan values"
   ]
  },
  {
   "cell_type": "code",
   "execution_count": 82,
   "metadata": {},
   "outputs": [
    {
     "data": {
      "text/html": [
       "<div>\n",
       "<style>\n",
       "    .dataframe thead tr:only-child th {\n",
       "        text-align: right;\n",
       "    }\n",
       "\n",
       "    .dataframe thead th {\n",
       "        text-align: left;\n",
       "    }\n",
       "\n",
       "    .dataframe tbody tr th {\n",
       "        vertical-align: top;\n",
       "    }\n",
       "</style>\n",
       "<table border=\"1\" class=\"dataframe\">\n",
       "  <thead>\n",
       "    <tr style=\"text-align: right;\">\n",
       "      <th></th>\n",
       "      <th>A</th>\n",
       "      <th>B</th>\n",
       "      <th>C</th>\n",
       "      <th>D</th>\n",
       "      <th>E</th>\n",
       "      <th>F</th>\n",
       "    </tr>\n",
       "  </thead>\n",
       "  <tbody>\n",
       "    <tr>\n",
       "      <th>2018-02-13</th>\n",
       "      <td>0.000000</td>\n",
       "      <td>1.000000</td>\n",
       "      <td>-1.045282</td>\n",
       "      <td>5</td>\n",
       "      <td>1</td>\n",
       "      <td>10.0</td>\n",
       "    </tr>\n",
       "    <tr>\n",
       "      <th>2018-02-14</th>\n",
       "      <td>-0.494383</td>\n",
       "      <td>-1.812418</td>\n",
       "      <td>0.392011</td>\n",
       "      <td>5</td>\n",
       "      <td>2</td>\n",
       "      <td>10.0</td>\n",
       "    </tr>\n",
       "  </tbody>\n",
       "</table>\n",
       "</div>"
      ],
      "text/plain": [
       "                   A         B         C  D  E     F\n",
       "2018-02-13  0.000000  1.000000 -1.045282  5  1  10.0\n",
       "2018-02-14 -0.494383 -1.812418  0.392011  5  2  10.0"
      ]
     },
     "execution_count": 82,
     "metadata": {},
     "output_type": "execute_result"
    }
   ],
   "source": [
    "df1.dropna(how='any')"
   ]
  },
  {
   "cell_type": "code",
   "execution_count": 83,
   "metadata": {},
   "outputs": [
    {
     "data": {
      "text/html": [
       "<div>\n",
       "<style>\n",
       "    .dataframe thead tr:only-child th {\n",
       "        text-align: right;\n",
       "    }\n",
       "\n",
       "    .dataframe thead th {\n",
       "        text-align: left;\n",
       "    }\n",
       "\n",
       "    .dataframe tbody tr th {\n",
       "        vertical-align: top;\n",
       "    }\n",
       "</style>\n",
       "<table border=\"1\" class=\"dataframe\">\n",
       "  <thead>\n",
       "    <tr style=\"text-align: right;\">\n",
       "      <th></th>\n",
       "      <th>A</th>\n",
       "      <th>B</th>\n",
       "      <th>C</th>\n",
       "      <th>D</th>\n",
       "      <th>E</th>\n",
       "      <th>F</th>\n",
       "    </tr>\n",
       "  </thead>\n",
       "  <tbody>\n",
       "    <tr>\n",
       "      <th>2018-02-13</th>\n",
       "      <td>0.000000</td>\n",
       "      <td>1.000000</td>\n",
       "      <td>-1.045282</td>\n",
       "      <td>5</td>\n",
       "      <td>1</td>\n",
       "      <td>10.0</td>\n",
       "    </tr>\n",
       "    <tr>\n",
       "      <th>2018-02-14</th>\n",
       "      <td>-0.494383</td>\n",
       "      <td>-1.812418</td>\n",
       "      <td>0.392011</td>\n",
       "      <td>5</td>\n",
       "      <td>2</td>\n",
       "      <td>10.0</td>\n",
       "    </tr>\n",
       "    <tr>\n",
       "      <th>2018-02-15</th>\n",
       "      <td>2.160203</td>\n",
       "      <td>0.349930</td>\n",
       "      <td>-1.613977</td>\n",
       "      <td>5</td>\n",
       "      <td>3</td>\n",
       "      <td>5.0</td>\n",
       "    </tr>\n",
       "    <tr>\n",
       "      <th>2018-02-16</th>\n",
       "      <td>-1.018225</td>\n",
       "      <td>0.629277</td>\n",
       "      <td>-1.888395</td>\n",
       "      <td>5</td>\n",
       "      <td>4</td>\n",
       "      <td>5.0</td>\n",
       "    </tr>\n",
       "  </tbody>\n",
       "</table>\n",
       "</div>"
      ],
      "text/plain": [
       "                   A         B         C  D  E     F\n",
       "2018-02-13  0.000000  1.000000 -1.045282  5  1  10.0\n",
       "2018-02-14 -0.494383 -1.812418  0.392011  5  2  10.0\n",
       "2018-02-15  2.160203  0.349930 -1.613977  5  3   5.0\n",
       "2018-02-16 -1.018225  0.629277 -1.888395  5  4   5.0"
      ]
     },
     "execution_count": 83,
     "metadata": {},
     "output_type": "execute_result"
    }
   ],
   "source": [
    "df1.fillna(5)"
   ]
  },
  {
   "cell_type": "code",
   "execution_count": 84,
   "metadata": {},
   "outputs": [
    {
     "data": {
      "text/html": [
       "<div>\n",
       "<style>\n",
       "    .dataframe thead tr:only-child th {\n",
       "        text-align: right;\n",
       "    }\n",
       "\n",
       "    .dataframe thead th {\n",
       "        text-align: left;\n",
       "    }\n",
       "\n",
       "    .dataframe tbody tr th {\n",
       "        vertical-align: top;\n",
       "    }\n",
       "</style>\n",
       "<table border=\"1\" class=\"dataframe\">\n",
       "  <thead>\n",
       "    <tr style=\"text-align: right;\">\n",
       "      <th></th>\n",
       "      <th>A</th>\n",
       "      <th>B</th>\n",
       "      <th>C</th>\n",
       "      <th>D</th>\n",
       "      <th>E</th>\n",
       "      <th>F</th>\n",
       "    </tr>\n",
       "  </thead>\n",
       "  <tbody>\n",
       "    <tr>\n",
       "      <th>2018-02-13</th>\n",
       "      <td>False</td>\n",
       "      <td>False</td>\n",
       "      <td>False</td>\n",
       "      <td>False</td>\n",
       "      <td>False</td>\n",
       "      <td>False</td>\n",
       "    </tr>\n",
       "    <tr>\n",
       "      <th>2018-02-14</th>\n",
       "      <td>False</td>\n",
       "      <td>False</td>\n",
       "      <td>False</td>\n",
       "      <td>False</td>\n",
       "      <td>False</td>\n",
       "      <td>False</td>\n",
       "    </tr>\n",
       "    <tr>\n",
       "      <th>2018-02-15</th>\n",
       "      <td>False</td>\n",
       "      <td>False</td>\n",
       "      <td>False</td>\n",
       "      <td>False</td>\n",
       "      <td>False</td>\n",
       "      <td>True</td>\n",
       "    </tr>\n",
       "    <tr>\n",
       "      <th>2018-02-16</th>\n",
       "      <td>False</td>\n",
       "      <td>False</td>\n",
       "      <td>False</td>\n",
       "      <td>False</td>\n",
       "      <td>False</td>\n",
       "      <td>True</td>\n",
       "    </tr>\n",
       "  </tbody>\n",
       "</table>\n",
       "</div>"
      ],
      "text/plain": [
       "                A      B      C      D      E      F\n",
       "2018-02-13  False  False  False  False  False  False\n",
       "2018-02-14  False  False  False  False  False  False\n",
       "2018-02-15  False  False  False  False  False   True\n",
       "2018-02-16  False  False  False  False  False   True"
      ]
     },
     "execution_count": 84,
     "metadata": {},
     "output_type": "execute_result"
    }
   ],
   "source": [
    "df1.isnull()"
   ]
  },
  {
   "cell_type": "markdown",
   "metadata": {},
   "source": [
    "# Stats"
   ]
  },
  {
   "cell_type": "code",
   "execution_count": 85,
   "metadata": {},
   "outputs": [
    {
     "data": {
      "text/html": [
       "<div>\n",
       "<style>\n",
       "    .dataframe thead tr:only-child th {\n",
       "        text-align: right;\n",
       "    }\n",
       "\n",
       "    .dataframe thead th {\n",
       "        text-align: left;\n",
       "    }\n",
       "\n",
       "    .dataframe tbody tr th {\n",
       "        vertical-align: top;\n",
       "    }\n",
       "</style>\n",
       "<table border=\"1\" class=\"dataframe\">\n",
       "  <thead>\n",
       "    <tr style=\"text-align: right;\">\n",
       "      <th></th>\n",
       "      <th>A</th>\n",
       "      <th>B</th>\n",
       "      <th>C</th>\n",
       "      <th>D</th>\n",
       "      <th>E</th>\n",
       "    </tr>\n",
       "  </thead>\n",
       "  <tbody>\n",
       "    <tr>\n",
       "      <th>2018-02-13</th>\n",
       "      <td>0.000000</td>\n",
       "      <td>1.000000</td>\n",
       "      <td>-1.045282</td>\n",
       "      <td>5</td>\n",
       "      <td>1</td>\n",
       "    </tr>\n",
       "    <tr>\n",
       "      <th>2018-02-14</th>\n",
       "      <td>-0.494383</td>\n",
       "      <td>-1.812418</td>\n",
       "      <td>0.392011</td>\n",
       "      <td>5</td>\n",
       "      <td>2</td>\n",
       "    </tr>\n",
       "    <tr>\n",
       "      <th>2018-02-15</th>\n",
       "      <td>2.160203</td>\n",
       "      <td>0.349930</td>\n",
       "      <td>-1.613977</td>\n",
       "      <td>5</td>\n",
       "      <td>3</td>\n",
       "    </tr>\n",
       "    <tr>\n",
       "      <th>2018-02-16</th>\n",
       "      <td>-1.018225</td>\n",
       "      <td>0.629277</td>\n",
       "      <td>-1.888395</td>\n",
       "      <td>5</td>\n",
       "      <td>4</td>\n",
       "    </tr>\n",
       "    <tr>\n",
       "      <th>2018-02-17</th>\n",
       "      <td>-1.096299</td>\n",
       "      <td>2.092237</td>\n",
       "      <td>0.280251</td>\n",
       "      <td>5</td>\n",
       "      <td>5</td>\n",
       "    </tr>\n",
       "    <tr>\n",
       "      <th>2018-02-18</th>\n",
       "      <td>0.513296</td>\n",
       "      <td>-0.625118</td>\n",
       "      <td>0.000796</td>\n",
       "      <td>5</td>\n",
       "      <td>6</td>\n",
       "    </tr>\n",
       "    <tr>\n",
       "      <th>2018-02-19</th>\n",
       "      <td>-1.349954</td>\n",
       "      <td>0.638369</td>\n",
       "      <td>-0.632032</td>\n",
       "      <td>5</td>\n",
       "      <td>7</td>\n",
       "    </tr>\n",
       "  </tbody>\n",
       "</table>\n",
       "</div>"
      ],
      "text/plain": [
       "                   A         B         C  D  E\n",
       "2018-02-13  0.000000  1.000000 -1.045282  5  1\n",
       "2018-02-14 -0.494383 -1.812418  0.392011  5  2\n",
       "2018-02-15  2.160203  0.349930 -1.613977  5  3\n",
       "2018-02-16 -1.018225  0.629277 -1.888395  5  4\n",
       "2018-02-17 -1.096299  2.092237  0.280251  5  5\n",
       "2018-02-18  0.513296 -0.625118  0.000796  5  6\n",
       "2018-02-19 -1.349954  0.638369 -0.632032  5  7"
      ]
     },
     "execution_count": 85,
     "metadata": {},
     "output_type": "execute_result"
    }
   ],
   "source": [
    "df"
   ]
  },
  {
   "cell_type": "code",
   "execution_count": 86,
   "metadata": {},
   "outputs": [
    {
     "data": {
      "text/plain": [
       "A   -0.183623\n",
       "B    0.324611\n",
       "C   -0.643804\n",
       "D    5.000000\n",
       "E    4.000000\n",
       "dtype: float64"
      ]
     },
     "execution_count": 86,
     "metadata": {},
     "output_type": "execute_result"
    }
   ],
   "source": [
    "df.mean()"
   ]
  },
  {
   "cell_type": "code",
   "execution_count": 89,
   "metadata": {},
   "outputs": [
    {
     "data": {
      "text/plain": [
       "2018-02-13    1.190944\n",
       "2018-02-14    1.017042\n",
       "2018-02-15    1.779231\n",
       "2018-02-16    1.344531\n",
       "2018-02-17    2.255238\n",
       "2018-02-18    2.177795\n",
       "2018-02-19    2.131276\n",
       "Freq: D, dtype: float64"
      ]
     },
     "execution_count": 89,
     "metadata": {},
     "output_type": "execute_result"
    }
   ],
   "source": [
    "df.mean(axis=1)    # Column-wise"
   ]
  },
  {
   "cell_type": "code",
   "execution_count": 87,
   "metadata": {},
   "outputs": [
    {
     "data": {
      "text/plain": [
       "A    -1.285362\n",
       "B     2.272276\n",
       "C    -4.506627\n",
       "D    35.000000\n",
       "E    28.000000\n",
       "dtype: float64"
      ]
     },
     "execution_count": 87,
     "metadata": {},
     "output_type": "execute_result"
    }
   ],
   "source": [
    "df.sum()"
   ]
  },
  {
   "cell_type": "code",
   "execution_count": 91,
   "metadata": {},
   "outputs": [
    {
     "data": {
      "text/plain": [
       "2018-02-13    NaN\n",
       "2018-02-14    NaN\n",
       "2018-02-15    1.0\n",
       "2018-02-16    2.0\n",
       "2018-02-17    3.0\n",
       "2018-02-18    NaN\n",
       "2018-02-19    NaN\n",
       "Freq: D, dtype: float64"
      ]
     },
     "execution_count": 91,
     "metadata": {},
     "output_type": "execute_result"
    }
   ],
   "source": [
    "s = pd.Series([1,2,3,np.nan,np.nan,6,7], index=dates).shift(2)\n",
    "s"
   ]
  },
  {
   "cell_type": "code",
   "execution_count": 93,
   "metadata": {},
   "outputs": [
    {
     "data": {
      "text/html": [
       "<div>\n",
       "<style>\n",
       "    .dataframe thead tr:only-child th {\n",
       "        text-align: right;\n",
       "    }\n",
       "\n",
       "    .dataframe thead th {\n",
       "        text-align: left;\n",
       "    }\n",
       "\n",
       "    .dataframe tbody tr th {\n",
       "        vertical-align: top;\n",
       "    }\n",
       "</style>\n",
       "<table border=\"1\" class=\"dataframe\">\n",
       "  <thead>\n",
       "    <tr style=\"text-align: right;\">\n",
       "      <th></th>\n",
       "      <th>A</th>\n",
       "      <th>B</th>\n",
       "      <th>C</th>\n",
       "      <th>D</th>\n",
       "      <th>E</th>\n",
       "    </tr>\n",
       "  </thead>\n",
       "  <tbody>\n",
       "    <tr>\n",
       "      <th>2018-02-13</th>\n",
       "      <td>NaN</td>\n",
       "      <td>NaN</td>\n",
       "      <td>NaN</td>\n",
       "      <td>NaN</td>\n",
       "      <td>NaN</td>\n",
       "    </tr>\n",
       "    <tr>\n",
       "      <th>2018-02-14</th>\n",
       "      <td>NaN</td>\n",
       "      <td>NaN</td>\n",
       "      <td>NaN</td>\n",
       "      <td>NaN</td>\n",
       "      <td>NaN</td>\n",
       "    </tr>\n",
       "    <tr>\n",
       "      <th>2018-02-15</th>\n",
       "      <td>1.160203</td>\n",
       "      <td>-0.650070</td>\n",
       "      <td>-2.613977</td>\n",
       "      <td>4.0</td>\n",
       "      <td>2.0</td>\n",
       "    </tr>\n",
       "    <tr>\n",
       "      <th>2018-02-16</th>\n",
       "      <td>-3.018225</td>\n",
       "      <td>-1.370723</td>\n",
       "      <td>-3.888395</td>\n",
       "      <td>3.0</td>\n",
       "      <td>2.0</td>\n",
       "    </tr>\n",
       "    <tr>\n",
       "      <th>2018-02-17</th>\n",
       "      <td>-4.096299</td>\n",
       "      <td>-0.907763</td>\n",
       "      <td>-2.719749</td>\n",
       "      <td>2.0</td>\n",
       "      <td>2.0</td>\n",
       "    </tr>\n",
       "    <tr>\n",
       "      <th>2018-02-18</th>\n",
       "      <td>NaN</td>\n",
       "      <td>NaN</td>\n",
       "      <td>NaN</td>\n",
       "      <td>NaN</td>\n",
       "      <td>NaN</td>\n",
       "    </tr>\n",
       "    <tr>\n",
       "      <th>2018-02-19</th>\n",
       "      <td>NaN</td>\n",
       "      <td>NaN</td>\n",
       "      <td>NaN</td>\n",
       "      <td>NaN</td>\n",
       "      <td>NaN</td>\n",
       "    </tr>\n",
       "  </tbody>\n",
       "</table>\n",
       "</div>"
      ],
      "text/plain": [
       "                   A         B         C    D    E\n",
       "2018-02-13       NaN       NaN       NaN  NaN  NaN\n",
       "2018-02-14       NaN       NaN       NaN  NaN  NaN\n",
       "2018-02-15  1.160203 -0.650070 -2.613977  4.0  2.0\n",
       "2018-02-16 -3.018225 -1.370723 -3.888395  3.0  2.0\n",
       "2018-02-17 -4.096299 -0.907763 -2.719749  2.0  2.0\n",
       "2018-02-18       NaN       NaN       NaN  NaN  NaN\n",
       "2018-02-19       NaN       NaN       NaN  NaN  NaN"
      ]
     },
     "execution_count": 93,
     "metadata": {},
     "output_type": "execute_result"
    }
   ],
   "source": [
    "df.sub(s, axis='index')"
   ]
  },
  {
   "cell_type": "code",
   "execution_count": 96,
   "metadata": {},
   "outputs": [
    {
     "name": "stdout",
     "output_type": "stream",
     "text": [
      "                   A         B         C  D  E\n",
      "2018-02-13  0.000000  1.000000 -1.045282  5  1\n",
      "2018-02-14 -0.494383 -1.812418  0.392011  5  2\n",
      "2018-02-15  2.160203  0.349930 -1.613977  5  3\n",
      "2018-02-16 -1.018225  0.629277 -1.888395  5  4\n",
      "2018-02-17 -1.096299  2.092237  0.280251  5  5\n",
      "2018-02-18  0.513296 -0.625118  0.000796  5  6\n",
      "2018-02-19 -1.349954  0.638369 -0.632032  5  7\n"
     ]
    },
    {
     "data": {
      "text/html": [
       "<div>\n",
       "<style>\n",
       "    .dataframe thead tr:only-child th {\n",
       "        text-align: right;\n",
       "    }\n",
       "\n",
       "    .dataframe thead th {\n",
       "        text-align: left;\n",
       "    }\n",
       "\n",
       "    .dataframe tbody tr th {\n",
       "        vertical-align: top;\n",
       "    }\n",
       "</style>\n",
       "<table border=\"1\" class=\"dataframe\">\n",
       "  <thead>\n",
       "    <tr style=\"text-align: right;\">\n",
       "      <th></th>\n",
       "      <th>A</th>\n",
       "      <th>B</th>\n",
       "      <th>C</th>\n",
       "      <th>D</th>\n",
       "      <th>E</th>\n",
       "    </tr>\n",
       "  </thead>\n",
       "  <tbody>\n",
       "    <tr>\n",
       "      <th>2018-02-13</th>\n",
       "      <td>0.000000</td>\n",
       "      <td>1.000000</td>\n",
       "      <td>-1.045282</td>\n",
       "      <td>5</td>\n",
       "      <td>1</td>\n",
       "    </tr>\n",
       "    <tr>\n",
       "      <th>2018-02-14</th>\n",
       "      <td>-0.494383</td>\n",
       "      <td>-0.812418</td>\n",
       "      <td>-0.653271</td>\n",
       "      <td>10</td>\n",
       "      <td>3</td>\n",
       "    </tr>\n",
       "    <tr>\n",
       "      <th>2018-02-15</th>\n",
       "      <td>1.665820</td>\n",
       "      <td>-0.462488</td>\n",
       "      <td>-2.267248</td>\n",
       "      <td>15</td>\n",
       "      <td>6</td>\n",
       "    </tr>\n",
       "    <tr>\n",
       "      <th>2018-02-16</th>\n",
       "      <td>0.647595</td>\n",
       "      <td>0.166789</td>\n",
       "      <td>-4.155643</td>\n",
       "      <td>20</td>\n",
       "      <td>10</td>\n",
       "    </tr>\n",
       "    <tr>\n",
       "      <th>2018-02-17</th>\n",
       "      <td>-0.448704</td>\n",
       "      <td>2.259025</td>\n",
       "      <td>-3.875392</td>\n",
       "      <td>25</td>\n",
       "      <td>15</td>\n",
       "    </tr>\n",
       "    <tr>\n",
       "      <th>2018-02-18</th>\n",
       "      <td>0.064592</td>\n",
       "      <td>1.633907</td>\n",
       "      <td>-3.874595</td>\n",
       "      <td>30</td>\n",
       "      <td>21</td>\n",
       "    </tr>\n",
       "    <tr>\n",
       "      <th>2018-02-19</th>\n",
       "      <td>-1.285362</td>\n",
       "      <td>2.272276</td>\n",
       "      <td>-4.506627</td>\n",
       "      <td>35</td>\n",
       "      <td>28</td>\n",
       "    </tr>\n",
       "  </tbody>\n",
       "</table>\n",
       "</div>"
      ],
      "text/plain": [
       "                   A         B         C   D   E\n",
       "2018-02-13  0.000000  1.000000 -1.045282   5   1\n",
       "2018-02-14 -0.494383 -0.812418 -0.653271  10   3\n",
       "2018-02-15  1.665820 -0.462488 -2.267248  15   6\n",
       "2018-02-16  0.647595  0.166789 -4.155643  20  10\n",
       "2018-02-17 -0.448704  2.259025 -3.875392  25  15\n",
       "2018-02-18  0.064592  1.633907 -3.874595  30  21\n",
       "2018-02-19 -1.285362  2.272276 -4.506627  35  28"
      ]
     },
     "execution_count": 96,
     "metadata": {},
     "output_type": "execute_result"
    }
   ],
   "source": [
    "print(df)\n",
    "df.apply(np.cumsum)"
   ]
  },
  {
   "cell_type": "code",
   "execution_count": 97,
   "metadata": {},
   "outputs": [
    {
     "data": {
      "text/plain": [
       "A    3.510158\n",
       "B    3.904655\n",
       "C    2.280405\n",
       "D    0.000000\n",
       "E    6.000000\n",
       "dtype: float64"
      ]
     },
     "execution_count": 97,
     "metadata": {},
     "output_type": "execute_result"
    }
   ],
   "source": [
    "df.apply(lambda x: x.max() - x.min())"
   ]
  },
  {
   "cell_type": "markdown",
   "metadata": {},
   "source": [
    "# Concat"
   ]
  },
  {
   "cell_type": "code",
   "execution_count": 98,
   "metadata": {},
   "outputs": [
    {
     "data": {
      "text/html": [
       "<div>\n",
       "<style>\n",
       "    .dataframe thead tr:only-child th {\n",
       "        text-align: right;\n",
       "    }\n",
       "\n",
       "    .dataframe thead th {\n",
       "        text-align: left;\n",
       "    }\n",
       "\n",
       "    .dataframe tbody tr th {\n",
       "        vertical-align: top;\n",
       "    }\n",
       "</style>\n",
       "<table border=\"1\" class=\"dataframe\">\n",
       "  <thead>\n",
       "    <tr style=\"text-align: right;\">\n",
       "      <th></th>\n",
       "      <th>0</th>\n",
       "      <th>1</th>\n",
       "      <th>2</th>\n",
       "      <th>3</th>\n",
       "    </tr>\n",
       "  </thead>\n",
       "  <tbody>\n",
       "    <tr>\n",
       "      <th>0</th>\n",
       "      <td>1.084545</td>\n",
       "      <td>-2.403657</td>\n",
       "      <td>0.904703</td>\n",
       "      <td>0.935637</td>\n",
       "    </tr>\n",
       "    <tr>\n",
       "      <th>1</th>\n",
       "      <td>0.360127</td>\n",
       "      <td>-1.630859</td>\n",
       "      <td>0.749268</td>\n",
       "      <td>-0.347847</td>\n",
       "    </tr>\n",
       "    <tr>\n",
       "      <th>2</th>\n",
       "      <td>1.653550</td>\n",
       "      <td>-0.722811</td>\n",
       "      <td>1.327546</td>\n",
       "      <td>0.528491</td>\n",
       "    </tr>\n",
       "    <tr>\n",
       "      <th>3</th>\n",
       "      <td>-0.376592</td>\n",
       "      <td>-0.112376</td>\n",
       "      <td>-0.747546</td>\n",
       "      <td>1.211231</td>\n",
       "    </tr>\n",
       "    <tr>\n",
       "      <th>4</th>\n",
       "      <td>0.268626</td>\n",
       "      <td>-0.100295</td>\n",
       "      <td>0.761426</td>\n",
       "      <td>-0.046743</td>\n",
       "    </tr>\n",
       "    <tr>\n",
       "      <th>5</th>\n",
       "      <td>0.919460</td>\n",
       "      <td>1.297227</td>\n",
       "      <td>2.065912</td>\n",
       "      <td>1.137375</td>\n",
       "    </tr>\n",
       "    <tr>\n",
       "      <th>6</th>\n",
       "      <td>-0.728407</td>\n",
       "      <td>-1.611232</td>\n",
       "      <td>-1.050111</td>\n",
       "      <td>0.839105</td>\n",
       "    </tr>\n",
       "    <tr>\n",
       "      <th>7</th>\n",
       "      <td>-0.014298</td>\n",
       "      <td>-0.642957</td>\n",
       "      <td>1.173830</td>\n",
       "      <td>0.278346</td>\n",
       "    </tr>\n",
       "    <tr>\n",
       "      <th>8</th>\n",
       "      <td>-0.120057</td>\n",
       "      <td>0.007575</td>\n",
       "      <td>1.051635</td>\n",
       "      <td>-1.821874</td>\n",
       "    </tr>\n",
       "    <tr>\n",
       "      <th>9</th>\n",
       "      <td>-0.354851</td>\n",
       "      <td>0.166848</td>\n",
       "      <td>0.711676</td>\n",
       "      <td>0.507953</td>\n",
       "    </tr>\n",
       "  </tbody>\n",
       "</table>\n",
       "</div>"
      ],
      "text/plain": [
       "          0         1         2         3\n",
       "0  1.084545 -2.403657  0.904703  0.935637\n",
       "1  0.360127 -1.630859  0.749268 -0.347847\n",
       "2  1.653550 -0.722811  1.327546  0.528491\n",
       "3 -0.376592 -0.112376 -0.747546  1.211231\n",
       "4  0.268626 -0.100295  0.761426 -0.046743\n",
       "5  0.919460  1.297227  2.065912  1.137375\n",
       "6 -0.728407 -1.611232 -1.050111  0.839105\n",
       "7 -0.014298 -0.642957  1.173830  0.278346\n",
       "8 -0.120057  0.007575  1.051635 -1.821874\n",
       "9 -0.354851  0.166848  0.711676  0.507953"
      ]
     },
     "execution_count": 98,
     "metadata": {},
     "output_type": "execute_result"
    }
   ],
   "source": [
    "df = pd.DataFrame(np.random.randn(10,4))\n",
    "df"
   ]
  },
  {
   "cell_type": "code",
   "execution_count": 99,
   "metadata": {},
   "outputs": [
    {
     "data": {
      "text/html": [
       "<div>\n",
       "<style>\n",
       "    .dataframe thead tr:only-child th {\n",
       "        text-align: right;\n",
       "    }\n",
       "\n",
       "    .dataframe thead th {\n",
       "        text-align: left;\n",
       "    }\n",
       "\n",
       "    .dataframe tbody tr th {\n",
       "        vertical-align: top;\n",
       "    }\n",
       "</style>\n",
       "<table border=\"1\" class=\"dataframe\">\n",
       "  <thead>\n",
       "    <tr style=\"text-align: right;\">\n",
       "      <th></th>\n",
       "      <th>0</th>\n",
       "      <th>1</th>\n",
       "      <th>2</th>\n",
       "      <th>3</th>\n",
       "    </tr>\n",
       "  </thead>\n",
       "  <tbody>\n",
       "    <tr>\n",
       "      <th>0</th>\n",
       "      <td>1.084545</td>\n",
       "      <td>-2.403657</td>\n",
       "      <td>0.904703</td>\n",
       "      <td>0.935637</td>\n",
       "    </tr>\n",
       "    <tr>\n",
       "      <th>1</th>\n",
       "      <td>0.360127</td>\n",
       "      <td>-1.630859</td>\n",
       "      <td>0.749268</td>\n",
       "      <td>-0.347847</td>\n",
       "    </tr>\n",
       "    <tr>\n",
       "      <th>2</th>\n",
       "      <td>1.653550</td>\n",
       "      <td>-0.722811</td>\n",
       "      <td>1.327546</td>\n",
       "      <td>0.528491</td>\n",
       "    </tr>\n",
       "  </tbody>\n",
       "</table>\n",
       "</div>"
      ],
      "text/plain": [
       "          0         1         2         3\n",
       "0  1.084545 -2.403657  0.904703  0.935637\n",
       "1  0.360127 -1.630859  0.749268 -0.347847\n",
       "2  1.653550 -0.722811  1.327546  0.528491"
      ]
     },
     "execution_count": 99,
     "metadata": {},
     "output_type": "execute_result"
    }
   ],
   "source": [
    "df1 = df[:3]\n",
    "df1"
   ]
  },
  {
   "cell_type": "code",
   "execution_count": 101,
   "metadata": {},
   "outputs": [
    {
     "data": {
      "text/html": [
       "<div>\n",
       "<style>\n",
       "    .dataframe thead tr:only-child th {\n",
       "        text-align: right;\n",
       "    }\n",
       "\n",
       "    .dataframe thead th {\n",
       "        text-align: left;\n",
       "    }\n",
       "\n",
       "    .dataframe tbody tr th {\n",
       "        vertical-align: top;\n",
       "    }\n",
       "</style>\n",
       "<table border=\"1\" class=\"dataframe\">\n",
       "  <thead>\n",
       "    <tr style=\"text-align: right;\">\n",
       "      <th></th>\n",
       "      <th>0</th>\n",
       "      <th>1</th>\n",
       "      <th>2</th>\n",
       "      <th>3</th>\n",
       "    </tr>\n",
       "  </thead>\n",
       "  <tbody>\n",
       "    <tr>\n",
       "      <th>3</th>\n",
       "      <td>-0.376592</td>\n",
       "      <td>-0.112376</td>\n",
       "      <td>-0.747546</td>\n",
       "      <td>1.211231</td>\n",
       "    </tr>\n",
       "    <tr>\n",
       "      <th>4</th>\n",
       "      <td>0.268626</td>\n",
       "      <td>-0.100295</td>\n",
       "      <td>0.761426</td>\n",
       "      <td>-0.046743</td>\n",
       "    </tr>\n",
       "    <tr>\n",
       "      <th>5</th>\n",
       "      <td>0.919460</td>\n",
       "      <td>1.297227</td>\n",
       "      <td>2.065912</td>\n",
       "      <td>1.137375</td>\n",
       "    </tr>\n",
       "    <tr>\n",
       "      <th>6</th>\n",
       "      <td>-0.728407</td>\n",
       "      <td>-1.611232</td>\n",
       "      <td>-1.050111</td>\n",
       "      <td>0.839105</td>\n",
       "    </tr>\n",
       "  </tbody>\n",
       "</table>\n",
       "</div>"
      ],
      "text/plain": [
       "          0         1         2         3\n",
       "3 -0.376592 -0.112376 -0.747546  1.211231\n",
       "4  0.268626 -0.100295  0.761426 -0.046743\n",
       "5  0.919460  1.297227  2.065912  1.137375\n",
       "6 -0.728407 -1.611232 -1.050111  0.839105"
      ]
     },
     "execution_count": 101,
     "metadata": {},
     "output_type": "execute_result"
    }
   ],
   "source": [
    "df2 = df[3:7]\n",
    "df2"
   ]
  },
  {
   "cell_type": "code",
   "execution_count": 102,
   "metadata": {},
   "outputs": [
    {
     "data": {
      "text/html": [
       "<div>\n",
       "<style>\n",
       "    .dataframe thead tr:only-child th {\n",
       "        text-align: right;\n",
       "    }\n",
       "\n",
       "    .dataframe thead th {\n",
       "        text-align: left;\n",
       "    }\n",
       "\n",
       "    .dataframe tbody tr th {\n",
       "        vertical-align: top;\n",
       "    }\n",
       "</style>\n",
       "<table border=\"1\" class=\"dataframe\">\n",
       "  <thead>\n",
       "    <tr style=\"text-align: right;\">\n",
       "      <th></th>\n",
       "      <th>0</th>\n",
       "      <th>1</th>\n",
       "      <th>2</th>\n",
       "      <th>3</th>\n",
       "    </tr>\n",
       "  </thead>\n",
       "  <tbody>\n",
       "    <tr>\n",
       "      <th>7</th>\n",
       "      <td>-0.014298</td>\n",
       "      <td>-0.642957</td>\n",
       "      <td>1.173830</td>\n",
       "      <td>0.278346</td>\n",
       "    </tr>\n",
       "    <tr>\n",
       "      <th>8</th>\n",
       "      <td>-0.120057</td>\n",
       "      <td>0.007575</td>\n",
       "      <td>1.051635</td>\n",
       "      <td>-1.821874</td>\n",
       "    </tr>\n",
       "    <tr>\n",
       "      <th>9</th>\n",
       "      <td>-0.354851</td>\n",
       "      <td>0.166848</td>\n",
       "      <td>0.711676</td>\n",
       "      <td>0.507953</td>\n",
       "    </tr>\n",
       "  </tbody>\n",
       "</table>\n",
       "</div>"
      ],
      "text/plain": [
       "          0         1         2         3\n",
       "7 -0.014298 -0.642957  1.173830  0.278346\n",
       "8 -0.120057  0.007575  1.051635 -1.821874\n",
       "9 -0.354851  0.166848  0.711676  0.507953"
      ]
     },
     "execution_count": 102,
     "metadata": {},
     "output_type": "execute_result"
    }
   ],
   "source": [
    "df3 = df[7:]\n",
    "df3"
   ]
  },
  {
   "cell_type": "code",
   "execution_count": 104,
   "metadata": {},
   "outputs": [
    {
     "data": {
      "text/html": [
       "<div>\n",
       "<style>\n",
       "    .dataframe thead tr:only-child th {\n",
       "        text-align: right;\n",
       "    }\n",
       "\n",
       "    .dataframe thead th {\n",
       "        text-align: left;\n",
       "    }\n",
       "\n",
       "    .dataframe tbody tr th {\n",
       "        vertical-align: top;\n",
       "    }\n",
       "</style>\n",
       "<table border=\"1\" class=\"dataframe\">\n",
       "  <thead>\n",
       "    <tr style=\"text-align: right;\">\n",
       "      <th></th>\n",
       "      <th>0</th>\n",
       "      <th>1</th>\n",
       "      <th>2</th>\n",
       "      <th>3</th>\n",
       "    </tr>\n",
       "  </thead>\n",
       "  <tbody>\n",
       "    <tr>\n",
       "      <th>0</th>\n",
       "      <td>1.084545</td>\n",
       "      <td>-2.403657</td>\n",
       "      <td>0.904703</td>\n",
       "      <td>0.935637</td>\n",
       "    </tr>\n",
       "    <tr>\n",
       "      <th>1</th>\n",
       "      <td>0.360127</td>\n",
       "      <td>-1.630859</td>\n",
       "      <td>0.749268</td>\n",
       "      <td>-0.347847</td>\n",
       "    </tr>\n",
       "    <tr>\n",
       "      <th>2</th>\n",
       "      <td>1.653550</td>\n",
       "      <td>-0.722811</td>\n",
       "      <td>1.327546</td>\n",
       "      <td>0.528491</td>\n",
       "    </tr>\n",
       "    <tr>\n",
       "      <th>3</th>\n",
       "      <td>-0.376592</td>\n",
       "      <td>-0.112376</td>\n",
       "      <td>-0.747546</td>\n",
       "      <td>1.211231</td>\n",
       "    </tr>\n",
       "    <tr>\n",
       "      <th>4</th>\n",
       "      <td>0.268626</td>\n",
       "      <td>-0.100295</td>\n",
       "      <td>0.761426</td>\n",
       "      <td>-0.046743</td>\n",
       "    </tr>\n",
       "    <tr>\n",
       "      <th>5</th>\n",
       "      <td>0.919460</td>\n",
       "      <td>1.297227</td>\n",
       "      <td>2.065912</td>\n",
       "      <td>1.137375</td>\n",
       "    </tr>\n",
       "    <tr>\n",
       "      <th>6</th>\n",
       "      <td>-0.728407</td>\n",
       "      <td>-1.611232</td>\n",
       "      <td>-1.050111</td>\n",
       "      <td>0.839105</td>\n",
       "    </tr>\n",
       "    <tr>\n",
       "      <th>7</th>\n",
       "      <td>-0.014298</td>\n",
       "      <td>-0.642957</td>\n",
       "      <td>1.173830</td>\n",
       "      <td>0.278346</td>\n",
       "    </tr>\n",
       "    <tr>\n",
       "      <th>8</th>\n",
       "      <td>-0.120057</td>\n",
       "      <td>0.007575</td>\n",
       "      <td>1.051635</td>\n",
       "      <td>-1.821874</td>\n",
       "    </tr>\n",
       "    <tr>\n",
       "      <th>9</th>\n",
       "      <td>-0.354851</td>\n",
       "      <td>0.166848</td>\n",
       "      <td>0.711676</td>\n",
       "      <td>0.507953</td>\n",
       "    </tr>\n",
       "  </tbody>\n",
       "</table>\n",
       "</div>"
      ],
      "text/plain": [
       "          0         1         2         3\n",
       "0  1.084545 -2.403657  0.904703  0.935637\n",
       "1  0.360127 -1.630859  0.749268 -0.347847\n",
       "2  1.653550 -0.722811  1.327546  0.528491\n",
       "3 -0.376592 -0.112376 -0.747546  1.211231\n",
       "4  0.268626 -0.100295  0.761426 -0.046743\n",
       "5  0.919460  1.297227  2.065912  1.137375\n",
       "6 -0.728407 -1.611232 -1.050111  0.839105\n",
       "7 -0.014298 -0.642957  1.173830  0.278346\n",
       "8 -0.120057  0.007575  1.051635 -1.821874\n",
       "9 -0.354851  0.166848  0.711676  0.507953"
      ]
     },
     "execution_count": 104,
     "metadata": {},
     "output_type": "execute_result"
    }
   ],
   "source": [
    "pd.concat([df1, df2, df3])"
   ]
  },
  {
   "cell_type": "markdown",
   "metadata": {},
   "source": [
    "# Join"
   ]
  },
  {
   "cell_type": "code",
   "execution_count": 106,
   "metadata": {},
   "outputs": [
    {
     "name": "stdout",
     "output_type": "stream",
     "text": [
      "Left\n",
      "    key  lval\n",
      "0  foo     1\n",
      "1  foo     2\n",
      "\n",
      "Right\n",
      "    key  rval\n",
      "0  foo     4\n",
      "1  foo     5\n"
     ]
    }
   ],
   "source": [
    "left = pd.DataFrame({'key': ['foo', 'foo'], 'lval':[1,2]})\n",
    "right = pd.DataFrame({'key': ['foo', 'foo'], 'rval': [4, 5]})\n",
    "print('Left\\n',left)\n",
    "print('\\nRight\\n',right)"
   ]
  },
  {
   "cell_type": "code",
   "execution_count": 107,
   "metadata": {},
   "outputs": [
    {
     "data": {
      "text/html": [
       "<div>\n",
       "<style>\n",
       "    .dataframe thead tr:only-child th {\n",
       "        text-align: right;\n",
       "    }\n",
       "\n",
       "    .dataframe thead th {\n",
       "        text-align: left;\n",
       "    }\n",
       "\n",
       "    .dataframe tbody tr th {\n",
       "        vertical-align: top;\n",
       "    }\n",
       "</style>\n",
       "<table border=\"1\" class=\"dataframe\">\n",
       "  <thead>\n",
       "    <tr style=\"text-align: right;\">\n",
       "      <th></th>\n",
       "      <th>key</th>\n",
       "      <th>lval</th>\n",
       "      <th>rval</th>\n",
       "    </tr>\n",
       "  </thead>\n",
       "  <tbody>\n",
       "    <tr>\n",
       "      <th>0</th>\n",
       "      <td>foo</td>\n",
       "      <td>1</td>\n",
       "      <td>4</td>\n",
       "    </tr>\n",
       "    <tr>\n",
       "      <th>1</th>\n",
       "      <td>foo</td>\n",
       "      <td>1</td>\n",
       "      <td>5</td>\n",
       "    </tr>\n",
       "    <tr>\n",
       "      <th>2</th>\n",
       "      <td>foo</td>\n",
       "      <td>2</td>\n",
       "      <td>4</td>\n",
       "    </tr>\n",
       "    <tr>\n",
       "      <th>3</th>\n",
       "      <td>foo</td>\n",
       "      <td>2</td>\n",
       "      <td>5</td>\n",
       "    </tr>\n",
       "  </tbody>\n",
       "</table>\n",
       "</div>"
      ],
      "text/plain": [
       "   key  lval  rval\n",
       "0  foo     1     4\n",
       "1  foo     1     5\n",
       "2  foo     2     4\n",
       "3  foo     2     5"
      ]
     },
     "execution_count": 107,
     "metadata": {},
     "output_type": "execute_result"
    }
   ],
   "source": [
    "pd.merge(left, right, on='key')"
   ]
  },
  {
   "cell_type": "code",
   "execution_count": 3,
   "metadata": {},
   "outputs": [
    {
     "name": "stdout",
     "output_type": "stream",
     "text": [
      "Left\n",
      "    key  lval\n",
      "0  foo     1\n",
      "1  bar     2\n",
      "\n",
      "Right\n",
      "    key  rval\n",
      "0  foo     4\n",
      "1  bar     5\n"
     ]
    }
   ],
   "source": [
    "left = pd.DataFrame({'key': ['foo', 'bar'], 'lval': [1, 2]})\n",
    "right = pd.DataFrame({'key': ['foo', 'bar'], 'rval': [4,5]})\n",
    "print('Left\\n', left)\n",
    "print('\\nRight\\n', right)"
   ]
  },
  {
   "cell_type": "code",
   "execution_count": 4,
   "metadata": {},
   "outputs": [
    {
     "data": {
      "text/html": [
       "<div>\n",
       "<style>\n",
       "    .dataframe thead tr:only-child th {\n",
       "        text-align: right;\n",
       "    }\n",
       "\n",
       "    .dataframe thead th {\n",
       "        text-align: left;\n",
       "    }\n",
       "\n",
       "    .dataframe tbody tr th {\n",
       "        vertical-align: top;\n",
       "    }\n",
       "</style>\n",
       "<table border=\"1\" class=\"dataframe\">\n",
       "  <thead>\n",
       "    <tr style=\"text-align: right;\">\n",
       "      <th></th>\n",
       "      <th>key</th>\n",
       "      <th>lval</th>\n",
       "      <th>rval</th>\n",
       "    </tr>\n",
       "  </thead>\n",
       "  <tbody>\n",
       "    <tr>\n",
       "      <th>0</th>\n",
       "      <td>foo</td>\n",
       "      <td>1</td>\n",
       "      <td>4</td>\n",
       "    </tr>\n",
       "    <tr>\n",
       "      <th>1</th>\n",
       "      <td>bar</td>\n",
       "      <td>2</td>\n",
       "      <td>5</td>\n",
       "    </tr>\n",
       "  </tbody>\n",
       "</table>\n",
       "</div>"
      ],
      "text/plain": [
       "   key  lval  rval\n",
       "0  foo     1     4\n",
       "1  bar     2     5"
      ]
     },
     "execution_count": 4,
     "metadata": {},
     "output_type": "execute_result"
    }
   ],
   "source": [
    "pd.merge(left, right, on='key')"
   ]
  },
  {
   "cell_type": "markdown",
   "metadata": {},
   "source": [
    "Append rows to exisiting dataframe"
   ]
  },
  {
   "cell_type": "code",
   "execution_count": 5,
   "metadata": {},
   "outputs": [
    {
     "data": {
      "text/html": [
       "<div>\n",
       "<style>\n",
       "    .dataframe thead tr:only-child th {\n",
       "        text-align: right;\n",
       "    }\n",
       "\n",
       "    .dataframe thead th {\n",
       "        text-align: left;\n",
       "    }\n",
       "\n",
       "    .dataframe tbody tr th {\n",
       "        vertical-align: top;\n",
       "    }\n",
       "</style>\n",
       "<table border=\"1\" class=\"dataframe\">\n",
       "  <thead>\n",
       "    <tr style=\"text-align: right;\">\n",
       "      <th></th>\n",
       "      <th>A</th>\n",
       "      <th>B</th>\n",
       "      <th>C</th>\n",
       "      <th>D</th>\n",
       "    </tr>\n",
       "  </thead>\n",
       "  <tbody>\n",
       "    <tr>\n",
       "      <th>0</th>\n",
       "      <td>0.085105</td>\n",
       "      <td>-0.605418</td>\n",
       "      <td>-0.274850</td>\n",
       "      <td>-0.152580</td>\n",
       "    </tr>\n",
       "    <tr>\n",
       "      <th>1</th>\n",
       "      <td>-0.210166</td>\n",
       "      <td>0.245868</td>\n",
       "      <td>0.046894</td>\n",
       "      <td>0.579421</td>\n",
       "    </tr>\n",
       "    <tr>\n",
       "      <th>2</th>\n",
       "      <td>-0.698051</td>\n",
       "      <td>0.588436</td>\n",
       "      <td>-2.325445</td>\n",
       "      <td>0.750735</td>\n",
       "    </tr>\n",
       "    <tr>\n",
       "      <th>3</th>\n",
       "      <td>0.907673</td>\n",
       "      <td>-0.188016</td>\n",
       "      <td>0.505402</td>\n",
       "      <td>-0.470826</td>\n",
       "    </tr>\n",
       "    <tr>\n",
       "      <th>4</th>\n",
       "      <td>0.498771</td>\n",
       "      <td>0.181565</td>\n",
       "      <td>-1.166746</td>\n",
       "      <td>-1.312376</td>\n",
       "    </tr>\n",
       "    <tr>\n",
       "      <th>5</th>\n",
       "      <td>0.701405</td>\n",
       "      <td>0.560732</td>\n",
       "      <td>-0.130521</td>\n",
       "      <td>0.258146</td>\n",
       "    </tr>\n",
       "    <tr>\n",
       "      <th>6</th>\n",
       "      <td>0.145512</td>\n",
       "      <td>-0.118527</td>\n",
       "      <td>0.401808</td>\n",
       "      <td>0.140135</td>\n",
       "    </tr>\n",
       "  </tbody>\n",
       "</table>\n",
       "</div>"
      ],
      "text/plain": [
       "          A         B         C         D\n",
       "0  0.085105 -0.605418 -0.274850 -0.152580\n",
       "1 -0.210166  0.245868  0.046894  0.579421\n",
       "2 -0.698051  0.588436 -2.325445  0.750735\n",
       "3  0.907673 -0.188016  0.505402 -0.470826\n",
       "4  0.498771  0.181565 -1.166746 -1.312376\n",
       "5  0.701405  0.560732 -0.130521  0.258146\n",
       "6  0.145512 -0.118527  0.401808  0.140135"
      ]
     },
     "execution_count": 5,
     "metadata": {},
     "output_type": "execute_result"
    }
   ],
   "source": [
    "df = pd.DataFrame(np.random.randn(7,4), columns=list('ABCD'))\n",
    "df"
   ]
  },
  {
   "cell_type": "code",
   "execution_count": 6,
   "metadata": {},
   "outputs": [
    {
     "data": {
      "text/plain": [
       "A    0.907673\n",
       "B   -0.188016\n",
       "C    0.505402\n",
       "D   -0.470826\n",
       "Name: 3, dtype: float64"
      ]
     },
     "execution_count": 6,
     "metadata": {},
     "output_type": "execute_result"
    }
   ],
   "source": [
    "s = df.iloc[3]\n",
    "s"
   ]
  },
  {
   "cell_type": "code",
   "execution_count": 7,
   "metadata": {},
   "outputs": [
    {
     "data": {
      "text/html": [
       "<div>\n",
       "<style>\n",
       "    .dataframe thead tr:only-child th {\n",
       "        text-align: right;\n",
       "    }\n",
       "\n",
       "    .dataframe thead th {\n",
       "        text-align: left;\n",
       "    }\n",
       "\n",
       "    .dataframe tbody tr th {\n",
       "        vertical-align: top;\n",
       "    }\n",
       "</style>\n",
       "<table border=\"1\" class=\"dataframe\">\n",
       "  <thead>\n",
       "    <tr style=\"text-align: right;\">\n",
       "      <th></th>\n",
       "      <th>A</th>\n",
       "      <th>B</th>\n",
       "      <th>C</th>\n",
       "      <th>D</th>\n",
       "    </tr>\n",
       "  </thead>\n",
       "  <tbody>\n",
       "    <tr>\n",
       "      <th>0</th>\n",
       "      <td>0.085105</td>\n",
       "      <td>-0.605418</td>\n",
       "      <td>-0.274850</td>\n",
       "      <td>-0.152580</td>\n",
       "    </tr>\n",
       "    <tr>\n",
       "      <th>1</th>\n",
       "      <td>-0.210166</td>\n",
       "      <td>0.245868</td>\n",
       "      <td>0.046894</td>\n",
       "      <td>0.579421</td>\n",
       "    </tr>\n",
       "    <tr>\n",
       "      <th>2</th>\n",
       "      <td>-0.698051</td>\n",
       "      <td>0.588436</td>\n",
       "      <td>-2.325445</td>\n",
       "      <td>0.750735</td>\n",
       "    </tr>\n",
       "    <tr>\n",
       "      <th>3</th>\n",
       "      <td>0.907673</td>\n",
       "      <td>-0.188016</td>\n",
       "      <td>0.505402</td>\n",
       "      <td>-0.470826</td>\n",
       "    </tr>\n",
       "    <tr>\n",
       "      <th>4</th>\n",
       "      <td>0.498771</td>\n",
       "      <td>0.181565</td>\n",
       "      <td>-1.166746</td>\n",
       "      <td>-1.312376</td>\n",
       "    </tr>\n",
       "    <tr>\n",
       "      <th>5</th>\n",
       "      <td>0.701405</td>\n",
       "      <td>0.560732</td>\n",
       "      <td>-0.130521</td>\n",
       "      <td>0.258146</td>\n",
       "    </tr>\n",
       "    <tr>\n",
       "      <th>6</th>\n",
       "      <td>0.145512</td>\n",
       "      <td>-0.118527</td>\n",
       "      <td>0.401808</td>\n",
       "      <td>0.140135</td>\n",
       "    </tr>\n",
       "    <tr>\n",
       "      <th>7</th>\n",
       "      <td>0.907673</td>\n",
       "      <td>-0.188016</td>\n",
       "      <td>0.505402</td>\n",
       "      <td>-0.470826</td>\n",
       "    </tr>\n",
       "  </tbody>\n",
       "</table>\n",
       "</div>"
      ],
      "text/plain": [
       "          A         B         C         D\n",
       "0  0.085105 -0.605418 -0.274850 -0.152580\n",
       "1 -0.210166  0.245868  0.046894  0.579421\n",
       "2 -0.698051  0.588436 -2.325445  0.750735\n",
       "3  0.907673 -0.188016  0.505402 -0.470826\n",
       "4  0.498771  0.181565 -1.166746 -1.312376\n",
       "5  0.701405  0.560732 -0.130521  0.258146\n",
       "6  0.145512 -0.118527  0.401808  0.140135\n",
       "7  0.907673 -0.188016  0.505402 -0.470826"
      ]
     },
     "execution_count": 7,
     "metadata": {},
     "output_type": "execute_result"
    }
   ],
   "source": [
    "df.append(s, ignore_index=True)"
   ]
  },
  {
   "cell_type": "code",
   "execution_count": 8,
   "metadata": {},
   "outputs": [
    {
     "data": {
      "text/html": [
       "<div>\n",
       "<style>\n",
       "    .dataframe thead tr:only-child th {\n",
       "        text-align: right;\n",
       "    }\n",
       "\n",
       "    .dataframe thead th {\n",
       "        text-align: left;\n",
       "    }\n",
       "\n",
       "    .dataframe tbody tr th {\n",
       "        vertical-align: top;\n",
       "    }\n",
       "</style>\n",
       "<table border=\"1\" class=\"dataframe\">\n",
       "  <thead>\n",
       "    <tr style=\"text-align: right;\">\n",
       "      <th></th>\n",
       "      <th>A</th>\n",
       "      <th>B</th>\n",
       "      <th>C</th>\n",
       "      <th>D</th>\n",
       "    </tr>\n",
       "  </thead>\n",
       "  <tbody>\n",
       "    <tr>\n",
       "      <th>0</th>\n",
       "      <td>foo</td>\n",
       "      <td>one</td>\n",
       "      <td>1.050409</td>\n",
       "      <td>-0.621291</td>\n",
       "    </tr>\n",
       "    <tr>\n",
       "      <th>1</th>\n",
       "      <td>bar</td>\n",
       "      <td>one</td>\n",
       "      <td>-2.355787</td>\n",
       "      <td>2.846220</td>\n",
       "    </tr>\n",
       "    <tr>\n",
       "      <th>2</th>\n",
       "      <td>foo</td>\n",
       "      <td>two</td>\n",
       "      <td>-0.698834</td>\n",
       "      <td>-1.448198</td>\n",
       "    </tr>\n",
       "    <tr>\n",
       "      <th>3</th>\n",
       "      <td>bar</td>\n",
       "      <td>three</td>\n",
       "      <td>-0.019282</td>\n",
       "      <td>2.578626</td>\n",
       "    </tr>\n",
       "    <tr>\n",
       "      <th>4</th>\n",
       "      <td>foo</td>\n",
       "      <td>two</td>\n",
       "      <td>-2.252986</td>\n",
       "      <td>0.384233</td>\n",
       "    </tr>\n",
       "    <tr>\n",
       "      <th>5</th>\n",
       "      <td>bar</td>\n",
       "      <td>two</td>\n",
       "      <td>1.134335</td>\n",
       "      <td>-1.851623</td>\n",
       "    </tr>\n",
       "    <tr>\n",
       "      <th>6</th>\n",
       "      <td>foo</td>\n",
       "      <td>one</td>\n",
       "      <td>-0.224389</td>\n",
       "      <td>0.273348</td>\n",
       "    </tr>\n",
       "    <tr>\n",
       "      <th>7</th>\n",
       "      <td>bar</td>\n",
       "      <td>three</td>\n",
       "      <td>1.198939</td>\n",
       "      <td>-0.004568</td>\n",
       "    </tr>\n",
       "  </tbody>\n",
       "</table>\n",
       "</div>"
      ],
      "text/plain": [
       "     A      B         C         D\n",
       "0  foo    one  1.050409 -0.621291\n",
       "1  bar    one -2.355787  2.846220\n",
       "2  foo    two -0.698834 -1.448198\n",
       "3  bar  three -0.019282  2.578626\n",
       "4  foo    two -2.252986  0.384233\n",
       "5  bar    two  1.134335 -1.851623\n",
       "6  foo    one -0.224389  0.273348\n",
       "7  bar  three  1.198939 -0.004568"
      ]
     },
     "execution_count": 8,
     "metadata": {},
     "output_type": "execute_result"
    }
   ],
   "source": [
    "df = pd.DataFrame({'A': ['foo', 'bar', 'foo', 'bar',\n",
    "                         'foo', 'bar', 'foo', 'bar'],\n",
    "                   'B': ['one', 'one', 'two', 'three',\n",
    "                         'two', 'two', 'one', 'three'],\n",
    "                   'C': np.random.randn(8),\n",
    "                   'D': np.random.randn(8)\n",
    "                  })\n",
    "df"
   ]
  },
  {
   "cell_type": "code",
   "execution_count": 10,
   "metadata": {},
   "outputs": [
    {
     "data": {
      "text/html": [
       "<div>\n",
       "<style>\n",
       "    .dataframe thead tr:only-child th {\n",
       "        text-align: right;\n",
       "    }\n",
       "\n",
       "    .dataframe thead th {\n",
       "        text-align: left;\n",
       "    }\n",
       "\n",
       "    .dataframe tbody tr th {\n",
       "        vertical-align: top;\n",
       "    }\n",
       "</style>\n",
       "<table border=\"1\" class=\"dataframe\">\n",
       "  <thead>\n",
       "    <tr style=\"text-align: right;\">\n",
       "      <th></th>\n",
       "      <th>C</th>\n",
       "      <th>D</th>\n",
       "    </tr>\n",
       "    <tr>\n",
       "      <th>A</th>\n",
       "      <th></th>\n",
       "      <th></th>\n",
       "    </tr>\n",
       "  </thead>\n",
       "  <tbody>\n",
       "    <tr>\n",
       "      <th>bar</th>\n",
       "      <td>-0.041796</td>\n",
       "      <td>3.568656</td>\n",
       "    </tr>\n",
       "    <tr>\n",
       "      <th>foo</th>\n",
       "      <td>-2.125800</td>\n",
       "      <td>-1.411908</td>\n",
       "    </tr>\n",
       "  </tbody>\n",
       "</table>\n",
       "</div>"
      ],
      "text/plain": [
       "            C         D\n",
       "A                      \n",
       "bar -0.041796  3.568656\n",
       "foo -2.125800 -1.411908"
      ]
     },
     "execution_count": 10,
     "metadata": {},
     "output_type": "execute_result"
    }
   ],
   "source": [
    "df.groupby('A').sum()"
   ]
  },
  {
   "cell_type": "code",
   "execution_count": 11,
   "metadata": {},
   "outputs": [
    {
     "data": {
      "text/html": [
       "<div>\n",
       "<style>\n",
       "    .dataframe thead tr:only-child th {\n",
       "        text-align: right;\n",
       "    }\n",
       "\n",
       "    .dataframe thead th {\n",
       "        text-align: left;\n",
       "    }\n",
       "\n",
       "    .dataframe tbody tr th {\n",
       "        vertical-align: top;\n",
       "    }\n",
       "</style>\n",
       "<table border=\"1\" class=\"dataframe\">\n",
       "  <thead>\n",
       "    <tr style=\"text-align: right;\">\n",
       "      <th></th>\n",
       "      <th></th>\n",
       "      <th>C</th>\n",
       "      <th>D</th>\n",
       "    </tr>\n",
       "    <tr>\n",
       "      <th>A</th>\n",
       "      <th>B</th>\n",
       "      <th></th>\n",
       "      <th></th>\n",
       "    </tr>\n",
       "  </thead>\n",
       "  <tbody>\n",
       "    <tr>\n",
       "      <th rowspan=\"3\" valign=\"top\">bar</th>\n",
       "      <th>one</th>\n",
       "      <td>-2.355787</td>\n",
       "      <td>2.846220</td>\n",
       "    </tr>\n",
       "    <tr>\n",
       "      <th>three</th>\n",
       "      <td>1.179657</td>\n",
       "      <td>2.574059</td>\n",
       "    </tr>\n",
       "    <tr>\n",
       "      <th>two</th>\n",
       "      <td>1.134335</td>\n",
       "      <td>-1.851623</td>\n",
       "    </tr>\n",
       "    <tr>\n",
       "      <th rowspan=\"2\" valign=\"top\">foo</th>\n",
       "      <th>one</th>\n",
       "      <td>0.826020</td>\n",
       "      <td>-0.347943</td>\n",
       "    </tr>\n",
       "    <tr>\n",
       "      <th>two</th>\n",
       "      <td>-2.951820</td>\n",
       "      <td>-1.063965</td>\n",
       "    </tr>\n",
       "  </tbody>\n",
       "</table>\n",
       "</div>"
      ],
      "text/plain": [
       "                  C         D\n",
       "A   B                        \n",
       "bar one   -2.355787  2.846220\n",
       "    three  1.179657  2.574059\n",
       "    two    1.134335 -1.851623\n",
       "foo one    0.826020 -0.347943\n",
       "    two   -2.951820 -1.063965"
      ]
     },
     "execution_count": 11,
     "metadata": {},
     "output_type": "execute_result"
    }
   ],
   "source": [
    "df.groupby(['A', 'B']).sum()"
   ]
  },
  {
   "cell_type": "markdown",
   "metadata": {},
   "source": [
    "# Reshaping"
   ]
  },
  {
   "cell_type": "code",
   "execution_count": 18,
   "metadata": {},
   "outputs": [
    {
     "data": {
      "text/plain": [
       "[('bar', 'one'),\n",
       " ('bar', 'two'),\n",
       " ('baz', 'one'),\n",
       " ('baz', 'two'),\n",
       " ('foo', 'one'),\n",
       " ('foo', 'two'),\n",
       " ('qux', 'one'),\n",
       " ('qux', 'two')]"
      ]
     },
     "execution_count": 18,
     "metadata": {},
     "output_type": "execute_result"
    }
   ],
   "source": [
    "tuples = list(zip(*[['bar', 'bar', 'baz', 'baz',\n",
    "                'foo', 'foo', 'qux', 'qux'],\n",
    "                ['one', 'two', 'one', 'two',\n",
    "                'one', 'two', 'one', 'two']]))\n",
    "tuples"
   ]
  },
  {
   "cell_type": "code",
   "execution_count": 19,
   "metadata": {},
   "outputs": [
    {
     "data": {
      "text/plain": [
       "MultiIndex(levels=[['bar', 'baz', 'foo', 'qux'], ['one', 'two']],\n",
       "           labels=[[0, 0, 1, 1, 2, 2, 3, 3], [0, 1, 0, 1, 0, 1, 0, 1]],\n",
       "           names=['First', 'Second'])"
      ]
     },
     "execution_count": 19,
     "metadata": {},
     "output_type": "execute_result"
    }
   ],
   "source": [
    "index = pd.MultiIndex.from_tuples(tuples, names=['First', 'Second'])\n",
    "index"
   ]
  },
  {
   "cell_type": "code",
   "execution_count": 23,
   "metadata": {},
   "outputs": [
    {
     "data": {
      "text/html": [
       "<div>\n",
       "<style>\n",
       "    .dataframe thead tr:only-child th {\n",
       "        text-align: right;\n",
       "    }\n",
       "\n",
       "    .dataframe thead th {\n",
       "        text-align: left;\n",
       "    }\n",
       "\n",
       "    .dataframe tbody tr th {\n",
       "        vertical-align: top;\n",
       "    }\n",
       "</style>\n",
       "<table border=\"1\" class=\"dataframe\">\n",
       "  <thead>\n",
       "    <tr style=\"text-align: right;\">\n",
       "      <th></th>\n",
       "      <th></th>\n",
       "      <th>A</th>\n",
       "      <th>B</th>\n",
       "    </tr>\n",
       "    <tr>\n",
       "      <th>First</th>\n",
       "      <th>Second</th>\n",
       "      <th></th>\n",
       "      <th></th>\n",
       "    </tr>\n",
       "  </thead>\n",
       "  <tbody>\n",
       "    <tr>\n",
       "      <th rowspan=\"2\" valign=\"top\">bar</th>\n",
       "      <th>one</th>\n",
       "      <td>0.189276</td>\n",
       "      <td>0.514323</td>\n",
       "    </tr>\n",
       "    <tr>\n",
       "      <th>two</th>\n",
       "      <td>-0.184151</td>\n",
       "      <td>2.092713</td>\n",
       "    </tr>\n",
       "    <tr>\n",
       "      <th rowspan=\"2\" valign=\"top\">baz</th>\n",
       "      <th>one</th>\n",
       "      <td>-0.436843</td>\n",
       "      <td>0.722168</td>\n",
       "    </tr>\n",
       "    <tr>\n",
       "      <th>two</th>\n",
       "      <td>0.601511</td>\n",
       "      <td>1.567411</td>\n",
       "    </tr>\n",
       "    <tr>\n",
       "      <th rowspan=\"2\" valign=\"top\">foo</th>\n",
       "      <th>one</th>\n",
       "      <td>0.471686</td>\n",
       "      <td>1.128207</td>\n",
       "    </tr>\n",
       "    <tr>\n",
       "      <th>two</th>\n",
       "      <td>-0.568618</td>\n",
       "      <td>-0.651124</td>\n",
       "    </tr>\n",
       "    <tr>\n",
       "      <th rowspan=\"2\" valign=\"top\">qux</th>\n",
       "      <th>one</th>\n",
       "      <td>-0.740108</td>\n",
       "      <td>0.181559</td>\n",
       "    </tr>\n",
       "    <tr>\n",
       "      <th>two</th>\n",
       "      <td>0.422298</td>\n",
       "      <td>-1.156722</td>\n",
       "    </tr>\n",
       "  </tbody>\n",
       "</table>\n",
       "</div>"
      ],
      "text/plain": [
       "                     A         B\n",
       "First Second                    \n",
       "bar   one     0.189276  0.514323\n",
       "      two    -0.184151  2.092713\n",
       "baz   one    -0.436843  0.722168\n",
       "      two     0.601511  1.567411\n",
       "foo   one     0.471686  1.128207\n",
       "      two    -0.568618 -0.651124\n",
       "qux   one    -0.740108  0.181559\n",
       "      two     0.422298 -1.156722"
      ]
     },
     "execution_count": 23,
     "metadata": {},
     "output_type": "execute_result"
    }
   ],
   "source": [
    "df = pd.DataFrame(np.random.randn(8, 2), index=index, columns=['A', 'B'])\n",
    "df"
   ]
  },
  {
   "cell_type": "code",
   "execution_count": 24,
   "metadata": {},
   "outputs": [
    {
     "data": {
      "text/html": [
       "<div>\n",
       "<style>\n",
       "    .dataframe thead tr:only-child th {\n",
       "        text-align: right;\n",
       "    }\n",
       "\n",
       "    .dataframe thead th {\n",
       "        text-align: left;\n",
       "    }\n",
       "\n",
       "    .dataframe tbody tr th {\n",
       "        vertical-align: top;\n",
       "    }\n",
       "</style>\n",
       "<table border=\"1\" class=\"dataframe\">\n",
       "  <thead>\n",
       "    <tr style=\"text-align: right;\">\n",
       "      <th></th>\n",
       "      <th></th>\n",
       "      <th>A</th>\n",
       "      <th>B</th>\n",
       "    </tr>\n",
       "    <tr>\n",
       "      <th>First</th>\n",
       "      <th>Second</th>\n",
       "      <th></th>\n",
       "      <th></th>\n",
       "    </tr>\n",
       "  </thead>\n",
       "  <tbody>\n",
       "    <tr>\n",
       "      <th rowspan=\"2\" valign=\"top\">bar</th>\n",
       "      <th>one</th>\n",
       "      <td>0.189276</td>\n",
       "      <td>0.514323</td>\n",
       "    </tr>\n",
       "    <tr>\n",
       "      <th>two</th>\n",
       "      <td>-0.184151</td>\n",
       "      <td>2.092713</td>\n",
       "    </tr>\n",
       "    <tr>\n",
       "      <th rowspan=\"2\" valign=\"top\">baz</th>\n",
       "      <th>one</th>\n",
       "      <td>-0.436843</td>\n",
       "      <td>0.722168</td>\n",
       "    </tr>\n",
       "    <tr>\n",
       "      <th>two</th>\n",
       "      <td>0.601511</td>\n",
       "      <td>1.567411</td>\n",
       "    </tr>\n",
       "  </tbody>\n",
       "</table>\n",
       "</div>"
      ],
      "text/plain": [
       "                     A         B\n",
       "First Second                    \n",
       "bar   one     0.189276  0.514323\n",
       "      two    -0.184151  2.092713\n",
       "baz   one    -0.436843  0.722168\n",
       "      two     0.601511  1.567411"
      ]
     },
     "execution_count": 24,
     "metadata": {},
     "output_type": "execute_result"
    }
   ],
   "source": [
    "df2 = df[:4]\n",
    "df2"
   ]
  },
  {
   "cell_type": "markdown",
   "metadata": {},
   "source": [
    "'stack()' method compresses the levels in the dataframe columns"
   ]
  },
  {
   "cell_type": "code",
   "execution_count": 25,
   "metadata": {},
   "outputs": [
    {
     "data": {
      "text/plain": [
       "First  Second   \n",
       "bar    one     A    0.189276\n",
       "               B    0.514323\n",
       "       two     A   -0.184151\n",
       "               B    2.092713\n",
       "baz    one     A   -0.436843\n",
       "               B    0.722168\n",
       "       two     A    0.601511\n",
       "               B    1.567411\n",
       "dtype: float64"
      ]
     },
     "execution_count": 25,
     "metadata": {},
     "output_type": "execute_result"
    }
   ],
   "source": [
    "stacked = df2.stack()\n",
    "stacked"
   ]
  },
  {
   "cell_type": "code",
   "execution_count": 26,
   "metadata": {},
   "outputs": [
    {
     "data": {
      "text/html": [
       "<div>\n",
       "<style>\n",
       "    .dataframe thead tr:only-child th {\n",
       "        text-align: right;\n",
       "    }\n",
       "\n",
       "    .dataframe thead th {\n",
       "        text-align: left;\n",
       "    }\n",
       "\n",
       "    .dataframe tbody tr th {\n",
       "        vertical-align: top;\n",
       "    }\n",
       "</style>\n",
       "<table border=\"1\" class=\"dataframe\">\n",
       "  <thead>\n",
       "    <tr style=\"text-align: right;\">\n",
       "      <th></th>\n",
       "      <th></th>\n",
       "      <th>A</th>\n",
       "      <th>B</th>\n",
       "    </tr>\n",
       "    <tr>\n",
       "      <th>First</th>\n",
       "      <th>Second</th>\n",
       "      <th></th>\n",
       "      <th></th>\n",
       "    </tr>\n",
       "  </thead>\n",
       "  <tbody>\n",
       "    <tr>\n",
       "      <th rowspan=\"2\" valign=\"top\">bar</th>\n",
       "      <th>one</th>\n",
       "      <td>0.189276</td>\n",
       "      <td>0.514323</td>\n",
       "    </tr>\n",
       "    <tr>\n",
       "      <th>two</th>\n",
       "      <td>-0.184151</td>\n",
       "      <td>2.092713</td>\n",
       "    </tr>\n",
       "    <tr>\n",
       "      <th rowspan=\"2\" valign=\"top\">baz</th>\n",
       "      <th>one</th>\n",
       "      <td>-0.436843</td>\n",
       "      <td>0.722168</td>\n",
       "    </tr>\n",
       "    <tr>\n",
       "      <th>two</th>\n",
       "      <td>0.601511</td>\n",
       "      <td>1.567411</td>\n",
       "    </tr>\n",
       "  </tbody>\n",
       "</table>\n",
       "</div>"
      ],
      "text/plain": [
       "                     A         B\n",
       "First Second                    \n",
       "bar   one     0.189276  0.514323\n",
       "      two    -0.184151  2.092713\n",
       "baz   one    -0.436843  0.722168\n",
       "      two     0.601511  1.567411"
      ]
     },
     "execution_count": 26,
     "metadata": {},
     "output_type": "execute_result"
    }
   ],
   "source": [
    "stacked.unstack()"
   ]
  },
  {
   "cell_type": "code",
   "execution_count": 29,
   "metadata": {},
   "outputs": [
    {
     "data": {
      "text/html": [
       "<div>\n",
       "<style>\n",
       "    .dataframe thead tr:only-child th {\n",
       "        text-align: right;\n",
       "    }\n",
       "\n",
       "    .dataframe thead th {\n",
       "        text-align: left;\n",
       "    }\n",
       "\n",
       "    .dataframe tbody tr th {\n",
       "        vertical-align: top;\n",
       "    }\n",
       "</style>\n",
       "<table border=\"1\" class=\"dataframe\">\n",
       "  <thead>\n",
       "    <tr>\n",
       "      <th></th>\n",
       "      <th colspan=\"2\" halign=\"left\">A</th>\n",
       "      <th colspan=\"2\" halign=\"left\">B</th>\n",
       "    </tr>\n",
       "    <tr>\n",
       "      <th>Second</th>\n",
       "      <th>one</th>\n",
       "      <th>two</th>\n",
       "      <th>one</th>\n",
       "      <th>two</th>\n",
       "    </tr>\n",
       "    <tr>\n",
       "      <th>First</th>\n",
       "      <th></th>\n",
       "      <th></th>\n",
       "      <th></th>\n",
       "      <th></th>\n",
       "    </tr>\n",
       "  </thead>\n",
       "  <tbody>\n",
       "    <tr>\n",
       "      <th>bar</th>\n",
       "      <td>0.189276</td>\n",
       "      <td>-0.184151</td>\n",
       "      <td>0.514323</td>\n",
       "      <td>2.092713</td>\n",
       "    </tr>\n",
       "    <tr>\n",
       "      <th>baz</th>\n",
       "      <td>-0.436843</td>\n",
       "      <td>0.601511</td>\n",
       "      <td>0.722168</td>\n",
       "      <td>1.567411</td>\n",
       "    </tr>\n",
       "  </tbody>\n",
       "</table>\n",
       "</div>"
      ],
      "text/plain": [
       "               A                   B          \n",
       "Second       one       two       one       two\n",
       "First                                         \n",
       "bar     0.189276 -0.184151  0.514323  2.092713\n",
       "baz    -0.436843  0.601511  0.722168  1.567411"
      ]
     },
     "execution_count": 29,
     "metadata": {},
     "output_type": "execute_result"
    }
   ],
   "source": [
    "df2.unstack()"
   ]
  },
  {
   "cell_type": "markdown",
   "metadata": {},
   "source": [
    "# Pivot Tables"
   ]
  },
  {
   "cell_type": "code",
   "execution_count": 30,
   "metadata": {},
   "outputs": [
    {
     "data": {
      "text/html": [
       "<div>\n",
       "<style>\n",
       "    .dataframe thead tr:only-child th {\n",
       "        text-align: right;\n",
       "    }\n",
       "\n",
       "    .dataframe thead th {\n",
       "        text-align: left;\n",
       "    }\n",
       "\n",
       "    .dataframe tbody tr th {\n",
       "        vertical-align: top;\n",
       "    }\n",
       "</style>\n",
       "<table border=\"1\" class=\"dataframe\">\n",
       "  <thead>\n",
       "    <tr style=\"text-align: right;\">\n",
       "      <th></th>\n",
       "      <th>A</th>\n",
       "      <th>B</th>\n",
       "      <th>C</th>\n",
       "      <th>D</th>\n",
       "      <th>E</th>\n",
       "    </tr>\n",
       "  </thead>\n",
       "  <tbody>\n",
       "    <tr>\n",
       "      <th>0</th>\n",
       "      <td>one</td>\n",
       "      <td>A</td>\n",
       "      <td>foo</td>\n",
       "      <td>0.734577</td>\n",
       "      <td>-1.112111</td>\n",
       "    </tr>\n",
       "    <tr>\n",
       "      <th>1</th>\n",
       "      <td>one</td>\n",
       "      <td>B</td>\n",
       "      <td>foo</td>\n",
       "      <td>0.049856</td>\n",
       "      <td>1.030502</td>\n",
       "    </tr>\n",
       "    <tr>\n",
       "      <th>2</th>\n",
       "      <td>two</td>\n",
       "      <td>C</td>\n",
       "      <td>foo</td>\n",
       "      <td>0.963918</td>\n",
       "      <td>-1.662785</td>\n",
       "    </tr>\n",
       "    <tr>\n",
       "      <th>3</th>\n",
       "      <td>three</td>\n",
       "      <td>A</td>\n",
       "      <td>bar</td>\n",
       "      <td>1.401983</td>\n",
       "      <td>-0.075771</td>\n",
       "    </tr>\n",
       "    <tr>\n",
       "      <th>4</th>\n",
       "      <td>one</td>\n",
       "      <td>B</td>\n",
       "      <td>bar</td>\n",
       "      <td>0.809907</td>\n",
       "      <td>-0.063335</td>\n",
       "    </tr>\n",
       "    <tr>\n",
       "      <th>5</th>\n",
       "      <td>one</td>\n",
       "      <td>C</td>\n",
       "      <td>bar</td>\n",
       "      <td>-1.194609</td>\n",
       "      <td>-0.503737</td>\n",
       "    </tr>\n",
       "    <tr>\n",
       "      <th>6</th>\n",
       "      <td>two</td>\n",
       "      <td>A</td>\n",
       "      <td>foo</td>\n",
       "      <td>0.346277</td>\n",
       "      <td>1.779752</td>\n",
       "    </tr>\n",
       "    <tr>\n",
       "      <th>7</th>\n",
       "      <td>three</td>\n",
       "      <td>B</td>\n",
       "      <td>foo</td>\n",
       "      <td>0.731936</td>\n",
       "      <td>0.841142</td>\n",
       "    </tr>\n",
       "    <tr>\n",
       "      <th>8</th>\n",
       "      <td>one</td>\n",
       "      <td>C</td>\n",
       "      <td>foo</td>\n",
       "      <td>-1.158277</td>\n",
       "      <td>-0.300127</td>\n",
       "    </tr>\n",
       "    <tr>\n",
       "      <th>9</th>\n",
       "      <td>one</td>\n",
       "      <td>A</td>\n",
       "      <td>bar</td>\n",
       "      <td>0.579848</td>\n",
       "      <td>-0.185507</td>\n",
       "    </tr>\n",
       "    <tr>\n",
       "      <th>10</th>\n",
       "      <td>two</td>\n",
       "      <td>B</td>\n",
       "      <td>bar</td>\n",
       "      <td>-1.922624</td>\n",
       "      <td>-0.827369</td>\n",
       "    </tr>\n",
       "    <tr>\n",
       "      <th>11</th>\n",
       "      <td>three</td>\n",
       "      <td>C</td>\n",
       "      <td>bar</td>\n",
       "      <td>-0.344693</td>\n",
       "      <td>-0.466597</td>\n",
       "    </tr>\n",
       "  </tbody>\n",
       "</table>\n",
       "</div>"
      ],
      "text/plain": [
       "        A  B    C         D         E\n",
       "0     one  A  foo  0.734577 -1.112111\n",
       "1     one  B  foo  0.049856  1.030502\n",
       "2     two  C  foo  0.963918 -1.662785\n",
       "3   three  A  bar  1.401983 -0.075771\n",
       "4     one  B  bar  0.809907 -0.063335\n",
       "5     one  C  bar -1.194609 -0.503737\n",
       "6     two  A  foo  0.346277  1.779752\n",
       "7   three  B  foo  0.731936  0.841142\n",
       "8     one  C  foo -1.158277 -0.300127\n",
       "9     one  A  bar  0.579848 -0.185507\n",
       "10    two  B  bar -1.922624 -0.827369\n",
       "11  three  C  bar -0.344693 -0.466597"
      ]
     },
     "execution_count": 30,
     "metadata": {},
     "output_type": "execute_result"
    }
   ],
   "source": [
    "df = pd.DataFrame({'A': ['one', 'one', 'two', 'three'] * 3,\n",
    "                   'B': ['A', 'B', 'C'] * 4,\n",
    "                   'C': ['foo', 'foo', 'foo', 'bar', 'bar', 'bar'] * 2,\n",
    "                   'D': np.random.randn(12),\n",
    "                   'E': np.random.randn(12)})\n",
    "df"
   ]
  },
  {
   "cell_type": "code",
   "execution_count": 31,
   "metadata": {},
   "outputs": [
    {
     "data": {
      "text/html": [
       "<div>\n",
       "<style>\n",
       "    .dataframe thead tr:only-child th {\n",
       "        text-align: right;\n",
       "    }\n",
       "\n",
       "    .dataframe thead th {\n",
       "        text-align: left;\n",
       "    }\n",
       "\n",
       "    .dataframe tbody tr th {\n",
       "        vertical-align: top;\n",
       "    }\n",
       "</style>\n",
       "<table border=\"1\" class=\"dataframe\">\n",
       "  <thead>\n",
       "    <tr style=\"text-align: right;\">\n",
       "      <th></th>\n",
       "      <th>C</th>\n",
       "      <th>bar</th>\n",
       "      <th>foo</th>\n",
       "    </tr>\n",
       "    <tr>\n",
       "      <th>A</th>\n",
       "      <th>B</th>\n",
       "      <th></th>\n",
       "      <th></th>\n",
       "    </tr>\n",
       "  </thead>\n",
       "  <tbody>\n",
       "    <tr>\n",
       "      <th rowspan=\"3\" valign=\"top\">one</th>\n",
       "      <th>A</th>\n",
       "      <td>0.579848</td>\n",
       "      <td>0.734577</td>\n",
       "    </tr>\n",
       "    <tr>\n",
       "      <th>B</th>\n",
       "      <td>0.809907</td>\n",
       "      <td>0.049856</td>\n",
       "    </tr>\n",
       "    <tr>\n",
       "      <th>C</th>\n",
       "      <td>-1.194609</td>\n",
       "      <td>-1.158277</td>\n",
       "    </tr>\n",
       "    <tr>\n",
       "      <th rowspan=\"3\" valign=\"top\">three</th>\n",
       "      <th>A</th>\n",
       "      <td>1.401983</td>\n",
       "      <td>NaN</td>\n",
       "    </tr>\n",
       "    <tr>\n",
       "      <th>B</th>\n",
       "      <td>NaN</td>\n",
       "      <td>0.731936</td>\n",
       "    </tr>\n",
       "    <tr>\n",
       "      <th>C</th>\n",
       "      <td>-0.344693</td>\n",
       "      <td>NaN</td>\n",
       "    </tr>\n",
       "    <tr>\n",
       "      <th rowspan=\"3\" valign=\"top\">two</th>\n",
       "      <th>A</th>\n",
       "      <td>NaN</td>\n",
       "      <td>0.346277</td>\n",
       "    </tr>\n",
       "    <tr>\n",
       "      <th>B</th>\n",
       "      <td>-1.922624</td>\n",
       "      <td>NaN</td>\n",
       "    </tr>\n",
       "    <tr>\n",
       "      <th>C</th>\n",
       "      <td>NaN</td>\n",
       "      <td>0.963918</td>\n",
       "    </tr>\n",
       "  </tbody>\n",
       "</table>\n",
       "</div>"
      ],
      "text/plain": [
       "C             bar       foo\n",
       "A     B                    \n",
       "one   A  0.579848  0.734577\n",
       "      B  0.809907  0.049856\n",
       "      C -1.194609 -1.158277\n",
       "three A  1.401983       NaN\n",
       "      B       NaN  0.731936\n",
       "      C -0.344693       NaN\n",
       "two   A       NaN  0.346277\n",
       "      B -1.922624       NaN\n",
       "      C       NaN  0.963918"
      ]
     },
     "execution_count": 31,
     "metadata": {},
     "output_type": "execute_result"
    }
   ],
   "source": [
    "pd.pivot_table(df, values='D', columns='C', index=['A', 'B'])"
   ]
  },
  {
   "cell_type": "markdown",
   "metadata": {},
   "source": [
    "# Time Series Data"
   ]
  },
  {
   "cell_type": "code",
   "execution_count": 38,
   "metadata": {},
   "outputs": [
    {
     "data": {
      "text/plain": [
       "DatetimeIndex(['2018-01-01 00:00:00', '2018-01-01 00:00:01',\n",
       "               '2018-01-01 00:00:02', '2018-01-01 00:00:03',\n",
       "               '2018-01-01 00:00:04', '2018-01-01 00:00:05',\n",
       "               '2018-01-01 00:00:06', '2018-01-01 00:00:07',\n",
       "               '2018-01-01 00:00:08', '2018-01-01 00:00:09',\n",
       "               '2018-01-01 00:00:10', '2018-01-01 00:00:11',\n",
       "               '2018-01-01 00:00:12', '2018-01-01 00:00:13',\n",
       "               '2018-01-01 00:00:14', '2018-01-01 00:00:15',\n",
       "               '2018-01-01 00:00:16', '2018-01-01 00:00:17',\n",
       "               '2018-01-01 00:00:18', '2018-01-01 00:00:19',\n",
       "               '2018-01-01 00:00:20', '2018-01-01 00:00:21',\n",
       "               '2018-01-01 00:00:22', '2018-01-01 00:00:23',\n",
       "               '2018-01-01 00:00:24', '2018-01-01 00:00:25',\n",
       "               '2018-01-01 00:00:26', '2018-01-01 00:00:27',\n",
       "               '2018-01-01 00:00:28', '2018-01-01 00:00:29',\n",
       "               '2018-01-01 00:00:30', '2018-01-01 00:00:31',\n",
       "               '2018-01-01 00:00:32', '2018-01-01 00:00:33',\n",
       "               '2018-01-01 00:00:34', '2018-01-01 00:00:35',\n",
       "               '2018-01-01 00:00:36', '2018-01-01 00:00:37',\n",
       "               '2018-01-01 00:00:38', '2018-01-01 00:00:39',\n",
       "               '2018-01-01 00:00:40', '2018-01-01 00:00:41',\n",
       "               '2018-01-01 00:00:42', '2018-01-01 00:00:43',\n",
       "               '2018-01-01 00:00:44', '2018-01-01 00:00:45',\n",
       "               '2018-01-01 00:00:46', '2018-01-01 00:00:47',\n",
       "               '2018-01-01 00:00:48', '2018-01-01 00:00:49',\n",
       "               '2018-01-01 00:00:50', '2018-01-01 00:00:51',\n",
       "               '2018-01-01 00:00:52', '2018-01-01 00:00:53',\n",
       "               '2018-01-01 00:00:54', '2018-01-01 00:00:55',\n",
       "               '2018-01-01 00:00:56', '2018-01-01 00:00:57',\n",
       "               '2018-01-01 00:00:58', '2018-01-01 00:00:59',\n",
       "               '2018-01-01 00:01:00', '2018-01-01 00:01:01',\n",
       "               '2018-01-01 00:01:02', '2018-01-01 00:01:03',\n",
       "               '2018-01-01 00:01:04', '2018-01-01 00:01:05',\n",
       "               '2018-01-01 00:01:06', '2018-01-01 00:01:07',\n",
       "               '2018-01-01 00:01:08', '2018-01-01 00:01:09',\n",
       "               '2018-01-01 00:01:10', '2018-01-01 00:01:11',\n",
       "               '2018-01-01 00:01:12', '2018-01-01 00:01:13',\n",
       "               '2018-01-01 00:01:14', '2018-01-01 00:01:15',\n",
       "               '2018-01-01 00:01:16', '2018-01-01 00:01:17',\n",
       "               '2018-01-01 00:01:18', '2018-01-01 00:01:19',\n",
       "               '2018-01-01 00:01:20', '2018-01-01 00:01:21',\n",
       "               '2018-01-01 00:01:22', '2018-01-01 00:01:23',\n",
       "               '2018-01-01 00:01:24', '2018-01-01 00:01:25',\n",
       "               '2018-01-01 00:01:26', '2018-01-01 00:01:27',\n",
       "               '2018-01-01 00:01:28', '2018-01-01 00:01:29',\n",
       "               '2018-01-01 00:01:30', '2018-01-01 00:01:31',\n",
       "               '2018-01-01 00:01:32', '2018-01-01 00:01:33',\n",
       "               '2018-01-01 00:01:34', '2018-01-01 00:01:35',\n",
       "               '2018-01-01 00:01:36', '2018-01-01 00:01:37',\n",
       "               '2018-01-01 00:01:38', '2018-01-01 00:01:39'],\n",
       "              dtype='datetime64[ns]', freq='S')"
      ]
     },
     "execution_count": 38,
     "metadata": {},
     "output_type": "execute_result"
    }
   ],
   "source": [
    "rng = pd.date_range('1/1/2018', periods=100, freq='s')\n",
    "rng"
   ]
  },
  {
   "cell_type": "code",
   "execution_count": 39,
   "metadata": {},
   "outputs": [
    {
     "data": {
      "text/plain": [
       "2018-01-01 00:00:00    253\n",
       "2018-01-01 00:00:01    406\n",
       "2018-01-01 00:00:02    261\n",
       "2018-01-01 00:00:03    130\n",
       "2018-01-01 00:00:04    227\n",
       "2018-01-01 00:00:05    356\n",
       "2018-01-01 00:00:06    157\n",
       "2018-01-01 00:00:07     24\n",
       "2018-01-01 00:00:08    116\n",
       "2018-01-01 00:00:09    408\n",
       "2018-01-01 00:00:10     61\n",
       "2018-01-01 00:00:11    491\n",
       "2018-01-01 00:00:12    211\n",
       "2018-01-01 00:00:13    231\n",
       "2018-01-01 00:00:14    442\n",
       "2018-01-01 00:00:15    464\n",
       "2018-01-01 00:00:16    132\n",
       "2018-01-01 00:00:17    357\n",
       "2018-01-01 00:00:18    163\n",
       "2018-01-01 00:00:19    158\n",
       "2018-01-01 00:00:20    150\n",
       "2018-01-01 00:00:21     65\n",
       "2018-01-01 00:00:22     63\n",
       "2018-01-01 00:00:23    249\n",
       "2018-01-01 00:00:24     50\n",
       "2018-01-01 00:00:25     14\n",
       "2018-01-01 00:00:26    174\n",
       "2018-01-01 00:00:27    361\n",
       "2018-01-01 00:00:28    234\n",
       "2018-01-01 00:00:29    263\n",
       "                      ... \n",
       "2018-01-01 00:01:10     50\n",
       "2018-01-01 00:01:11     12\n",
       "2018-01-01 00:01:12     62\n",
       "2018-01-01 00:01:13    462\n",
       "2018-01-01 00:01:14    131\n",
       "2018-01-01 00:01:15    249\n",
       "2018-01-01 00:01:16    381\n",
       "2018-01-01 00:01:17    491\n",
       "2018-01-01 00:01:18    321\n",
       "2018-01-01 00:01:19    150\n",
       "2018-01-01 00:01:20    414\n",
       "2018-01-01 00:01:21     68\n",
       "2018-01-01 00:01:22    196\n",
       "2018-01-01 00:01:23    390\n",
       "2018-01-01 00:01:24    429\n",
       "2018-01-01 00:01:25    365\n",
       "2018-01-01 00:01:26     54\n",
       "2018-01-01 00:01:27    482\n",
       "2018-01-01 00:01:28    298\n",
       "2018-01-01 00:01:29    231\n",
       "2018-01-01 00:01:30    499\n",
       "2018-01-01 00:01:31    334\n",
       "2018-01-01 00:01:32    449\n",
       "2018-01-01 00:01:33    429\n",
       "2018-01-01 00:01:34     18\n",
       "2018-01-01 00:01:35    100\n",
       "2018-01-01 00:01:36     35\n",
       "2018-01-01 00:01:37    431\n",
       "2018-01-01 00:01:38    353\n",
       "2018-01-01 00:01:39    308\n",
       "Freq: S, Length: 100, dtype: int32"
      ]
     },
     "execution_count": 39,
     "metadata": {},
     "output_type": "execute_result"
    }
   ],
   "source": [
    "ts = pd.Series(np.random.randint(0, 500, len(rng)), index=rng)\n",
    "ts"
   ]
  },
  {
   "cell_type": "code",
   "execution_count": 41,
   "metadata": {},
   "outputs": [
    {
     "data": {
      "text/plain": [
       "2018-01-01    23524\n",
       "Freq: 5T, dtype: int32"
      ]
     },
     "execution_count": 41,
     "metadata": {},
     "output_type": "execute_result"
    }
   ],
   "source": [
    "ts.resample('5Min').sum()"
   ]
  },
  {
   "cell_type": "code",
   "execution_count": 42,
   "metadata": {},
   "outputs": [
    {
     "data": {
      "text/plain": [
       "DatetimeIndex(['2018-01-01', '2018-01-02', '2018-01-03', '2018-01-04',\n",
       "               '2018-01-05'],\n",
       "              dtype='datetime64[ns]', freq='D')"
      ]
     },
     "execution_count": 42,
     "metadata": {},
     "output_type": "execute_result"
    }
   ],
   "source": [
    "rng = pd.date_range('2018-01-01 00:00', periods=5, freq='D')\n",
    "rng"
   ]
  },
  {
   "cell_type": "code",
   "execution_count": 45,
   "metadata": {},
   "outputs": [
    {
     "data": {
      "text/plain": [
       "2018-01-01    0.468789\n",
       "2018-01-02   -0.697146\n",
       "2018-01-03    1.226983\n",
       "2018-01-04   -0.792174\n",
       "2018-01-05   -0.938767\n",
       "Freq: D, dtype: float64"
      ]
     },
     "execution_count": 45,
     "metadata": {},
     "output_type": "execute_result"
    }
   ],
   "source": [
    "ts = pd.Series(np.random.randn(len(rng)), rng)\n",
    "ts"
   ]
  },
  {
   "cell_type": "code",
   "execution_count": 46,
   "metadata": {},
   "outputs": [
    {
     "data": {
      "text/plain": [
       "2018-01-01 00:00:00+00:00    0.468789\n",
       "2018-01-02 00:00:00+00:00   -0.697146\n",
       "2018-01-03 00:00:00+00:00    1.226983\n",
       "2018-01-04 00:00:00+00:00   -0.792174\n",
       "2018-01-05 00:00:00+00:00   -0.938767\n",
       "Freq: D, dtype: float64"
      ]
     },
     "execution_count": 46,
     "metadata": {},
     "output_type": "execute_result"
    }
   ],
   "source": [
    "ts_gmt = ts.tz_localize('GMT')\n",
    "ts_gmt"
   ]
  },
  {
   "cell_type": "code",
   "execution_count": 48,
   "metadata": {},
   "outputs": [
    {
     "data": {
      "text/plain": [
       "2017-12-31 19:00:00-05:00    0.468789\n",
       "2018-01-01 19:00:00-05:00   -0.697146\n",
       "2018-01-02 19:00:00-05:00    1.226983\n",
       "2018-01-03 19:00:00-05:00   -0.792174\n",
       "2018-01-04 19:00:00-05:00   -0.938767\n",
       "Freq: D, dtype: float64"
      ]
     },
     "execution_count": 48,
     "metadata": {},
     "output_type": "execute_result"
    }
   ],
   "source": [
    "ts_gmt.tz_convert('US/Eastern')"
   ]
  },
  {
   "cell_type": "markdown",
   "metadata": {},
   "source": [
    "# Categorical"
   ]
  },
  {
   "cell_type": "code",
   "execution_count": 50,
   "metadata": {},
   "outputs": [
    {
     "data": {
      "text/html": [
       "<div>\n",
       "<style>\n",
       "    .dataframe thead tr:only-child th {\n",
       "        text-align: right;\n",
       "    }\n",
       "\n",
       "    .dataframe thead th {\n",
       "        text-align: left;\n",
       "    }\n",
       "\n",
       "    .dataframe tbody tr th {\n",
       "        vertical-align: top;\n",
       "    }\n",
       "</style>\n",
       "<table border=\"1\" class=\"dataframe\">\n",
       "  <thead>\n",
       "    <tr style=\"text-align: right;\">\n",
       "      <th></th>\n",
       "      <th>id</th>\n",
       "      <th>names</th>\n",
       "    </tr>\n",
       "  </thead>\n",
       "  <tbody>\n",
       "    <tr>\n",
       "      <th>0</th>\n",
       "      <td>1</td>\n",
       "      <td>a</td>\n",
       "    </tr>\n",
       "    <tr>\n",
       "      <th>1</th>\n",
       "      <td>2</td>\n",
       "      <td>b</td>\n",
       "    </tr>\n",
       "    <tr>\n",
       "      <th>2</th>\n",
       "      <td>3</td>\n",
       "      <td>c</td>\n",
       "    </tr>\n",
       "    <tr>\n",
       "      <th>3</th>\n",
       "      <td>4</td>\n",
       "      <td>d</td>\n",
       "    </tr>\n",
       "    <tr>\n",
       "      <th>4</th>\n",
       "      <td>5</td>\n",
       "      <td>a</td>\n",
       "    </tr>\n",
       "    <tr>\n",
       "      <th>5</th>\n",
       "      <td>6</td>\n",
       "      <td>b</td>\n",
       "    </tr>\n",
       "  </tbody>\n",
       "</table>\n",
       "</div>"
      ],
      "text/plain": [
       "   id names\n",
       "0   1     a\n",
       "1   2     b\n",
       "2   3     c\n",
       "3   4     d\n",
       "4   5     a\n",
       "5   6     b"
      ]
     },
     "execution_count": 50,
     "metadata": {},
     "output_type": "execute_result"
    }
   ],
   "source": [
    "df =  pd.DataFrame({'id':[1,2,3,4,5,6], 'names': ['a', 'b', 'c',' d', 'a', 'b']})\n",
    "df"
   ]
  },
  {
   "cell_type": "code",
   "execution_count": 65,
   "metadata": {},
   "outputs": [
    {
     "data": {
      "text/plain": [
       "0     a\n",
       "1     b\n",
       "2     c\n",
       "3     d\n",
       "4     a\n",
       "5     b\n",
       "Name: Grade, dtype: category\n",
       "Categories (4, object): [d, a, b, c]"
      ]
     },
     "execution_count": 65,
     "metadata": {},
     "output_type": "execute_result"
    }
   ],
   "source": [
    "df['Grade'] = df['names'].astype('category')\n",
    "df['Grade']"
   ]
  },
  {
   "cell_type": "code",
   "execution_count": 66,
   "metadata": {},
   "outputs": [
    {
     "data": {
      "text/html": [
       "<div>\n",
       "<style>\n",
       "    .dataframe thead tr:only-child th {\n",
       "        text-align: right;\n",
       "    }\n",
       "\n",
       "    .dataframe thead th {\n",
       "        text-align: left;\n",
       "    }\n",
       "\n",
       "    .dataframe tbody tr th {\n",
       "        vertical-align: top;\n",
       "    }\n",
       "</style>\n",
       "<table border=\"1\" class=\"dataframe\">\n",
       "  <thead>\n",
       "    <tr style=\"text-align: right;\">\n",
       "      <th></th>\n",
       "      <th>id</th>\n",
       "      <th>names</th>\n",
       "      <th>Grade</th>\n",
       "    </tr>\n",
       "  </thead>\n",
       "  <tbody>\n",
       "    <tr>\n",
       "      <th>0</th>\n",
       "      <td>1</td>\n",
       "      <td>a</td>\n",
       "      <td>Good</td>\n",
       "    </tr>\n",
       "    <tr>\n",
       "      <th>1</th>\n",
       "      <td>2</td>\n",
       "      <td>b</td>\n",
       "      <td>Poor</td>\n",
       "    </tr>\n",
       "    <tr>\n",
       "      <th>2</th>\n",
       "      <td>3</td>\n",
       "      <td>c</td>\n",
       "      <td>Very Poor</td>\n",
       "    </tr>\n",
       "    <tr>\n",
       "      <th>3</th>\n",
       "      <td>4</td>\n",
       "      <td>d</td>\n",
       "      <td>Very Good</td>\n",
       "    </tr>\n",
       "    <tr>\n",
       "      <th>4</th>\n",
       "      <td>5</td>\n",
       "      <td>a</td>\n",
       "      <td>Good</td>\n",
       "    </tr>\n",
       "    <tr>\n",
       "      <th>5</th>\n",
       "      <td>6</td>\n",
       "      <td>b</td>\n",
       "      <td>Poor</td>\n",
       "    </tr>\n",
       "  </tbody>\n",
       "</table>\n",
       "</div>"
      ],
      "text/plain": [
       "   id names      Grade\n",
       "0   1     a       Good\n",
       "1   2     b       Poor\n",
       "2   3     c  Very Poor\n",
       "3   4     d  Very Good\n",
       "4   5     a       Good\n",
       "5   6     b       Poor"
      ]
     },
     "execution_count": 66,
     "metadata": {},
     "output_type": "execute_result"
    }
   ],
   "source": [
    "df['Grade'].cat.categories = ['Very Good', 'Good', 'Poor', 'Very Poor']\n",
    "df"
   ]
  },
  {
   "cell_type": "code",
   "execution_count": 67,
   "metadata": {},
   "outputs": [
    {
     "data": {
      "text/html": [
       "<div>\n",
       "<style>\n",
       "    .dataframe thead tr:only-child th {\n",
       "        text-align: right;\n",
       "    }\n",
       "\n",
       "    .dataframe thead th {\n",
       "        text-align: left;\n",
       "    }\n",
       "\n",
       "    .dataframe tbody tr th {\n",
       "        vertical-align: top;\n",
       "    }\n",
       "</style>\n",
       "<table border=\"1\" class=\"dataframe\">\n",
       "  <thead>\n",
       "    <tr style=\"text-align: right;\">\n",
       "      <th></th>\n",
       "      <th>id</th>\n",
       "      <th>names</th>\n",
       "      <th>Grade</th>\n",
       "    </tr>\n",
       "  </thead>\n",
       "  <tbody>\n",
       "    <tr>\n",
       "      <th>3</th>\n",
       "      <td>4</td>\n",
       "      <td>d</td>\n",
       "      <td>Very Good</td>\n",
       "    </tr>\n",
       "    <tr>\n",
       "      <th>0</th>\n",
       "      <td>1</td>\n",
       "      <td>a</td>\n",
       "      <td>Good</td>\n",
       "    </tr>\n",
       "    <tr>\n",
       "      <th>4</th>\n",
       "      <td>5</td>\n",
       "      <td>a</td>\n",
       "      <td>Good</td>\n",
       "    </tr>\n",
       "    <tr>\n",
       "      <th>1</th>\n",
       "      <td>2</td>\n",
       "      <td>b</td>\n",
       "      <td>Poor</td>\n",
       "    </tr>\n",
       "    <tr>\n",
       "      <th>5</th>\n",
       "      <td>6</td>\n",
       "      <td>b</td>\n",
       "      <td>Poor</td>\n",
       "    </tr>\n",
       "    <tr>\n",
       "      <th>2</th>\n",
       "      <td>3</td>\n",
       "      <td>c</td>\n",
       "      <td>Very Poor</td>\n",
       "    </tr>\n",
       "  </tbody>\n",
       "</table>\n",
       "</div>"
      ],
      "text/plain": [
       "   id names      Grade\n",
       "3   4     d  Very Good\n",
       "0   1     a       Good\n",
       "4   5     a       Good\n",
       "1   2     b       Poor\n",
       "5   6     b       Poor\n",
       "2   3     c  Very Poor"
      ]
     },
     "execution_count": 67,
     "metadata": {},
     "output_type": "execute_result"
    }
   ],
   "source": [
    "df.sort_values(by='Grade')"
   ]
  },
  {
   "cell_type": "code",
   "execution_count": 68,
   "metadata": {},
   "outputs": [
    {
     "data": {
      "text/plain": [
       "Grade\n",
       "Very Good    1\n",
       "Good         2\n",
       "Poor         2\n",
       "Very Poor    1\n",
       "dtype: int64"
      ]
     },
     "execution_count": 68,
     "metadata": {},
     "output_type": "execute_result"
    }
   ],
   "source": [
    "df.groupby(by='Grade').size()"
   ]
  }
 ],
 "metadata": {
  "kernelspec": {
   "display_name": "Python 3",
   "language": "python",
   "name": "python3"
  },
  "language_info": {
   "codemirror_mode": {
    "name": "ipython",
    "version": 3
   },
   "file_extension": ".py",
   "mimetype": "text/x-python",
   "name": "python",
   "nbconvert_exporter": "python",
   "pygments_lexer": "ipython3",
   "version": "3.6.1"
  }
 },
 "nbformat": 4,
 "nbformat_minor": 2
}
