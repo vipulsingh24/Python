{
 "cells": [
  {
   "cell_type": "code",
   "execution_count": 1,
   "metadata": {
    "collapsed": true
   },
   "outputs": [],
   "source": [
    "import numpy as np\n",
    "import pandas as pd\n",
    "import matplotlib.pyplot as plt\n",
    "%matplotlib inline"
   ]
  },
  {
   "cell_type": "code",
   "execution_count": 2,
   "metadata": {
    "collapsed": true
   },
   "outputs": [],
   "source": [
    "airport = pd.read_csv(\"airports.csv\", header=None, dtype=str)\n",
    "airport.columns = ['id', 'name', 'city', 'country', 'code', \n",
    "                   'icao', 'latitude', 'longitude', 'altitude',\n",
    "                   'offset', 'dst', 'timezone']\n",
    "\n",
    "airlines = pd.read_csv(\"airlines.csv\", header=None, dtype=str)\n",
    "airlines.columns = ['id', 'name', 'alias', 'iata', 'icao', 'callsign', 'country', 'active']\n",
    "\n",
    "routes = pd.read_csv(\"routes.csv\", header=None, dtype=str)\n",
    "routes.columns = ['airline', 'airline_id', 'source', 'source_id', \n",
    "                  'dest', 'dest_id', 'codeshare', 'stops', 'equipment']"
   ]
  },
  {
   "cell_type": "code",
   "execution_count": 3,
   "metadata": {},
   "outputs": [
    {
     "data": {
      "text/html": [
       "<div>\n",
       "<style>\n",
       "    .dataframe thead tr:only-child th {\n",
       "        text-align: right;\n",
       "    }\n",
       "\n",
       "    .dataframe thead th {\n",
       "        text-align: left;\n",
       "    }\n",
       "\n",
       "    .dataframe tbody tr th {\n",
       "        vertical-align: top;\n",
       "    }\n",
       "</style>\n",
       "<table border=\"1\" class=\"dataframe\">\n",
       "  <thead>\n",
       "    <tr style=\"text-align: right;\">\n",
       "      <th></th>\n",
       "      <th>id</th>\n",
       "      <th>name</th>\n",
       "      <th>city</th>\n",
       "      <th>country</th>\n",
       "      <th>code</th>\n",
       "      <th>icao</th>\n",
       "      <th>latitude</th>\n",
       "      <th>longitude</th>\n",
       "      <th>altitude</th>\n",
       "      <th>offset</th>\n",
       "      <th>dst</th>\n",
       "      <th>timezone</th>\n",
       "    </tr>\n",
       "  </thead>\n",
       "  <tbody>\n",
       "    <tr>\n",
       "      <th>0</th>\n",
       "      <td>1</td>\n",
       "      <td>Goroka Airport</td>\n",
       "      <td>Goroka</td>\n",
       "      <td>Papua New Guinea</td>\n",
       "      <td>GKA</td>\n",
       "      <td>AYGA</td>\n",
       "      <td>-6.0816898346</td>\n",
       "      <td>145.391998291</td>\n",
       "      <td>5282</td>\n",
       "      <td>10</td>\n",
       "      <td>U</td>\n",
       "      <td>Pacific/Port_Moresby</td>\n",
       "    </tr>\n",
       "    <tr>\n",
       "      <th>1</th>\n",
       "      <td>2</td>\n",
       "      <td>Madang Airport</td>\n",
       "      <td>Madang</td>\n",
       "      <td>Papua New Guinea</td>\n",
       "      <td>MAG</td>\n",
       "      <td>AYMD</td>\n",
       "      <td>-5.2070798874</td>\n",
       "      <td>145.789001465</td>\n",
       "      <td>20</td>\n",
       "      <td>10</td>\n",
       "      <td>U</td>\n",
       "      <td>Pacific/Port_Moresby</td>\n",
       "    </tr>\n",
       "    <tr>\n",
       "      <th>2</th>\n",
       "      <td>3</td>\n",
       "      <td>Mount Hagen Kagamuga Airport</td>\n",
       "      <td>Mount Hagen</td>\n",
       "      <td>Papua New Guinea</td>\n",
       "      <td>HGU</td>\n",
       "      <td>AYMH</td>\n",
       "      <td>-5.826789856</td>\n",
       "      <td>144.296005249</td>\n",
       "      <td>5388</td>\n",
       "      <td>10</td>\n",
       "      <td>U</td>\n",
       "      <td>Pacific/Port_Moresby</td>\n",
       "    </tr>\n",
       "    <tr>\n",
       "      <th>3</th>\n",
       "      <td>4</td>\n",
       "      <td>Nadzab Airport</td>\n",
       "      <td>Nadzab</td>\n",
       "      <td>Papua New Guinea</td>\n",
       "      <td>LAE</td>\n",
       "      <td>AYNZ</td>\n",
       "      <td>-6.569803</td>\n",
       "      <td>146.725977</td>\n",
       "      <td>239</td>\n",
       "      <td>10</td>\n",
       "      <td>U</td>\n",
       "      <td>Pacific/Port_Moresby</td>\n",
       "    </tr>\n",
       "    <tr>\n",
       "      <th>4</th>\n",
       "      <td>5</td>\n",
       "      <td>Port Moresby Jacksons International Airport</td>\n",
       "      <td>Port Moresby</td>\n",
       "      <td>Papua New Guinea</td>\n",
       "      <td>POM</td>\n",
       "      <td>AYPY</td>\n",
       "      <td>-9.4433803558</td>\n",
       "      <td>147.2200012207</td>\n",
       "      <td>146</td>\n",
       "      <td>10</td>\n",
       "      <td>U</td>\n",
       "      <td>Pacific/Port_Moresby</td>\n",
       "    </tr>\n",
       "  </tbody>\n",
       "</table>\n",
       "</div>"
      ],
      "text/plain": [
       "  id                                         name          city  \\\n",
       "0  1                               Goroka Airport        Goroka   \n",
       "1  2                               Madang Airport        Madang   \n",
       "2  3                 Mount Hagen Kagamuga Airport   Mount Hagen   \n",
       "3  4                               Nadzab Airport        Nadzab   \n",
       "4  5  Port Moresby Jacksons International Airport  Port Moresby   \n",
       "\n",
       "            country code  icao       latitude       longitude altitude offset  \\\n",
       "0  Papua New Guinea  GKA  AYGA  -6.0816898346   145.391998291     5282     10   \n",
       "1  Papua New Guinea  MAG  AYMD  -5.2070798874   145.789001465       20     10   \n",
       "2  Papua New Guinea  HGU  AYMH   -5.826789856   144.296005249     5388     10   \n",
       "3  Papua New Guinea  LAE  AYNZ      -6.569803      146.725977      239     10   \n",
       "4  Papua New Guinea  POM  AYPY  -9.4433803558  147.2200012207      146     10   \n",
       "\n",
       "  dst              timezone  \n",
       "0   U  Pacific/Port_Moresby  \n",
       "1   U  Pacific/Port_Moresby  \n",
       "2   U  Pacific/Port_Moresby  \n",
       "3   U  Pacific/Port_Moresby  \n",
       "4   U  Pacific/Port_Moresby  "
      ]
     },
     "execution_count": 3,
     "metadata": {},
     "output_type": "execute_result"
    }
   ],
   "source": [
    "airport.head()"
   ]
  },
  {
   "cell_type": "code",
   "execution_count": 4,
   "metadata": {},
   "outputs": [
    {
     "data": {
      "text/html": [
       "<div>\n",
       "<style>\n",
       "    .dataframe thead tr:only-child th {\n",
       "        text-align: right;\n",
       "    }\n",
       "\n",
       "    .dataframe thead th {\n",
       "        text-align: left;\n",
       "    }\n",
       "\n",
       "    .dataframe tbody tr th {\n",
       "        vertical-align: top;\n",
       "    }\n",
       "</style>\n",
       "<table border=\"1\" class=\"dataframe\">\n",
       "  <thead>\n",
       "    <tr style=\"text-align: right;\">\n",
       "      <th></th>\n",
       "      <th>id</th>\n",
       "      <th>name</th>\n",
       "      <th>alias</th>\n",
       "      <th>iata</th>\n",
       "      <th>icao</th>\n",
       "      <th>callsign</th>\n",
       "      <th>country</th>\n",
       "      <th>active</th>\n",
       "    </tr>\n",
       "  </thead>\n",
       "  <tbody>\n",
       "    <tr>\n",
       "      <th>0</th>\n",
       "      <td>-1</td>\n",
       "      <td>Unknown</td>\n",
       "      <td>\\N</td>\n",
       "      <td>-</td>\n",
       "      <td>NaN</td>\n",
       "      <td>\\N</td>\n",
       "      <td>\\N</td>\n",
       "      <td>Y</td>\n",
       "    </tr>\n",
       "    <tr>\n",
       "      <th>1</th>\n",
       "      <td>1</td>\n",
       "      <td>Private flight</td>\n",
       "      <td>\\N</td>\n",
       "      <td>-</td>\n",
       "      <td>NaN</td>\n",
       "      <td>NaN</td>\n",
       "      <td>NaN</td>\n",
       "      <td>Y</td>\n",
       "    </tr>\n",
       "    <tr>\n",
       "      <th>2</th>\n",
       "      <td>2</td>\n",
       "      <td>135 Airways</td>\n",
       "      <td>\\N</td>\n",
       "      <td>NaN</td>\n",
       "      <td>GNL</td>\n",
       "      <td>GENERAL</td>\n",
       "      <td>United States</td>\n",
       "      <td>N</td>\n",
       "    </tr>\n",
       "    <tr>\n",
       "      <th>3</th>\n",
       "      <td>3</td>\n",
       "      <td>1Time Airline</td>\n",
       "      <td>\\N</td>\n",
       "      <td>1T</td>\n",
       "      <td>RNX</td>\n",
       "      <td>NEXTIME</td>\n",
       "      <td>South Africa</td>\n",
       "      <td>Y</td>\n",
       "    </tr>\n",
       "    <tr>\n",
       "      <th>4</th>\n",
       "      <td>4</td>\n",
       "      <td>2 Sqn No 1 Elementary Flying Training School</td>\n",
       "      <td>\\N</td>\n",
       "      <td>NaN</td>\n",
       "      <td>WYT</td>\n",
       "      <td>NaN</td>\n",
       "      <td>United Kingdom</td>\n",
       "      <td>N</td>\n",
       "    </tr>\n",
       "  </tbody>\n",
       "</table>\n",
       "</div>"
      ],
      "text/plain": [
       "   id                                          name alias iata icao callsign  \\\n",
       "0  -1                                       Unknown    \\N    -  NaN       \\N   \n",
       "1   1                                Private flight    \\N    -  NaN      NaN   \n",
       "2   2                                   135 Airways    \\N  NaN  GNL  GENERAL   \n",
       "3   3                                 1Time Airline    \\N   1T  RNX  NEXTIME   \n",
       "4   4  2 Sqn No 1 Elementary Flying Training School    \\N  NaN  WYT      NaN   \n",
       "\n",
       "          country active  \n",
       "0              \\N      Y  \n",
       "1             NaN      Y  \n",
       "2   United States      N  \n",
       "3    South Africa      Y  \n",
       "4  United Kingdom      N  "
      ]
     },
     "execution_count": 4,
     "metadata": {},
     "output_type": "execute_result"
    }
   ],
   "source": [
    "airlines.head()"
   ]
  },
  {
   "cell_type": "code",
   "execution_count": 5,
   "metadata": {},
   "outputs": [
    {
     "data": {
      "text/html": [
       "<div>\n",
       "<style>\n",
       "    .dataframe thead tr:only-child th {\n",
       "        text-align: right;\n",
       "    }\n",
       "\n",
       "    .dataframe thead th {\n",
       "        text-align: left;\n",
       "    }\n",
       "\n",
       "    .dataframe tbody tr th {\n",
       "        vertical-align: top;\n",
       "    }\n",
       "</style>\n",
       "<table border=\"1\" class=\"dataframe\">\n",
       "  <thead>\n",
       "    <tr style=\"text-align: right;\">\n",
       "      <th></th>\n",
       "      <th>airline</th>\n",
       "      <th>airline_id</th>\n",
       "      <th>source</th>\n",
       "      <th>source_id</th>\n",
       "      <th>dest</th>\n",
       "      <th>dest_id</th>\n",
       "      <th>codeshare</th>\n",
       "      <th>stops</th>\n",
       "      <th>equipment</th>\n",
       "    </tr>\n",
       "  </thead>\n",
       "  <tbody>\n",
       "    <tr>\n",
       "      <th>0</th>\n",
       "      <td>2B</td>\n",
       "      <td>410</td>\n",
       "      <td>AER</td>\n",
       "      <td>2965</td>\n",
       "      <td>KZN</td>\n",
       "      <td>2990</td>\n",
       "      <td>NaN</td>\n",
       "      <td>0</td>\n",
       "      <td>CR2</td>\n",
       "    </tr>\n",
       "    <tr>\n",
       "      <th>1</th>\n",
       "      <td>2B</td>\n",
       "      <td>410</td>\n",
       "      <td>ASF</td>\n",
       "      <td>2966</td>\n",
       "      <td>KZN</td>\n",
       "      <td>2990</td>\n",
       "      <td>NaN</td>\n",
       "      <td>0</td>\n",
       "      <td>CR2</td>\n",
       "    </tr>\n",
       "    <tr>\n",
       "      <th>2</th>\n",
       "      <td>2B</td>\n",
       "      <td>410</td>\n",
       "      <td>ASF</td>\n",
       "      <td>2966</td>\n",
       "      <td>MRV</td>\n",
       "      <td>2962</td>\n",
       "      <td>NaN</td>\n",
       "      <td>0</td>\n",
       "      <td>CR2</td>\n",
       "    </tr>\n",
       "    <tr>\n",
       "      <th>3</th>\n",
       "      <td>2B</td>\n",
       "      <td>410</td>\n",
       "      <td>CEK</td>\n",
       "      <td>2968</td>\n",
       "      <td>KZN</td>\n",
       "      <td>2990</td>\n",
       "      <td>NaN</td>\n",
       "      <td>0</td>\n",
       "      <td>CR2</td>\n",
       "    </tr>\n",
       "    <tr>\n",
       "      <th>4</th>\n",
       "      <td>2B</td>\n",
       "      <td>410</td>\n",
       "      <td>CEK</td>\n",
       "      <td>2968</td>\n",
       "      <td>OVB</td>\n",
       "      <td>4078</td>\n",
       "      <td>NaN</td>\n",
       "      <td>0</td>\n",
       "      <td>CR2</td>\n",
       "    </tr>\n",
       "  </tbody>\n",
       "</table>\n",
       "</div>"
      ],
      "text/plain": [
       "  airline airline_id source source_id dest dest_id codeshare stops equipment\n",
       "0      2B        410    AER      2965  KZN    2990       NaN     0       CR2\n",
       "1      2B        410    ASF      2966  KZN    2990       NaN     0       CR2\n",
       "2      2B        410    ASF      2966  MRV    2962       NaN     0       CR2\n",
       "3      2B        410    CEK      2968  KZN    2990       NaN     0       CR2\n",
       "4      2B        410    CEK      2968  OVB    4078       NaN     0       CR2"
      ]
     },
     "execution_count": 5,
     "metadata": {},
     "output_type": "execute_result"
    }
   ],
   "source": [
    "routes.head()"
   ]
  },
  {
   "cell_type": "markdown",
   "metadata": {},
   "source": [
    "The following line ensure that we have only numeric data in airline_id"
   ]
  },
  {
   "cell_type": "code",
   "execution_count": 6,
   "metadata": {
    "collapsed": true
   },
   "outputs": [],
   "source": [
    "routes = routes[routes['airline_id'] != \"\\\\N\"]"
   ]
  },
  {
   "cell_type": "markdown",
   "metadata": {},
   "source": [
    "# Histogram\n",
    "Showing the distribution of route lengths by airlines. A histogram divides all the route lengths into ranges (or \"bins\"), and counts how many routes fall into each range. This can tell us if airlines fly more shorter routes, or more longer ones. <br />\n",
    "The first step is a distance formula. We'll use __haversine distance__, which calculates the distance between latitude, longitude pairs. <br />\n",
    "\n",
    "a = sin²(dlat/2) + cos lat1 ⋅ cos lat2 ⋅ sin²(dlon/2)\n",
    "<br />\n",
    "c = 2 * math.asin(math.sqrt(a)) \n",
    "<br />\n",
    "km = R.c\n",
    "<br /><br />\n",
    "where, dlat is latitude, <br />\n",
    "dlon is longitude, <br />\n",
    "R is earth’s radius (mean radius = 6,371km)"
   ]
  },
  {
   "cell_type": "code",
   "execution_count": 7,
   "metadata": {
    "collapsed": true
   },
   "outputs": [],
   "source": [
    "import math\n",
    "\n",
    "def haversine(lon1, lat1, lon2, lat2):\n",
    "    lon1, lat1, lon2, lat2 = [float(lon1), float(lat1), float(lon2), float(lat2)]\n",
    "    lon1, lat1, lon2, lat2 = map(math.radians, [lon1, lat1, lon2, lat2])\n",
    "    # Distance\n",
    "    dlon = lon2 - lon1\n",
    "    dlat = lat2 - lat1\n",
    "    a = math.sin(dlat/2)**2 + math.cos(lat1) * math.cos(lat2) * math.sin(dlon/2)**2\n",
    "    c = 2 * math.asin(math.sqrt(a))\n",
    "    km = 6371 * c\n",
    "    return km"
   ]
  },
  {
   "cell_type": "markdown",
   "metadata": {},
   "source": [
    "Now the following function calculates the distance between the source and destination airports for a single route.<br />\n",
    "To do this, we need to get the source_id and dest_id airports from the routes dataframe, then match them up with the id column in the airports dataframe to get the latitude and longitude of those airports. Then, it's just a matter of doing the calculation."
   ]
  },
  {
   "cell_type": "code",
   "execution_count": 8,
   "metadata": {
    "collapsed": true
   },
   "outputs": [],
   "source": [
    "def calc_dist(row):\n",
    "    dist = 0\n",
    "    try:\n",
    "        source = airport[airport['id'] == row['source_id']].iloc[0]\n",
    "        dest = airport[airport['id'] == row['dest_id']].iloc[0]\n",
    "        dist = haversine(dest['longitude'], dest['latitude'], source['longitude'], source['latitude'])\n",
    "    except (ValueError, IndexError):\n",
    "        pass\n",
    "    return dist"
   ]
  },
  {
   "cell_type": "code",
   "execution_count": 9,
   "metadata": {
    "collapsed": true
   },
   "outputs": [],
   "source": [
    "route_lengths = routes.apply(calc_dist, axis=1)"
   ]
  },
  {
   "cell_type": "code",
   "execution_count": 10,
   "metadata": {},
   "outputs": [
    {
     "data": {
      "image/png": "[encoded data removed]",
      "text/plain": [
       "<matplotlib.figure.Figure at 0x7fad9295c240>"
      ]
     },
     "metadata": {},
     "output_type": "display_data"
    }
   ],
   "source": [
    "plt.hist(route_lengths, bins=20)\n",
    "plt.show()"
   ]
  },
  {
   "cell_type": "markdown",
   "metadata": {},
   "source": [
    "Seaborn, a higher level plotting library"
   ]
  },
  {
   "cell_type": "code",
   "execution_count": 11,
   "metadata": {},
   "outputs": [
    {
     "data": {
      "text/plain": [
       "<matplotlib.axes._subplots.AxesSubplot at 0x7fad81dd70f0>"
      ]
     },
     "execution_count": 11,
     "metadata": {},
     "output_type": "execute_result"
    },
    {
     "data": {
      "image/png": "[encoded data removed]",
      "text/plain": [
       "<matplotlib.figure.Figure at 0x7fad91a3cd68>"
      ]
     },
     "metadata": {},
     "output_type": "display_data"
    }
   ],
   "source": [
    "import seaborn as sns\n",
    "sns.distplot(route_lengths, bins=20)"
   ]
  },
  {
   "cell_type": "markdown",
   "metadata": {},
   "source": [
    "# Bar charts\n",
    "Lets see the average route length by airline. So here we can use bar chart which will have an individual bar for each airline."
   ]
  },
  {
   "cell_type": "code",
   "execution_count": 12,
   "metadata": {
    "collapsed": true
   },
   "outputs": [],
   "source": [
    "route_length_df = pd.DataFrame({'length': route_lengths, 'id': routes['airline_id']})\n",
    "airline_route_lengths = route_length_df.groupby('id').aggregate(np.mean)\n",
    "airline_route_lengths = airline_route_lengths.sort_values('length', ascending=False)"
   ]
  },
  {
   "cell_type": "code",
   "execution_count": 13,
   "metadata": {},
   "outputs": [
    {
     "data": {
      "text/plain": [
       "<Container object of 547 artists>"
      ]
     },
     "execution_count": 13,
     "metadata": {},
     "output_type": "execute_result"
    },
    {
     "data": {
      "image/png": "[encoded data removed]",
      "text/plain": [
       "<matplotlib.figure.Figure at 0x7fad81dbe5f8>"
      ]
     },
     "metadata": {},
     "output_type": "display_data"
    }
   ],
   "source": [
    "plt.bar(range(airline_route_lengths.shape[0]), airline_route_lengths['length'])"
   ]
  },
  {
   "cell_type": "markdown",
   "metadata": {},
   "source": [
    "Here we can't make out which airlines has what route length. So we will make use of bokeh, to make plot interactive by adding zoom in and out functions."
   ]
  },
  {
   "cell_type": "markdown",
   "metadata": {},
   "source": [
    "# Horizontal bar charts\n",
    "Now we will make use of python data analysis library __Pygal__ that makes attractive charts quickly. <br />\n",
    "We will now make a breakdown of route length in short, medium and long."
   ]
  },
  {
   "cell_type": "code",
   "execution_count": 14,
   "metadata": {
    "collapsed": true
   },
   "outputs": [],
   "source": [
    "long_routes = len([k for k in route_lengths if k > 10000]) / len(route_lengths)\n",
    "medium_routes = len([k for k in route_lengths if k < 10000 and k > 2000]) / len(route_lengths)\n",
    "short_routes = len([k for k in route_lengths if k < 2000]) / len(route_lengths)"
   ]
  },
  {
   "cell_type": "code",
   "execution_count": 15,
   "metadata": {},
   "outputs": [
    {
     "data": {
      "image/svg+xml": [
       "<svg class=\"pygal-chart\" id=\"chart-586da7d4-e911-466b-abf1-37d9fdaf455e\" viewBox=\"0 0 800 600\" xmlns=\"http://www.w3.org/2000/svg\" xmlns:xlink=\"http://www.w3.org/1999/xlink\"><!--Generated with pygal 2.4.0 (lxml) ©Kozea 2012-2016 on 2018-03-09--><!--http://pygal.org--><!--http://github.com/Kozea/pygal--><defs><style type=\"text/css\">#chart-586da7d4-e911-466b-abf1-37d9fdaf455e{-webkit-user-select:none;-webkit-font-smoothing:antialiased;font-family:Consolas,&quot;Liberation Mono&quot;,Menlo,Courier,monospace}#chart-586da7d4-e911-466b-abf1-37d9fdaf455e .title{font-family:Consolas,&quot;Liberation Mono&quot;,Menlo,Courier,monospace;font-size:16px}#chart-586da7d4-e911-466b-abf1-37d9fdaf455e .legends .legend text{font-family:Consolas,&quot;Liberation Mono&quot;,Menlo,Courier,monospace;font-size:14px}#chart-586da7d4-e911-466b-abf1-37d9fdaf455e .axis text{font-family:Consolas,&quot;Liberation Mono&quot;,Menlo,Courier,monospace;font-size:10px}#chart-586da7d4-e911-466b-abf1-37d9fdaf455e .axis text.major{font-family:Consolas,&quot;Liberation Mono&quot;,Menlo,Courier,monospace;font-size:10px}#chart-586da7d4-e911-466b-abf1-37d9fdaf455e .text-overlay text.value{font-family:Consolas,&quot;Liberation Mono&quot;,Menlo,Courier,monospace;font-size:16px}#chart-586da7d4-e911-466b-abf1-37d9fdaf455e .text-overlay text.label{font-family:Consolas,&quot;Liberation Mono&quot;,Menlo,Courier,monospace;font-size:10px}#chart-586da7d4-e911-466b-abf1-37d9fdaf455e .tooltip{font-family:Consolas,&quot;Liberation Mono&quot;,Menlo,Courier,monospace;font-size:14px}#chart-586da7d4-e911-466b-abf1-37d9fdaf455e text.no_data{font-family:Consolas,&quot;Liberation Mono&quot;,Menlo,Courier,monospace;font-size:64px}\n",
       "#chart-586da7d4-e911-466b-abf1-37d9fdaf455e{background-color:rgba(249,249,249,1)}#chart-586da7d4-e911-466b-abf1-37d9fdaf455e path,#chart-586da7d4-e911-466b-abf1-37d9fdaf455e line,#chart-586da7d4-e911-466b-abf1-37d9fdaf455e rect,#chart-586da7d4-e911-466b-abf1-37d9fdaf455e circle{-webkit-transition:150ms;-moz-transition:150ms;transition:150ms}#chart-586da7d4-e911-466b-abf1-37d9fdaf455e .graph &gt; .background{fill:rgba(249,249,249,1)}#chart-586da7d4-e911-466b-abf1-37d9fdaf455e .plot &gt; .background{fill:rgba(255,255,255,1)}#chart-586da7d4-e911-466b-abf1-37d9fdaf455e .graph{fill:rgba(0,0,0,.87)}#chart-586da7d4-e911-466b-abf1-37d9fdaf455e text.no_data{fill:rgba(0,0,0,1)}#chart-586da7d4-e911-466b-abf1-37d9fdaf455e .title{fill:rgba(0,0,0,1)}#chart-586da7d4-e911-466b-abf1-37d9fdaf455e .legends .legend text{fill:rgba(0,0,0,.87)}#chart-586da7d4-e911-466b-abf1-37d9fdaf455e .legends .legend:hover text{fill:rgba(0,0,0,1)}#chart-586da7d4-e911-466b-abf1-37d9fdaf455e .axis .line{stroke:rgba(0,0,0,1)}#chart-586da7d4-e911-466b-abf1-37d9fdaf455e .axis .guide.line{stroke:rgba(0,0,0,.54)}#chart-586da7d4-e911-466b-abf1-37d9fdaf455e .axis .major.line{stroke:rgba(0,0,0,.87)}#chart-586da7d4-e911-466b-abf1-37d9fdaf455e .axis text.major{fill:rgba(0,0,0,1)}#chart-586da7d4-e911-466b-abf1-37d9fdaf455e .axis.y .guides:hover .guide.line,#chart-586da7d4-e911-466b-abf1-37d9fdaf455e .line-graph .axis.x .guides:hover .guide.line,#chart-586da7d4-e911-466b-abf1-37d9fdaf455e .stackedline-graph .axis.x .guides:hover .guide.line,#chart-586da7d4-e911-466b-abf1-37d9fdaf455e .xy-graph .axis.x .guides:hover .guide.line{stroke:rgba(0,0,0,1)}#chart-586da7d4-e911-466b-abf1-37d9fdaf455e .axis .guides:hover text{fill:rgba(0,0,0,1)}#chart-586da7d4-e911-466b-abf1-37d9fdaf455e .reactive{fill-opacity:.7;stroke-opacity:.8}#chart-586da7d4-e911-466b-abf1-37d9fdaf455e .ci{stroke:rgba(0,0,0,.87)}#chart-586da7d4-e911-466b-abf1-37d9fdaf455e .reactive.active,#chart-586da7d4-e911-466b-abf1-37d9fdaf455e .active .reactive{fill-opacity:.8;stroke-opacity:.9;stroke-width:4}#chart-586da7d4-e911-466b-abf1-37d9fdaf455e .ci .reactive.active{stroke-width:1.5}#chart-586da7d4-e911-466b-abf1-37d9fdaf455e .series text{fill:rgba(0,0,0,1)}#chart-586da7d4-e911-466b-abf1-37d9fdaf455e .tooltip rect{fill:rgba(255,255,255,1);stroke:rgba(0,0,0,1);-webkit-transition:opacity 150ms;-moz-transition:opacity 150ms;transition:opacity 150ms}#chart-586da7d4-e911-466b-abf1-37d9fdaf455e .tooltip .label{fill:rgba(0,0,0,.87)}#chart-586da7d4-e911-466b-abf1-37d9fdaf455e .tooltip .label{fill:rgba(0,0,0,.87)}#chart-586da7d4-e911-466b-abf1-37d9fdaf455e .tooltip .legend{font-size:.8em;fill:rgba(0,0,0,.54)}#chart-586da7d4-e911-466b-abf1-37d9fdaf455e .tooltip .x_label{font-size:.6em;fill:rgba(0,0,0,1)}#chart-586da7d4-e911-466b-abf1-37d9fdaf455e .tooltip .xlink{font-size:.5em;text-decoration:underline}#chart-586da7d4-e911-466b-abf1-37d9fdaf455e .tooltip .value{font-size:1.5em}#chart-586da7d4-e911-466b-abf1-37d9fdaf455e .bound{font-size:.5em}#chart-586da7d4-e911-466b-abf1-37d9fdaf455e .max-value{font-size:.75em;fill:rgba(0,0,0,.54)}#chart-586da7d4-e911-466b-abf1-37d9fdaf455e .map-element{fill:rgba(255,255,255,1);stroke:rgba(0,0,0,.54) !important}#chart-586da7d4-e911-466b-abf1-37d9fdaf455e .map-element .reactive{fill-opacity:inherit;stroke-opacity:inherit}#chart-586da7d4-e911-466b-abf1-37d9fdaf455e .color-0,#chart-586da7d4-e911-466b-abf1-37d9fdaf455e .color-0 a:visited{stroke:#F44336;fill:#F44336}#chart-586da7d4-e911-466b-abf1-37d9fdaf455e .color-1,#chart-586da7d4-e911-466b-abf1-37d9fdaf455e .color-1 a:visited{stroke:#3F51B5;fill:#3F51B5}#chart-586da7d4-e911-466b-abf1-37d9fdaf455e .color-2,#chart-586da7d4-e911-466b-abf1-37d9fdaf455e .color-2 a:visited{stroke:#009688;fill:#009688}#chart-586da7d4-e911-466b-abf1-37d9fdaf455e .text-overlay .color-0 text{fill:black}#chart-586da7d4-e911-466b-abf1-37d9fdaf455e .text-overlay .color-1 text{fill:black}#chart-586da7d4-e911-466b-abf1-37d9fdaf455e .text-overlay .color-2 text{fill:black}\n",
       "#chart-586da7d4-e911-466b-abf1-37d9fdaf455e text.no_data{text-anchor:middle}#chart-586da7d4-e911-466b-abf1-37d9fdaf455e .guide.line{fill:none}#chart-586da7d4-e911-466b-abf1-37d9fdaf455e .centered{text-anchor:middle}#chart-586da7d4-e911-466b-abf1-37d9fdaf455e .title{text-anchor:middle}#chart-586da7d4-e911-466b-abf1-37d9fdaf455e .legends .legend text{fill-opacity:1}#chart-586da7d4-e911-466b-abf1-37d9fdaf455e .axis.x text{text-anchor:middle}#chart-586da7d4-e911-466b-abf1-37d9fdaf455e .axis.x:not(.web) text[transform]{text-anchor:start}#chart-586da7d4-e911-466b-abf1-37d9fdaf455e .axis.x:not(.web) text[transform].backwards{text-anchor:end}#chart-586da7d4-e911-466b-abf1-37d9fdaf455e .axis.y text{text-anchor:end}#chart-586da7d4-e911-466b-abf1-37d9fdaf455e .axis.y text[transform].backwards{text-anchor:start}#chart-586da7d4-e911-466b-abf1-37d9fdaf455e .axis.y2 text{text-anchor:start}#chart-586da7d4-e911-466b-abf1-37d9fdaf455e .axis.y2 text[transform].backwards{text-anchor:end}#chart-586da7d4-e911-466b-abf1-37d9fdaf455e .axis .guide.line{stroke-dasharray:4,4}#chart-586da7d4-e911-466b-abf1-37d9fdaf455e .axis .major.guide.line{stroke-dasharray:6,6}#chart-586da7d4-e911-466b-abf1-37d9fdaf455e .horizontal .axis.y .guide.line,#chart-586da7d4-e911-466b-abf1-37d9fdaf455e .horizontal .axis.y2 .guide.line,#chart-586da7d4-e911-466b-abf1-37d9fdaf455e .vertical .axis.x .guide.line{opacity:0}#chart-586da7d4-e911-466b-abf1-37d9fdaf455e .horizontal .axis.always_show .guide.line,#chart-586da7d4-e911-466b-abf1-37d9fdaf455e .vertical .axis.always_show .guide.line{opacity:1 !important}#chart-586da7d4-e911-466b-abf1-37d9fdaf455e .axis.y .guides:hover .guide.line,#chart-586da7d4-e911-466b-abf1-37d9fdaf455e .axis.y2 .guides:hover .guide.line,#chart-586da7d4-e911-466b-abf1-37d9fdaf455e .axis.x .guides:hover .guide.line{opacity:1}#chart-586da7d4-e911-466b-abf1-37d9fdaf455e .axis .guides:hover text{opacity:1}#chart-586da7d4-e911-466b-abf1-37d9fdaf455e .nofill{fill:none}#chart-586da7d4-e911-466b-abf1-37d9fdaf455e .subtle-fill{fill-opacity:.2}#chart-586da7d4-e911-466b-abf1-37d9fdaf455e .dot{stroke-width:1px;fill-opacity:1}#chart-586da7d4-e911-466b-abf1-37d9fdaf455e .dot.active{stroke-width:5px}#chart-586da7d4-e911-466b-abf1-37d9fdaf455e .dot.negative{fill:transparent}#chart-586da7d4-e911-466b-abf1-37d9fdaf455e text,#chart-586da7d4-e911-466b-abf1-37d9fdaf455e tspan{stroke:none !important}#chart-586da7d4-e911-466b-abf1-37d9fdaf455e .series text.active{opacity:1}#chart-586da7d4-e911-466b-abf1-37d9fdaf455e .tooltip rect{fill-opacity:.95;stroke-width:.5}#chart-586da7d4-e911-466b-abf1-37d9fdaf455e .tooltip text{fill-opacity:1}#chart-586da7d4-e911-466b-abf1-37d9fdaf455e .showable{visibility:hidden}#chart-586da7d4-e911-466b-abf1-37d9fdaf455e .showable.shown{visibility:visible}#chart-586da7d4-e911-466b-abf1-37d9fdaf455e .gauge-background{fill:rgba(229,229,229,1);stroke:none}#chart-586da7d4-e911-466b-abf1-37d9fdaf455e .bg-lines{stroke:rgba(249,249,249,1);stroke-width:2px}</style><script type=\"text/javascript\">window.pygal = window.pygal || {};window.pygal.config = window.pygal.config || {};window.pygal.config['586da7d4-e911-466b-abf1-37d9fdaf455e'] = {&quot;allow_interruptions&quot;: false, &quot;box_mode&quot;: &quot;extremes&quot;, &quot;classes&quot;: [&quot;pygal-chart&quot;], &quot;css&quot;: [&quot;file://style.css&quot;, &quot;file://graph.css&quot;], &quot;defs&quot;: [], &quot;disable_xml_declaration&quot;: false, &quot;dots_size&quot;: 2.5, &quot;dynamic_print_values&quot;: false, &quot;explicit_size&quot;: false, &quot;fill&quot;: false, &quot;force_uri_protocol&quot;: &quot;https&quot;, &quot;formatter&quot;: null, &quot;half_pie&quot;: false, &quot;height&quot;: 600, &quot;include_x_axis&quot;: false, &quot;inner_radius&quot;: 0, &quot;interpolate&quot;: null, &quot;interpolation_parameters&quot;: {}, &quot;interpolation_precision&quot;: 250, &quot;inverse_y_axis&quot;: false, &quot;js&quot;: [&quot;//kozea.github.io/pygal.js/2.0.x/pygal-tooltips.min.js&quot;], &quot;legend_at_bottom&quot;: false, &quot;legend_at_bottom_columns&quot;: null, &quot;legend_box_size&quot;: 12, &quot;logarithmic&quot;: false, &quot;margin&quot;: 20, &quot;margin_bottom&quot;: null, &quot;margin_left&quot;: null, &quot;margin_right&quot;: null, &quot;margin_top&quot;: null, &quot;max_scale&quot;: 16, &quot;min_scale&quot;: 4, &quot;missing_value_fill_truncation&quot;: &quot;x&quot;, &quot;no_data_text&quot;: &quot;No data&quot;, &quot;no_prefix&quot;: false, &quot;order_min&quot;: null, &quot;pretty_print&quot;: false, &quot;print_labels&quot;: false, &quot;print_values&quot;: false, &quot;print_values_position&quot;: &quot;center&quot;, &quot;print_zeroes&quot;: true, &quot;range&quot;: null, &quot;rounded_bars&quot;: null, &quot;secondary_range&quot;: null, &quot;show_dots&quot;: true, &quot;show_legend&quot;: true, &quot;show_minor_x_labels&quot;: true, &quot;show_minor_y_labels&quot;: true, &quot;show_only_major_dots&quot;: false, &quot;show_x_guides&quot;: true, &quot;show_x_labels&quot;: true, &quot;show_y_guides&quot;: false, &quot;show_y_labels&quot;: true, &quot;spacing&quot;: 10, &quot;stack_from_top&quot;: false, &quot;strict&quot;: false, &quot;stroke&quot;: true, &quot;stroke_style&quot;: null, &quot;style&quot;: {&quot;background&quot;: &quot;rgba(249, 249, 249, 1)&quot;, &quot;ci_colors&quot;: [], &quot;colors&quot;: [&quot;#F44336&quot;, &quot;#3F51B5&quot;, &quot;#009688&quot;, &quot;#FFC107&quot;, &quot;#FF5722&quot;, &quot;#9C27B0&quot;, &quot;#03A9F4&quot;, &quot;#8BC34A&quot;, &quot;#FF9800&quot;, &quot;#E91E63&quot;, &quot;#2196F3&quot;, &quot;#4CAF50&quot;, &quot;#FFEB3B&quot;, &quot;#673AB7&quot;, &quot;#00BCD4&quot;, &quot;#CDDC39&quot;, &quot;#9E9E9E&quot;, &quot;#607D8B&quot;], &quot;font_family&quot;: &quot;Consolas, \\&quot;Liberation Mono\\&quot;, Menlo, Courier, monospace&quot;, &quot;foreground&quot;: &quot;rgba(0, 0, 0, .87)&quot;, &quot;foreground_strong&quot;: &quot;rgba(0, 0, 0, 1)&quot;, &quot;foreground_subtle&quot;: &quot;rgba(0, 0, 0, .54)&quot;, &quot;guide_stroke_dasharray&quot;: &quot;4,4&quot;, &quot;label_font_family&quot;: &quot;Consolas, \\&quot;Liberation Mono\\&quot;, Menlo, Courier, monospace&quot;, &quot;label_font_size&quot;: 10, &quot;legend_font_family&quot;: &quot;Consolas, \\&quot;Liberation Mono\\&quot;, Menlo, Courier, monospace&quot;, &quot;legend_font_size&quot;: 14, &quot;major_guide_stroke_dasharray&quot;: &quot;6,6&quot;, &quot;major_label_font_family&quot;: &quot;Consolas, \\&quot;Liberation Mono\\&quot;, Menlo, Courier, monospace&quot;, &quot;major_label_font_size&quot;: 10, &quot;no_data_font_family&quot;: &quot;Consolas, \\&quot;Liberation Mono\\&quot;, Menlo, Courier, monospace&quot;, &quot;no_data_font_size&quot;: 64, &quot;opacity&quot;: &quot;.7&quot;, &quot;opacity_hover&quot;: &quot;.8&quot;, &quot;plot_background&quot;: &quot;rgba(255, 255, 255, 1)&quot;, &quot;stroke_opacity&quot;: &quot;.8&quot;, &quot;stroke_opacity_hover&quot;: &quot;.9&quot;, &quot;title_font_family&quot;: &quot;Consolas, \\&quot;Liberation Mono\\&quot;, Menlo, Courier, monospace&quot;, &quot;title_font_size&quot;: 16, &quot;tooltip_font_family&quot;: &quot;Consolas, \\&quot;Liberation Mono\\&quot;, Menlo, Courier, monospace&quot;, &quot;tooltip_font_size&quot;: 14, &quot;transition&quot;: &quot;150ms&quot;, &quot;value_background&quot;: &quot;rgba(229, 229, 229, 1)&quot;, &quot;value_colors&quot;: [], &quot;value_font_family&quot;: &quot;Consolas, \\&quot;Liberation Mono\\&quot;, Menlo, Courier, monospace&quot;, &quot;value_font_size&quot;: 16, &quot;value_label_font_family&quot;: &quot;Consolas, \\&quot;Liberation Mono\\&quot;, Menlo, Courier, monospace&quot;, &quot;value_label_font_size&quot;: 10}, &quot;title&quot;: &quot;Long, Medium and Short routes&quot;, &quot;tooltip_border_radius&quot;: 0, &quot;tooltip_fancy_mode&quot;: true, &quot;truncate_label&quot;: null, &quot;truncate_legend&quot;: null, &quot;width&quot;: 800, &quot;x_label_rotation&quot;: 0, &quot;x_labels&quot;: null, &quot;x_labels_major&quot;: null, &quot;x_labels_major_count&quot;: null, &quot;x_labels_major_every&quot;: null, &quot;x_title&quot;: null, &quot;xrange&quot;: null, &quot;y_label_rotation&quot;: 0, &quot;y_labels&quot;: null, &quot;y_labels_major&quot;: null, &quot;y_labels_major_count&quot;: null, &quot;y_labels_major_every&quot;: null, &quot;y_title&quot;: null, &quot;zero&quot;: 0, &quot;legends&quot;: [&quot;Long&quot;, &quot;Medium&quot;, &quot;Short&quot;]}</script><script type=\"text/javascript\" xlink:href=\"https://kozea.github.io/pygal.js/2.0.x/pygal-tooltips.min.js\"/></defs><title>Long, Medium and Short routes</title><g class=\"graph horizontalbar-graph horizontal\"><rect class=\"background\" height=\"600\" width=\"800\" x=\"0\" y=\"0\"/><g class=\"plot\" transform=\"translate(92, 46)\"><rect class=\"background\" height=\"514\" width=\"687.6\" x=\"0\" y=\"0\"/><g class=\"axis x always_show\"><g class=\"guides\"><path class=\"axis major line\" d=\"M13.223077 0.000000 v514.000000\"/><text class=\"major\" x=\"13.223076923076924\" y=\"529.0\">0</text></g><g class=\"guides\"><path class=\"guide line\" d=\"M103.818549 0.000000 v514.000000\"/><text class=\"\" x=\"103.81854908297903\" y=\"529.0\">10</text></g><g class=\"guides\"><path class=\"guide line\" d=\"M194.414021 0.000000 v514.000000\"/><text class=\"\" x=\"194.41402124288118\" y=\"529.0\">20</text></g><g class=\"guides\"><path class=\"guide line\" d=\"M285.009493 0.000000 v514.000000\"/><text class=\"\" x=\"285.0094934027832\" y=\"529.0\">30</text></g><g class=\"guides\"><path class=\"guide line\" d=\"M375.604966 0.000000 v514.000000\"/><text class=\"\" x=\"375.6049655626853\" y=\"529.0\">40</text></g><g class=\"guides\"><path class=\"major guide line\" d=\"M466.200438 0.000000 v514.000000\"/><text class=\"major\" x=\"466.2004377225874\" y=\"529.0\">50</text></g><g class=\"guides\"><path class=\"guide line\" d=\"M556.795910 0.000000 v514.000000\"/><text class=\"\" x=\"556.7959098824896\" y=\"529.0\">60</text></g><g class=\"guides\"><path class=\"guide line\" d=\"M647.391382 0.000000 v514.000000\"/><text class=\"\" x=\"647.3913820423917\" y=\"529.0\">70</text></g></g><g class=\"series serie-2 color-2\"><g class=\"bars\"><g class=\"bar\"><rect class=\"rect reactive tooltip-trigger\" height=\"127.5774358974359\" rx=\"0\" ry=\"0\" width=\"661.1538461538462\" x=\"13.223076923076974\" y=\"338.1856410256411\"/><desc class=\"value\">72.9786854</desc><desc class=\"x centered\">343.80000000000007</desc><desc class=\"y centered\">401.97435897435906</desc></g></g></g><g class=\"series serie-1 color-1\"><g class=\"bars\"><g class=\"bar\"><rect class=\"rect reactive tooltip-trigger\" height=\"127.5774358974359\" rx=\"0\" ry=\"0\" width=\"236.64264422096363\" x=\"13.223076923076917\" y=\"193.21128205128213\"/><desc class=\"value\">26.12080257</desc><desc class=\"x centered\">131.54439903355873</desc><desc class=\"y centered\">257.0000000000001</desc></g></g></g><g class=\"series serie-0 color-0\"><g class=\"bars\"><g class=\"bar\"><rect class=\"rect reactive tooltip-trigger\" height=\"127.5774358974359\" rx=\"0\" ry=\"0\" width=\"8.158231224211239\" x=\"13.223076923076924\" y=\"48.236923076923105\"/><desc class=\"value\">0.9005120267</desc><desc class=\"x centered\">17.30219253518254</desc><desc class=\"y centered\">112.02564102564105</desc></g></g></g></g><g class=\"titles\"><text class=\"title plot_title\" x=\"400.0\" y=\"26\">Long, Medium and Short routes</text></g><g class=\"plot overlay\" transform=\"translate(92, 46)\"><g class=\"series serie-2 color-2\"/><g class=\"series serie-1 color-1\"/><g class=\"series serie-0 color-0\"/></g><g class=\"plot text-overlay\" transform=\"translate(92, 46)\"><g class=\"series serie-2 color-2\"/><g class=\"series serie-1 color-1\"/><g class=\"series serie-0 color-0\"/></g><g class=\"plot tooltip-overlay\" transform=\"translate(92, 46)\"><g class=\"tooltip\" style=\"opacity: 0\" transform=\"translate(0 0)\"><rect class=\"tooltip-box\" height=\"0\" rx=\"0\" ry=\"0\" width=\"0\"/><g class=\"text\"/></g></g><g class=\"legends\" transform=\"translate(10, 56)\"><g class=\"legend reactive activate-serie\" id=\"activate-serie-0\"><rect class=\"color-0 reactive\" height=\"12\" width=\"12\" x=\"0.0\" y=\"1.0\"/><text x=\"17.0\" y=\"11.2\">Long</text></g><g class=\"legend reactive activate-serie\" id=\"activate-serie-1\"><rect class=\"color-1 reactive\" height=\"12\" width=\"12\" x=\"0.0\" y=\"22.0\"/><text x=\"17.0\" y=\"32.2\">Medium</text></g><g class=\"legend reactive activate-serie\" id=\"activate-serie-2\"><rect class=\"color-2 reactive\" height=\"12\" width=\"12\" x=\"0.0\" y=\"43.0\"/><text x=\"17.0\" y=\"53.2\">Short</text></g></g><g class=\"legends\" transform=\"translate(790, 56)\"/></g></svg>"
      ],
      "text/plain": [
       "<IPython.core.display.SVG object>"
      ]
     },
     "execution_count": 15,
     "metadata": {},
     "output_type": "execute_result"
    }
   ],
   "source": [
    "import pygal\n",
    "from IPython.display import SVG\n",
    "\n",
    "chart = pygal.HorizontalBar()\n",
    "chart.title = 'Long, Medium and Short routes'\n",
    "chart.add('Long', long_routes * 100)\n",
    "chart.add('Medium', medium_routes * 100)\n",
    "chart.add('Short', short_routes * 100)\n",
    "chart.render_to_file('routes_breakdown.svg')\n",
    "SVG(filename='routes_breakdown.svg')"
   ]
  },
  {
   "cell_type": "markdown",
   "metadata": {},
   "source": [
    "# Scatter Plot\n",
    "It enable us to compare columns of data."
   ]
  },
  {
   "cell_type": "code",
   "execution_count": 16,
   "metadata": {},
   "outputs": [
    {
     "data": {
      "text/plain": [
       "<matplotlib.collections.PathCollection at 0x7fad7e29b828>"
      ]
     },
     "execution_count": 16,
     "metadata": {},
     "output_type": "execute_result"
    },
    {
     "data": {
      "image/png": "[encoded data removed]",
      "text/plain": [
       "<matplotlib.figure.Figure at 0x7fad81ceddd8>"
      ]
     },
     "metadata": {},
     "output_type": "display_data"
    }
   ],
   "source": [
    "# Here, we make a simple scatter plot to compare airline id number to length of airline names\n",
    "\n",
    "name_lengths = airlines['name'].apply(lambda x: len(str(x)))\n",
    "plt.scatter(airlines['id'].astype(int), name_lengths)"
   ]
  },
  {
   "cell_type": "markdown",
   "metadata": {},
   "source": [
    "Let's verify using seaborn. <br />\n",
    "Seaborn has an augmented version of a scatterplot, a joint plot, that shows how correlated the two variables are, as well as the individual distributions of each."
   ]
  },
  {
   "cell_type": "code",
   "execution_count": 17,
   "metadata": {},
   "outputs": [
    {
     "data": {
      "text/plain": [
       "<seaborn.axisgrid.JointGrid at 0x7fad7e2edcf8>"
      ]
     },
     "execution_count": 17,
     "metadata": {},
     "output_type": "execute_result"
    },
    {
     "data": {
      "image/png": "[encoded data removed]",
      "text/plain": [
       "<matplotlib.figure.Figure at 0x7fad7e2edc18>"
      ]
     },
     "metadata": {},
     "output_type": "display_data"
    }
   ],
   "source": [
    "data = pd.DataFrame({'length':name_lengths, 'id':airlines['id'].astype(int)})\n",
    "sns.jointplot(x='id', y='length', data=data)"
   ]
  },
  {
   "cell_type": "markdown",
   "metadata": {},
   "source": [
    "The above plot shows that there isn't any real correlation between the two variables -- the r squared value is low."
   ]
  },
  {
   "cell_type": "markdown",
   "metadata": {},
   "source": [
    "# Static Maps"
   ]
  },
  {
   "cell_type": "code",
   "execution_count": 18,
   "metadata": {},
   "outputs": [
    {
     "name": "stderr",
     "output_type": "stream",
     "text": [
      "/home/vipul/DataScience/anaconda3/lib/python3.6/site-packages/mpl_toolkits/basemap/__init__.py:1623: MatplotlibDeprecationWarning: The get_axis_bgcolor function was deprecated in version 2.0. Use get_facecolor instead.\n",
      "  fill_color = ax.get_axis_bgcolor()\n",
      "/home/vipul/DataScience/anaconda3/lib/python3.6/site-packages/mpl_toolkits/basemap/__init__.py:1698: MatplotlibDeprecationWarning: The axesPatch function was deprecated in version 2.1. Use Axes.patch instead.\n",
      "  limb = ax.axesPatch\n",
      "/home/vipul/DataScience/anaconda3/lib/python3.6/site-packages/mpl_toolkits/basemap/__init__.py:3222: MatplotlibDeprecationWarning: The ishold function was deprecated in version 2.0.\n",
      "  b = ax.ishold()\n",
      "/home/vipul/DataScience/anaconda3/lib/python3.6/site-packages/mpl_toolkits/basemap/__init__.py:3231: MatplotlibDeprecationWarning: axes.hold is deprecated.\n",
      "    See the API Changes document (http://matplotlib.org/api/api_changes.html)\n",
      "    for more details.\n",
      "  ax.hold(b)\n"
     ]
    },
    {
     "data": {
      "text/plain": [
       "<matplotlib.collections.PathCollection at 0x7fad7d265908>"
      ]
     },
     "execution_count": 18,
     "metadata": {},
     "output_type": "execute_result"
    },
    {
     "data": {
      "image/png": "[encoded data removed]",
      "text/plain": [
       "<matplotlib.figure.Figure at 0x7fad7e173400>"
      ]
     },
     "metadata": {},
     "output_type": "display_data"
    }
   ],
   "source": [
    "from mpl_toolkits.basemap import Basemap\n",
    "\n",
    "# Create a map\n",
    "m = Basemap(projection='merc', llcrnrlat=-80, urcrnrlat=80,\n",
    "            llcrnrlon=-180, urcrnrlon=180, lat_ts=20, resolution='c')\n",
    "m.drawcoastlines()\n",
    "m.drawmapboundary()\n",
    "\n",
    "# Convert latitude and longitude to x and y coordinate\n",
    "x, y = m(list(airport['longitude'].astype(float)), list(airport['latitude'].astype(float)))\n",
    "m.scatter(x, y, marker='o',color='red')"
   ]
  }
 ],
 "metadata": {
  "kernelspec": {
   "display_name": "Python 3",
   "language": "python",
   "name": "python3"
  },
  "language_info": {
   "codemirror_mode": {
    "name": "ipython",
    "version": 3
   },
   "file_extension": ".py",
   "mimetype": "text/x-python",
   "name": "python",
   "nbconvert_exporter": "python",
   "pygments_lexer": "ipython3",
   "version": "3.6.3"
  }
 },
 "nbformat": 4,
 "nbformat_minor": 2
}
