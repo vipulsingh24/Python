{
 "cells": [
  {
   "cell_type": "code",
   "execution_count": 2,
   "metadata": {},
   "outputs": [
    {
     "name": "stdout",
     "output_type": "stream",
     "text": [
      "Success\n"
     ]
    }
   ],
   "source": [
    "import sqlite3\n",
    "\n",
    "# Connects to an existing database,\n",
    "# IF DB doesn't exist then it will be created.\n",
    "\n",
    "conn = sqlite3.connect('test.db')\n",
    "print('Success')"
   ]
  },
  {
   "cell_type": "markdown",
   "metadata": {},
   "source": [
    "# Create a Table"
   ]
  },
  {
   "cell_type": "code",
   "execution_count": 4,
   "metadata": {},
   "outputs": [
    {
     "name": "stdout",
     "output_type": "stream",
     "text": [
      "Table created successfully\n"
     ]
    }
   ],
   "source": [
    "conn.execute('CREATE TABLE EMP(ID INT PRIMARY KEY NOT NULL,\\\n",
    "                                NAME TEXT NOT NULL,\\\n",
    "                                AGE INT NOT NULL,\\\n",
    "                                ADDRESS CHAR(50),\\\n",
    "                                SALARY REAL);')\n",
    "print('Table created successfully')"
   ]
  },
  {
   "cell_type": "markdown",
   "metadata": {},
   "source": [
    "# Insert data "
   ]
  },
  {
   "cell_type": "code",
   "execution_count": 12,
   "metadata": {},
   "outputs": [
    {
     "data": {
      "text/plain": [
       "<sqlite3.Cursor at 0x213344a8730>"
      ]
     },
     "execution_count": 12,
     "metadata": {},
     "output_type": "execute_result"
    }
   ],
   "source": [
    "conn.execute(\"INSERT INTO EMP(ID, NAME, AGE, ADDRESS, SALARY)\\\n",
    "              VALUES (1, 'VIPUL', 22, 'Mumbai', 1000)\")\n",
    "conn.execute(\"INSERT INTO EMP(ID, NAME, AGE, ADDRESS, SALARY)\\\n",
    "              VALUES (2, 'AAKASH', 22, 'Pune', 2000)\")\n",
    "conn.execute(\"INSERT INTO EMP(ID, NAME, AGE, ADDRESS, SALARY)\\\n",
    "              VALUES (3, 'Anuj', 23, 'Ahmedabad', 3000)\")\n",
    "conn.execute(\"INSERT INTO EMP(ID, NAME, AGE, ADDRESS, SALARY)\\\n",
    "              VALUES (4, 'Rahul', 22, 'Chennai', 4000)\")\n",
    "conn.execute(\"INSERT INTO EMP(ID, NAME, AGE, ADDRESS, SALARY)\\\n",
    "              VALUES (5, 'Prathamesh', 22, 'Goa', 5000)\")"
   ]
  },
  {
   "cell_type": "markdown",
   "metadata": {},
   "source": [
    "# Select Operation"
   ]
  },
  {
   "cell_type": "code",
   "execution_count": 17,
   "metadata": {},
   "outputs": [
    {
     "name": "stdout",
     "output_type": "stream",
     "text": [
      "ID =  1\n",
      "NAME =  VIPUL\n",
      "AGE =  22\n",
      "ADDRESS =  Mumbai\n",
      "SALARY =  1000.0 \n",
      "\n",
      "ID =  2\n",
      "NAME =  AAKASH\n",
      "AGE =  22\n",
      "ADDRESS =  Pune\n",
      "SALARY =  2000.0 \n",
      "\n",
      "ID =  3\n",
      "NAME =  Anuj\n",
      "AGE =  23\n",
      "ADDRESS =  Ahmedabad\n",
      "SALARY =  3000.0 \n",
      "\n",
      "ID =  4\n",
      "NAME =  Rahul\n",
      "AGE =  22\n",
      "ADDRESS =  Chennai\n",
      "SALARY =  4000.0 \n",
      "\n",
      "ID =  5\n",
      "NAME =  Prathamesh\n",
      "AGE =  22\n",
      "ADDRESS =  Goa\n",
      "SALARY =  5000.0 \n",
      "\n"
     ]
    }
   ],
   "source": [
    "query = conn.execute('SELECT * FROM EMP')\n",
    "for row in query:\n",
    "    print('ID = ', row[0])\n",
    "    print('NAME = ', row[1])\n",
    "    print('AGE = ', row[2])\n",
    "    print('ADDRESS = ', row[3])    \n",
    "    print('SALARY = ', row[4], '\\n')"
   ]
  },
  {
   "cell_type": "markdown",
   "metadata": {},
   "source": [
    "Or you can use pandas dataframe"
   ]
  },
  {
   "cell_type": "code",
   "execution_count": 14,
   "metadata": {},
   "outputs": [
    {
     "name": "stdout",
     "output_type": "stream",
     "text": [
      "   ID        NAME  AGE    ADDRESS  SALARY\n",
      "0   1       VIPUL   22     Mumbai  1000.0\n",
      "1   2      AAKASH   22       Pune  2000.0\n",
      "2   3        Anuj   23  Ahmedabad  3000.0\n",
      "3   4       Rahul   22    Chennai  4000.0\n",
      "4   5  Prathamesh   22        Goa  5000.0\n"
     ]
    }
   ],
   "source": [
    "import pandas as pd\n",
    "print(pd.read_sql_query('SELECT * FROM EMP', conn))"
   ]
  },
  {
   "cell_type": "markdown",
   "metadata": {},
   "source": [
    "# Update Operation"
   ]
  },
  {
   "cell_type": "code",
   "execution_count": 19,
   "metadata": {},
   "outputs": [
    {
     "name": "stdout",
     "output_type": "stream",
     "text": [
      "   ID        NAME  AGE    ADDRESS   SALARY\n",
      "0   1       VIPUL   22     Mumbai  10000.0\n",
      "1   2      AAKASH   22       Pune   2000.0\n",
      "2   3        Anuj   23  Ahmedabad   3000.0\n",
      "3   4       Rahul   22    Chennai   4000.0\n",
      "4   5  Prathamesh   22        Goa   5000.0\n"
     ]
    }
   ],
   "source": [
    "conn.execute('UPDATE EMP SET SALARY=10000 WHERE ID=1')\n",
    "conn.commit\n",
    "# print('Total changes / row updated ', conn.total_changes)\n",
    "\n",
    "print(pd.read_sql_query('SELECT * FROM EMP', conn))"
   ]
  },
  {
   "cell_type": "markdown",
   "metadata": {},
   "source": [
    "# Delete Operation"
   ]
  },
  {
   "cell_type": "code",
   "execution_count": 21,
   "metadata": {},
   "outputs": [
    {
     "name": "stdout",
     "output_type": "stream",
     "text": [
      "   ID    NAME  AGE    ADDRESS   SALARY\n",
      "0   1   VIPUL   22     Mumbai  10000.0\n",
      "1   2  AAKASH   22       Pune   2000.0\n",
      "2   3    Anuj   23  Ahmedabad   3000.0\n",
      "3   4   Rahul   22    Chennai   4000.0\n"
     ]
    }
   ],
   "source": [
    "conn.execute('DELETE FROM EMP WHERE ID=5;')\n",
    "conn.commit\n",
    "# print('Total rows deleted: ', conn.total_changes)\n",
    "\n",
    "print(pd.read_sql_query('SELECT * FROM EMP', conn))"
   ]
  },
  {
   "cell_type": "code",
   "execution_count": null,
   "metadata": {
    "collapsed": true
   },
   "outputs": [],
   "source": []
  }
 ],
 "metadata": {
  "kernelspec": {
   "display_name": "Python 3",
   "language": "python",
   "name": "python3"
  },
  "language_info": {
   "codemirror_mode": {
    "name": "ipython",
    "version": 3
   },
   "file_extension": ".py",
   "mimetype": "text/x-python",
   "name": "python",
   "nbconvert_exporter": "python",
   "pygments_lexer": "ipython3",
   "version": "3.6.1"
  }
 },
 "nbformat": 4,
 "nbformat_minor": 2
}
