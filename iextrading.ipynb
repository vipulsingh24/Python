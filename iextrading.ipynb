{
 "cells": [
  {
   "cell_type": "code",
   "execution_count": 1,
   "metadata": {
    "collapsed": true
   },
   "outputs": [],
   "source": [
    "import json\n",
    "import requests\n",
    "import pandas as pd\n",
    "import matplotlib.pyplot as plt\n",
    "import seaborn as sns\n",
    "%matplotlib inline"
   ]
  },
  {
   "cell_type": "code",
   "execution_count": 2,
   "metadata": {
    "collapsed": true
   },
   "outputs": [],
   "source": [
    "api_url_base = 'https://api.iextrading.com/1.0'"
   ]
  },
  {
   "cell_type": "code",
   "execution_count": 3,
   "metadata": {
    "collapsed": true
   },
   "outputs": [],
   "source": [
    "def get_data():\n",
    "    api_url = '{0}/stock/market/batch?symbols=aapl,fb,goog,nflx,amzn&types=chart&range=2y&last=1'\\\n",
    "    .format(api_url_base)\n",
    "    response = requests.get(api_url)\n",
    "    \n",
    "    if response.status_code == 200:\n",
    "        return json.loads(response.content.decode('utf-8'))\n",
    "    else:\n",
    "        return None"
   ]
  },
  {
   "cell_type": "code",
   "execution_count": 4,
   "metadata": {
    "collapsed": true
   },
   "outputs": [],
   "source": [
    "data = get_data()"
   ]
  },
  {
   "cell_type": "code",
   "execution_count": 5,
   "metadata": {},
   "outputs": [
    {
     "data": {
      "text/plain": [
       "dict_keys(['AAPL', 'FB', 'GOOG', 'NFLX', 'AMZN'])"
      ]
     },
     "execution_count": 5,
     "metadata": {},
     "output_type": "execute_result"
    }
   ],
   "source": [
    "data.keys()"
   ]
  },
  {
   "cell_type": "code",
   "execution_count": 6,
   "metadata": {
    "collapsed": true
   },
   "outputs": [],
   "source": [
    "companies = [*data] # Return the keys i.e, company ticker symbol"
   ]
  },
  {
   "cell_type": "code",
   "execution_count": 7,
   "metadata": {},
   "outputs": [
    {
     "data": {
      "text/plain": [
       "['AAPL', 'FB', 'GOOG', 'NFLX', 'AMZN']"
      ]
     },
     "execution_count": 7,
     "metadata": {},
     "output_type": "execute_result"
    }
   ],
   "source": [
    "companies"
   ]
  },
  {
   "cell_type": "code",
   "execution_count": 8,
   "metadata": {
    "collapsed": true
   },
   "outputs": [],
   "source": [
    "for c in companies:\n",
    "    exec(\"df_{} = pd.DataFrame(data[c]['chart'])\".format(c))\n",
    "    exec(\"df_{0} = df_{0}[(df_{0}['date'] > '2016-12-31') & (df_{0}['date'] < '2018-01-01')]\".format(c))\n",
    "    exec(\"df_{0} = df_{0}.reset_index(drop=True).set_index('date')\".format(c))"
   ]
  },
  {
   "cell_type": "code",
   "execution_count": 9,
   "metadata": {},
   "outputs": [
    {
     "name": "stdout",
     "output_type": "stream",
     "text": [
      "Apple  (251, 11)\n",
      "Google:  (251, 11)\n",
      "Facebook (251, 11)\n",
      "NetFlix:  (251, 11)\n",
      "Amazon:  (251, 11)\n"
     ]
    }
   ],
   "source": [
    "print('Apple ', df_AAPL.shape)\n",
    "print('Google: ', df_GOOG.shape)\n",
    "print('Facebook', df_FB.shape)\n",
    "print('NetFlix: ', df_NFLX.shape)\n",
    "print('Amazon: ', df_AMZN.shape)"
   ]
  },
  {
   "cell_type": "code",
   "execution_count": 13,
   "metadata": {},
   "outputs": [
    {
     "data": {
      "text/html": [
       "<div>\n",
       "<style>\n",
       "    .dataframe thead tr:only-child th {\n",
       "        text-align: right;\n",
       "    }\n",
       "\n",
       "    .dataframe thead th {\n",
       "        text-align: left;\n",
       "    }\n",
       "\n",
       "    .dataframe tbody tr th {\n",
       "        vertical-align: top;\n",
       "    }\n",
       "</style>\n",
       "<table border=\"1\" class=\"dataframe\">\n",
       "  <thead>\n",
       "    <tr style=\"text-align: right;\">\n",
       "      <th></th>\n",
       "      <th>change</th>\n",
       "      <th>changeOverTime</th>\n",
       "      <th>changePercent</th>\n",
       "      <th>close</th>\n",
       "      <th>high</th>\n",
       "      <th>label</th>\n",
       "      <th>low</th>\n",
       "      <th>open</th>\n",
       "      <th>unadjustedVolume</th>\n",
       "      <th>volume</th>\n",
       "      <th>vwap</th>\n",
       "    </tr>\n",
       "    <tr>\n",
       "      <th>date</th>\n",
       "      <th></th>\n",
       "      <th></th>\n",
       "      <th></th>\n",
       "      <th></th>\n",
       "      <th></th>\n",
       "      <th></th>\n",
       "      <th></th>\n",
       "      <th></th>\n",
       "      <th></th>\n",
       "      <th></th>\n",
       "      <th></th>\n",
       "    </tr>\n",
       "  </thead>\n",
       "  <tbody>\n",
       "    <tr>\n",
       "      <th>2017-01-03</th>\n",
       "      <td>0.322217</td>\n",
       "      <td>0.208345</td>\n",
       "      <td>0.285</td>\n",
       "      <td>113.4101</td>\n",
       "      <td>113.5859</td>\n",
       "      <td>Jan 3, 17</td>\n",
       "      <td>112.0529</td>\n",
       "      <td>113.0684</td>\n",
       "      <td>28781865</td>\n",
       "      <td>28781865</td>\n",
       "      <td>112.8564</td>\n",
       "    </tr>\n",
       "    <tr>\n",
       "      <th>2017-01-04</th>\n",
       "      <td>-0.126933</td>\n",
       "      <td>0.206993</td>\n",
       "      <td>-0.112</td>\n",
       "      <td>113.2832</td>\n",
       "      <td>113.7617</td>\n",
       "      <td>Jan 4, 17</td>\n",
       "      <td>113.0196</td>\n",
       "      <td>113.1172</td>\n",
       "      <td>21118116</td>\n",
       "      <td>21118116</td>\n",
       "      <td>113.3846</td>\n",
       "    </tr>\n",
       "    <tr>\n",
       "      <th>2017-01-05</th>\n",
       "      <td>0.576082</td>\n",
       "      <td>0.213131</td>\n",
       "      <td>0.509</td>\n",
       "      <td>113.8593</td>\n",
       "      <td>114.1075</td>\n",
       "      <td>Jan 5, 17</td>\n",
       "      <td>113.0782</td>\n",
       "      <td>113.1856</td>\n",
       "      <td>22193587</td>\n",
       "      <td>22193587</td>\n",
       "      <td>113.7013</td>\n",
       "    </tr>\n",
       "    <tr>\n",
       "      <th>2017-01-06</th>\n",
       "      <td>1.269300</td>\n",
       "      <td>0.226655</td>\n",
       "      <td>1.115</td>\n",
       "      <td>115.1286</td>\n",
       "      <td>115.3727</td>\n",
       "      <td>Jan 6, 17</td>\n",
       "      <td>113.7226</td>\n",
       "      <td>114.0253</td>\n",
       "      <td>31751900</td>\n",
       "      <td>31751900</td>\n",
       "      <td>114.9421</td>\n",
       "    </tr>\n",
       "    <tr>\n",
       "      <th>2017-01-09</th>\n",
       "      <td>1.054500</td>\n",
       "      <td>0.237892</td>\n",
       "      <td>0.916</td>\n",
       "      <td>116.1832</td>\n",
       "      <td>116.6128</td>\n",
       "      <td>Jan 9, 17</td>\n",
       "      <td>115.1579</td>\n",
       "      <td>115.1677</td>\n",
       "      <td>33561948</td>\n",
       "      <td>33561948</td>\n",
       "      <td>116.1630</td>\n",
       "    </tr>\n",
       "  </tbody>\n",
       "</table>\n",
       "</div>"
      ],
      "text/plain": [
       "              change  changeOverTime  changePercent     close      high  \\\n",
       "date                                                                      \n",
       "2017-01-03  0.322217        0.208345          0.285  113.4101  113.5859   \n",
       "2017-01-04 -0.126933        0.206993         -0.112  113.2832  113.7617   \n",
       "2017-01-05  0.576082        0.213131          0.509  113.8593  114.1075   \n",
       "2017-01-06  1.269300        0.226655          1.115  115.1286  115.3727   \n",
       "2017-01-09  1.054500        0.237892          0.916  116.1832  116.6128   \n",
       "\n",
       "                label       low      open  unadjustedVolume    volume  \\\n",
       "date                                                                    \n",
       "2017-01-03  Jan 3, 17  112.0529  113.0684          28781865  28781865   \n",
       "2017-01-04  Jan 4, 17  113.0196  113.1172          21118116  21118116   \n",
       "2017-01-05  Jan 5, 17  113.0782  113.1856          22193587  22193587   \n",
       "2017-01-06  Jan 6, 17  113.7226  114.0253          31751900  31751900   \n",
       "2017-01-09  Jan 9, 17  115.1579  115.1677          33561948  33561948   \n",
       "\n",
       "                vwap  \n",
       "date                  \n",
       "2017-01-03  112.8564  \n",
       "2017-01-04  113.3846  \n",
       "2017-01-05  113.7013  \n",
       "2017-01-06  114.9421  \n",
       "2017-01-09  116.1630  "
      ]
     },
     "execution_count": 13,
     "metadata": {},
     "output_type": "execute_result"
    }
   ],
   "source": [
    "df_AAPL.head()"
   ]
  },
  {
   "cell_type": "code",
   "execution_count": 29,
   "metadata": {},
   "outputs": [
    {
     "data": {
      "image/png": "[encoded data removed]",
      "text/plain": [
       "<matplotlib.figure.Figure at 0x7fb88adf27f0>"
      ]
     },
     "metadata": {},
     "output_type": "display_data"
    }
   ],
   "source": [
    "import matplotlib.dates as mdates\n",
    "\n",
    "years = mdates.YearLocator()\n",
    "months = mdates.MonthLocator()\n",
    "yearsFmt = mdates.DateFormatter('%b')\n",
    "\n",
    "df_AAPL.index = pd.to_datetime(df_AAPL.index)\n",
    "\n",
    "fig, ax = plt.subplots()\n",
    "ax.plot(df_AAPL.index, df_AAPL['vwap'])\n",
    "# ax.plot(df_GOOG.index, df_GOOG['vwap'])\n",
    "# ax.plot(df_FB.index, df_FB['vwap'])\n",
    "# ax.plot(df_NFLX.index, df_NFLX['vwap'])\n",
    "# ax.plot(df_AMZN.index, df_AMZN['vwap'])\n",
    "\n",
    "ax.xaxis.set_major_locator(months)\n",
    "ax.xaxis.set_major_formatter(yearsFmt)\n",
    "ax.xaxis.set_minor_locator(years)\n",
    "\n",
    "datemin = min(df_AAPL.index)\n",
    "datemax = max(df_AAPL.index)\n",
    "ax.set_xlim(datemin, datemax)\n",
    "ax.format_xdata = mdates.DateFormatter('%Y-%m-%d')\n",
    "ax.set_xlabel('Dates(Month)')\n",
    "ax.set_ylabel('Price')\n",
    "ax.set_title('Price of each stock')\n",
    "ax.legend()\n",
    "ax.grid(True)\n",
    "\n",
    "fig.autofmt_xdate()\n",
    "plt.show()"
   ]
  },
  {
   "cell_type": "code",
   "execution_count": null,
   "metadata": {
    "collapsed": true
   },
   "outputs": [],
   "source": []
  }
 ],
 "metadata": {
  "kernelspec": {
   "display_name": "Python 3",
   "language": "python",
   "name": "python3"
  },
  "language_info": {
   "codemirror_mode": {
    "name": "ipython",
    "version": 3
   },
   "file_extension": ".py",
   "mimetype": "text/x-python",
   "name": "python",
   "nbconvert_exporter": "python",
   "pygments_lexer": "ipython3",
   "version": "3.6.3"
  }
 },
 "nbformat": 4,
 "nbformat_minor": 2
}
